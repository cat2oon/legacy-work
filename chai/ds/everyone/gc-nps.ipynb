{
 "cells": [
  {
   "cell_type": "markdown",
   "metadata": {},
   "source": [
    "# Everyone 데이터 변환"
   ]
  },
  {
   "cell_type": "code",
   "execution_count": 1,
   "metadata": {},
   "outputs": [],
   "source": [
    "from everyone_ds import *\n",
    "np.set_printoptions(suppress=True)"
   ]
  },
  {
   "cell_type": "markdown",
   "metadata": {},
   "source": [
    "# 경로 설정"
   ]
  },
  {
   "cell_type": "code",
   "execution_count": 2,
   "metadata": {},
   "outputs": [],
   "source": [
    "def path_of(*sub_path):\n",
    "    BASE_PATH = \"/home/elvin/banner/mnt/ssd3/\"\n",
    "    return os.path.join(BASE_PATH, *sub_path)\n",
    "\n",
    "nps_out_path = path_of(\"nps\")\n",
    "npz_root_path = path_of(\"everyone-npz\")\n",
    "face_model_path = path_of('faze-resources', 'sfm_face_coordinates.npy')\n",
    "supple_path = path_of('faze-resources', 'gs.h5')\n",
    "supple_dir_path = path_of('nps', 'supply-pickle')\n",
    "\n",
    "npz_paths = grep_files(npz_root_path, \"*.npz\")\n",
    "face_model = np.load(face_model_path)\n",
    "# supply = load_supplymentary(supple_path)"
   ]
  },
  {
   "cell_type": "markdown",
   "metadata": {},
   "source": [
    "# Recode Metas"
   ]
  },
  {
   "cell_type": "code",
   "execution_count": 3,
   "metadata": {},
   "outputs": [],
   "source": [
    "norm_spec = {\n",
    "    'distance': 600,\n",
    "    'focal_length': 1300,\n",
    "    'size_wh': (256, 128),\n",
    "}"
   ]
  },
  {
   "cell_type": "code",
   "execution_count": 4,
   "metadata": {},
   "outputs": [],
   "source": [
    "# recode_all_meta(nps_out_path, npz_paths, supple_dir_path, face_model_path, norm_spec)"
   ]
  },
  {
   "cell_type": "markdown",
   "metadata": {},
   "source": [
    "# Create Summary"
   ]
  },
  {
   "cell_type": "code",
   "execution_count": 10,
   "metadata": {},
   "outputs": [],
   "source": [
    "# recode_all_summary(nps_out_path, npz_paths)"
   ]
  },
  {
   "cell_type": "markdown",
   "metadata": {},
   "source": [
    "# Visualize"
   ]
  },
  {
   "cell_type": "code",
   "execution_count": 7,
   "metadata": {},
   "outputs": [],
   "source": [
    "# visualize_profile(npz_paths, nps_out_path, '00002', 16)"
   ]
  }
 ],
 "metadata": {
  "kernelspec": {
   "display_name": "Python 3",
   "language": "python",
   "name": "python3"
  },
  "language_info": {
   "codemirror_mode": {
    "name": "ipython",
    "version": 3
   },
   "file_extension": ".py",
   "mimetype": "text/x-python",
   "name": "python",
   "nbconvert_exporter": "python",
   "pygments_lexer": "ipython3",
   "version": "3.6.9"
  }
 },
 "nbformat": 4,
 "nbformat_minor": 4
}
