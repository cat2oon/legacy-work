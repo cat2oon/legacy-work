{
 "cells": [
  {
   "cell_type": "markdown",
   "metadata": {},
   "source": [
    "# everyone 데이터셋 변환\n",
    "\n",
    "- 데이터 수집 프로젝트 : https://github.com/CSAILVision/GazeCapture\n",
    "\n",
    "``` python\n",
    "### 프로파일 아이템으로 등록 가능한 것들 <6 항목>\n",
    "# frame.json <FrameNames>\n",
    "# 97개 프레임 파일명 filename.jpg 리스트\n",
    "\n",
    "# appleFace.json <Face>\n",
    "# dict_keys(['H', 'W', 'X', 'Y', 'IsValid']\n",
    "# 97개 얼굴 자르기 위해 필요한 좌표 및 박스 크기\n",
    "\n",
    "# facegrid.json <Grid>\n",
    "# 97개 아이템 dict_keys(['X', 'Y', 'W', 'H', 'IsValid']) \n",
    "# 전체 이미지에서 얼굴이 어느 그리드에 속하는지 정보\n",
    "\n",
    "# appleRight,LeftEye.json <Eye) \n",
    "# 97개 아이템 dict_keys(['H', 'W', 'X', 'Y', 'IsValid'])\n",
    "# 눈 영역 자르기 위한 좌표 및 박스 크기\n",
    "\n",
    "# DotInfo.json (TargetDot)\n",
    "# 97개 아이템 dict_keys(['DotNum', 'XPts', 'YPts', 'XCam', 'YCam', 'Time'])\n",
    "# 타겟점 정보\n",
    "\n",
    "# screen.js <Screen>\n",
    "# 97개 아이템  dict_keys(['H', 'W', 'Orientation{1~4}'])\n",
    "# 단위는 프로젝트 링크 참조\n",
    "\n",
    "### 그 외 <2 항목>\n",
    "# motion.json <Motion>\n",
    "# 765개 아이템 : dict_keys(['GravityX', 'UserAcceleration', 'AttitudeRotationMatrix', 'AttitudePitch', 'Time', 'AttitudeQuaternion', 'AttitudeRoll', 'RotationRate', 'AttitudeYaw', 'DotNum'])\n",
    "# 필터없는 전체 버전인 듯, 중력 센서 등등\n",
    "\n",
    "# info.json <ProfileSummary>\n",
    "# 1개 고유템 dict_keys(['TotalFrames', 'NumFaceDetections', 'NumEyeDetections', 'Dataset', 'DeviceName'])\n",
    "# 프로파일 정보\n",
    "```"
   ]
  },
  {
   "cell_type": "markdown",
   "metadata": {},
   "source": [
    "## 데이터셋 루트 경로 체크"
   ]
  },
  {
   "cell_type": "code",
   "execution_count": 1,
   "metadata": {},
   "outputs": [],
   "source": [
    "DATASET_ROOT = \"E:\\\\everyone\\\\\""
   ]
  },
  {
   "cell_type": "code",
   "execution_count": null,
   "metadata": {},
   "outputs": [],
   "source": [
    "profile_dirs = os.listdir(DATASET_ROOT)"
   ]
  },
  {
   "cell_type": "code",
   "execution_count": null,
   "metadata": {},
   "outputs": [],
   "source": [
    "print(profile_dirs[:5])"
   ]
  },
  {
   "cell_type": "markdown",
   "metadata": {},
   "source": [
    "## 특정 profile 픽"
   ]
  },
  {
   "cell_type": "code",
   "execution_count": null,
   "metadata": {},
   "outputs": [],
   "source": [
    "profile_path = os.path.join(DATASET_ROOT, profile_dirs[5])\n",
    "print(profile_path)"
   ]
  },
  {
   "cell_type": "markdown",
   "metadata": {},
   "source": [
    "## 프로파일 Raw 데이터 로드"
   ]
  },
  {
   "cell_type": "code",
   "execution_count": null,
   "metadata": {},
   "outputs": [],
   "source": [
    "def load_profile_dir(profile_path):\n",
    "    files = os.listdir(profile_path)\n",
    "    json_paths = [os.path.abspath(os.path.join(profile_path, f)) for f in files if os.path.splitext(f)[1] == '.json']\n",
    "    # print(files)\n",
    "    # print(\"num:\", len(json_paths), json_paths)\n",
    "\n",
    "    face_path = next(path for path in json_paths if 'appleFace' in path)\n",
    "    frame_name_path = next(path for path in json_paths if 'frame' in path)\n",
    "    grid_path = next(path for path in json_paths if 'faceGrid' in path)\n",
    "    left_eye_path = next(path for path in json_paths if 'appleLeftEye' in path)\n",
    "    right_eye_path = next(path for path in json_paths if 'appleRightEye' in path)\n",
    "    dot_info_path = next(path for path in json_paths if 'dotInfo' in path)\n",
    "    screen_path = next(path for path in json_paths if 'screen' in path)\n",
    "    info_path = next(path for path in json_paths if 'info' in path)\n",
    "    motion_path = next(path for path in json_paths if 'motion' in path)\n",
    "    \n",
    "    # Load json\n",
    "    with open(frame_name_path, 'r') as data:\n",
    "        frame_names = json.load(data)\n",
    "    with open(face_path, 'r') as data:\n",
    "        face_js = json.load(data)\n",
    "    with open(grid_path, 'r') as data:\n",
    "        grid_js = json.load(data)\n",
    "    with open(left_eye_path, 'r') as data:\n",
    "        left_js = json.load(data)\n",
    "    with open(right_eye_path, 'r') as data:\n",
    "        right_js = json.load(data)\n",
    "    with open(dot_info_path, 'r') as data:\n",
    "        dot_js = json.load(data)\n",
    "    with open(screen_path, 'r') as data:\n",
    "        screen_js = json.load(data)\n",
    "    with open(info_path, 'r') as data:\n",
    "        info_js = json.load(data)\n",
    "    with open(motion_path, 'r') as data:\n",
    "        motion_js = json.load(data)\n",
    "    \n",
    "    # load images (jpeg encoded binary)\n",
    "    frames = []\n",
    "    for frame_name in frame_names:\n",
    "        frame_path = os.path.join(profile_path, 'frames', frame_name)\n",
    "        frame = bytearray()\n",
    "        try: \n",
    "            frame = open(frame_path, 'rb').read()\n",
    "        except:\n",
    "            print(\">>> exception when load frame image at \", frame_path)\n",
    "        frames.append(frame)\n",
    "    \n",
    "    raw_dataset = {\n",
    "        'profile_id': os.path.split(profile_path)[-1],\n",
    "        'frame_names' : frame_names,\n",
    "        'frames' : frames,\n",
    "        'face_js': face_js,\n",
    "        'grid_js': grid_js,\n",
    "        'left_js': left_js,\n",
    "        'right_js': right_js,\n",
    "        'dot_js': dot_js,\n",
    "        'screen_js': screen_js,\n",
    "        'info_js': info_js,\n",
    "        'motion_js': motion_js\n",
    "    }\n",
    "    \n",
    "    return raw_dataset"
   ]
  },
  {
   "cell_type": "markdown",
   "metadata": {},
   "source": [
    "## 프로파일 데이터프레임 모델"
   ]
  },
  {
   "cell_type": "code",
   "execution_count": null,
   "metadata": {},
   "outputs": [],
   "source": [
    "def get_profile_summary(ds):\n",
    "    info = ds['info_js']\n",
    "    return { \n",
    "        'profile_id': ds['profile_id'],\n",
    "        'num_frames' : info['TotalFrames'], \n",
    "        'num_face_detect': info['NumFaceDetections'], \n",
    "        'num_eye_detect': info['NumEyeDetections'], \n",
    "        'device':info['DeviceName'].lower() \n",
    "    }\n",
    "\n",
    "def get_of(js, idx, key):\n",
    "    return js[key][idx]\n",
    "\n",
    "def get_rect(js, idx):\n",
    "    return { 'h': js['H'][idx], 'w': js['W'][idx], 'x': js['X'][idx], 'y': js['Y'][idx] }\n",
    "\n",
    "def get_valid(js, idx):\n",
    "    return js['IsValid'][idx] == 1\n",
    "\n",
    "def get_target_pts(js, idx):\n",
    "    return { 'x': js['XPts'][idx], 'y': js['YPts'][idx] }\n",
    "\n",
    "def get_target_dist(js, idx):\n",
    "    return { 'x': js['XCam'][idx], 'y': js['YCam'][idx] }\n",
    "\n",
    "def get_screen_hw(js, idx):\n",
    "    return { 'h': js['H'][idx], 'w': js['W'][idx] }\n",
    "\n",
    "def get_record_meta(ds, idx):\n",
    "    frames = ds['frames']\n",
    "    frame_names = ds['frame_names']\n",
    "    face_js  = ds['face_js']\n",
    "    grid_js  = ds['grid_js'] \n",
    "    left_js  = ds['left_js'] \n",
    "    right_js = ds['right_js'] \n",
    "    dot_js   = ds['dot_js'] \n",
    "    screen_js = ds['screen_js'] \n",
    "    info_js   = ds['info_js'] \n",
    "    motion_js = ds['motion_js']\n",
    "    \n",
    "    record_meta = {\n",
    "        'frame_name': frame_names[idx],\n",
    "        'face_valid': get_valid(face_js, idx), \n",
    "        'face_grid_valid': get_valid(grid_js, idx),\n",
    "        'left_eye_valid': get_valid(left_js, idx),\n",
    "        'right_eye_valid': get_valid(right_js, idx),\n",
    "        \n",
    "        'face_rect': get_rect(face_js, idx),\n",
    "        'face_grid_rect': get_rect(grid_js, idx),\n",
    "        'left_eye_rect': get_rect(left_js, idx),\n",
    "        'right_eye_rect': get_rect(right_js, idx),\n",
    "        \n",
    "        'target_id': get_of(dot_js, idx, 'DotNum'),\n",
    "        'target_pts': get_target_pts(dot_js, idx),\n",
    "        'target_dist': get_target_dist(dot_js, idx),\n",
    "        'target_time': get_of(dot_js, idx, 'Time'),\n",
    "        \n",
    "        'screen_hw': get_screen_hw(screen_js, idx),\n",
    "        'orientation': get_of(screen_js, idx, 'Orientation')\n",
    "    }\n",
    "    \n",
    "    return record_meta\n",
    "\n",
    "def get_profile(ds):\n",
    "    profile = { \n",
    "        \"summary\" : get_profile_summary(ds), \n",
    "        \"meta\" : [], # \"motions\" : motions\n",
    "        'frames': ds['frames']\n",
    "    }\n",
    "    \n",
    "    for idx, frame in enumerate(ds['frame_names']):\n",
    "        profile['meta'].append(get_record_meta(ds, idx))\n",
    "        \n",
    "    return profile"
   ]
  },
  {
   "cell_type": "markdown",
   "metadata": {},
   "source": [
    "## 프로파일 데이터 프레임 생성"
   ]
  },
  {
   "cell_type": "code",
   "execution_count": null,
   "metadata": {},
   "outputs": [],
   "source": [
    "raw_data = load_profile_dir(profile_path)\n",
    "profile = get_profile(raw_data)\n",
    "\n",
    "print(profile['summary'])\n",
    "print(profile['meta'][96])\n",
    "print(\"frame binary size:\", len(profile['frames'][96]))"
   ]
  },
  {
   "cell_type": "markdown",
   "metadata": {},
   "source": [
    "## NPZ archive 변환\n",
    "- archive npz: 효율적 원본 보관 및 학습용 npz 변환 용도이며 학습용 npz는 이를 기반으로 별도로 생성해야 함"
   ]
  },
  {
   "cell_type": "code",
   "execution_count": null,
   "metadata": {},
   "outputs": [],
   "source": [
    "def profile_to_archive_npz(profile, out_dir_path):\n",
    "    if not os.path.exists(out_dir_path):\n",
    "        os.makedirs(out_dir_path, exist_ok=True)\n",
    "    \n",
    "    meta = profile['meta']\n",
    "    frames = np.asarray(profile['frames']).transpose()\n",
    "    summary = profile['summary']\n",
    "    profile_id = summary['profile_id']\n",
    "\n",
    "    out_path = os.path.join(out_dir_path, \"profile-{}\".format(profile_id))\n",
    "    np.savez_compressed(out_path, summary=summary, meta=meta, frames=frames)"
   ]
  },
  {
   "cell_type": "code",
   "execution_count": null,
   "metadata": {},
   "outputs": [],
   "source": [
    "OUT_DIR_PATH = \"E:/everyone-npz\"\n",
    "profile_to_archive_npz(profile, OUT_DIR_PATH)"
   ]
  },
  {
   "cell_type": "markdown",
   "metadata": {},
   "source": [
    "## NPZ archive 복원 무결성 체크"
   ]
  },
  {
   "cell_type": "code",
   "execution_count": null,
   "metadata": {},
   "outputs": [],
   "source": [
    "npz = np.load(os.path.join(OUT_DIR_PATH, \"profile-00024.npz\"), allow_pickle=True)\n",
    "print(npz.files)"
   ]
  },
  {
   "cell_type": "code",
   "execution_count": null,
   "metadata": {},
   "outputs": [],
   "source": [
    "meta = npz['meta']\n",
    "frames = npz['frames']\n",
    "summary = npz['summary']"
   ]
  },
  {
   "cell_type": "code",
   "execution_count": null,
   "metadata": {},
   "outputs": [],
   "source": [
    "assert len(profile['frames'][96]) == len(frames[96])\n",
    "print(summary)"
   ]
  },
  {
   "cell_type": "markdown",
   "metadata": {},
   "source": [
    "# 모든 프로파일 npz archive 변환 처리"
   ]
  },
  {
   "cell_type": "code",
   "execution_count": null,
   "metadata": {},
   "outputs": [],
   "source": [
    "def to_everyone_archive_npz(everyone_root_path, out_dir_path):\n",
    "    profile_dirs = os.listdir(everyone_root_path)\n",
    "    \n",
    "    for profile_dir in profile_dirs:\n",
    "        profile_path = os.path.join(everyone_root_path, profile_dir)\n",
    "        raw_data = load_profile_dir(profile_path)\n",
    "        profile = get_profile(raw_data)\n",
    "        profile_to_archive_npz(profile, out_dir_path)"
   ]
  },
  {
   "cell_type": "code",
   "execution_count": null,
   "metadata": {},
   "outputs": [],
   "source": [
    "to_everyone_archive_npz(\"E:/everyone\", \"E:/everyone-npz\")"
   ]
  }
 ],
 "metadata": {
  "kernelspec": {
   "display_name": "Python 3",
   "language": "python",
   "name": "python3"
  },
  "language_info": {
   "codemirror_mode": {
    "name": "ipython",
    "version": 3
   },
   "file_extension": ".py",
   "mimetype": "text/x-python",
   "name": "python",
   "nbconvert_exporter": "python",
   "pygments_lexer": "ipython3",
   "version": "3.6.9"
  }
 },
 "nbformat": 4,
 "nbformat_minor": 4
}
