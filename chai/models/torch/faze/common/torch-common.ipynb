{
 "cells": [
  {
   "cell_type": "code",
   "execution_count": 6,
   "metadata": {},
   "outputs": [],
   "source": [
    "import random\n",
    "import numpy as np\n",
    "\n",
    "import torch \n",
    "import torch.nn as nn\n",
    "import torch.nn.functional as F"
   ]
  },
  {
   "cell_type": "markdown",
   "metadata": {},
   "source": [
    "# Global Average Pooling"
   ]
  },
  {
   "cell_type": "code",
   "execution_count": 3,
   "metadata": {},
   "outputs": [],
   "source": [
    "def GlobalAveragePooling(x):\n",
    "    return x.mean(-1).mean(-1)  "
   ]
  },
  {
   "cell_type": "code",
   "execution_count": 4,
   "metadata": {},
   "outputs": [
    {
     "name": "stdout",
     "output_type": "stream",
     "text": [
      "tensor([[9., 9., 9., 9.],\n",
      "        [1., 1., 1., 1.],\n",
      "        [2., 2., 2., 2.]], dtype=torch.float64)\n",
      "torch.Size([3, 4])\n",
      "tensor(4., dtype=torch.float64)\n",
      "tensor([4., 4., 4., 4.], dtype=torch.float64)\n",
      "tensor([9., 1., 2.], dtype=torch.float64)\n",
      "tensor([4., 4., 4., 4.], dtype=torch.float64)\n"
     ]
    }
   ],
   "source": [
    "#\n",
    "# mean 처리 방식 (이거 시각화 도구 있으면 좋겠다)\n",
    "#\n",
    "x = torch.tensor(\n",
    "    [[9, 9, 9, 9], \n",
    "     [1, 1, 1, 1], \n",
    "     [2, 2, 2, 2]])\n",
    "x = x.double()\n",
    "print(x)\n",
    "print(x.shape)\n",
    "print(x.mean())     # 개별 요소 전체 평균\n",
    "print(x.mean(0))    # shape[0:i]에 대해 평균\n",
    "print(x.mean(-1))   # sahpe[i:-1(==1)]에 대해 평균\n",
    "print(x.mean(-2))"
   ]
  },
  {
   "cell_type": "markdown",
   "metadata": {},
   "source": [
    "# Swap Axis"
   ]
  },
  {
   "cell_type": "code",
   "execution_count": 11,
   "metadata": {},
   "outputs": [],
   "source": [
    "def swap_axis(x, axis_a, axis_b):\n",
    "    return torch.transpose(x, axis_a, axis_b)"
   ]
  },
  {
   "cell_type": "code",
   "execution_count": 13,
   "metadata": {},
   "outputs": [
    {
     "name": "stdout",
     "output_type": "stream",
     "text": [
      "tensor([[-0.0822, -0.3769, -1.1875],\n",
      "        [ 2.0213,  1.3895,  0.3384]])\n",
      "torch.Size([2, 3])\n",
      "torch.Size([3, 2])\n",
      "tensor([[-0.0822,  2.0213],\n",
      "        [-0.3769,  1.3895],\n",
      "        [-1.1875,  0.3384]])\n",
      "tensor([[-0.0822,  2.0213],\n",
      "        [-0.3769,  1.3895],\n",
      "        [-1.1875,  0.3384]])\n"
     ]
    }
   ],
   "source": [
    "# 예제\n",
    "x = torch.randn(2, 3)\n",
    "print(x)\n",
    "print(x.shape)\n",
    "\n",
    "t = torch.transpose(x, 0, 1)\n",
    "print(t.shape)\n",
    "print(t)\n",
    "print(swap_axis(x, 0, 1))"
   ]
  },
  {
   "cell_type": "markdown",
   "metadata": {},
   "source": [
    "# Initial Seed"
   ]
  },
  {
   "cell_type": "code",
   "execution_count": 3,
   "metadata": {},
   "outputs": [],
   "source": [
    "def setup_seed(seed):\n",
    "    \"\"\"\n",
    "    랜덤 시드를 세팅하더라도 worker가 0이 아닌 경우에(?) 다소 차이가 있다고 함\n",
    "    \"\"\"\n",
    "    random.seed(seed)\n",
    "    np.random.seed(seed)\n",
    "    torch.manual_seed(seed)\n",
    "    \n",
    "    # if you are suing GPU\n",
    "    torch.cuda.manual_seed(seed)\n",
    "    torch.cuda.manual_seed_all(seed)\n",
    "\n",
    "    # discuss.pytorch.org/t/random-seed-initialization/7854/16 suggest\n",
    "    torch.backends.cudnn.enabled = False \n",
    "    torch.backends.cudnn.benchmark = False\n",
    "    torch.backends.cudnn.deterministic = True"
   ]
  },
  {
   "cell_type": "code",
   "execution_count": 4,
   "metadata": {},
   "outputs": [],
   "source": [
    "def worker_init_fn(worker_id):\n",
    "    # Custom worker init to not repeat pairs\n",
    "    np.random.seed(np.random.get_state()[1][0] + worker_id)"
   ]
  }
 ],
 "metadata": {
  "kernelspec": {
   "display_name": "Python 3",
   "language": "python",
   "name": "python3"
  },
  "language_info": {
   "codemirror_mode": {
    "name": "ipython",
    "version": 3
   },
   "file_extension": ".py",
   "mimetype": "text/x-python",
   "name": "python",
   "nbconvert_exporter": "python",
   "pygments_lexer": "ipython3",
   "version": "3.7.4"
  }
 },
 "nbformat": 4,
 "nbformat_minor": 4
}
