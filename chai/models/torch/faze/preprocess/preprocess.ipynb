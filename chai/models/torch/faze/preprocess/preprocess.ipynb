{
 "cells": [
  {
   "cell_type": "markdown",
   "metadata": {},
   "source": [
    "# PreProcess\n",
    "\n",
    "## 목적\n",
    "- faze 노말라이제이션 정보 추가\n",
    "- everyone-profile.npz -> everyone-faze-profile.npz\n",
    "\n",
    "## 수행 일지\n",
    "\n",
    "### 1차\n",
    "- Normalized Camera 정보 Faze 원본과 동일하게 유지\n",
    "- 병렬 변환 코드 (병렬 처리에 버그가 있는지 머신이 죽은건지 도널드가 변환 3일 째에 먹통됨)\n",
    "  - 마지막에 처리된 프로파일들은 확인차 다시 변환을 해서 해쉬 비교 필요\n",
    "  "
   ]
  },
  {
   "cell_type": "code",
   "execution_count": 1,
   "metadata": {},
   "outputs": [],
   "source": [
    "from normalizer import *"
   ]
  },
  {
   "cell_type": "markdown",
   "metadata": {},
   "source": [
    "# Configuration"
   ]
  },
  {
   "cell_type": "code",
   "execution_count": 2,
   "metadata": {},
   "outputs": [],
   "source": [
    "SUPPLE_PATH = '/Volumes/SSD3/faze-resources/gs.h5'\n",
    "FACE_MODEL_PATH = '/Volumes/SSD3/faze-resources/sfm_face_coordinates.npy'\n",
    "NPZ_BASE_PATH = '/Volumes/SSD3/everyone-npz'\n",
    "OUT_DIR_PATH = '/Volumes/SSD3/faze-recode'"
   ]
  },
  {
   "cell_type": "markdown",
   "metadata": {},
   "source": [
    "# Check Supplementary \n",
    "- 총 포함 프로파일 아이디 1366개"
   ]
  },
  {
   "cell_type": "code",
   "execution_count": 3,
   "metadata": {},
   "outputs": [],
   "source": [
    "def profile_to_idx():\n",
    "    pid_to_idx = {}\n",
    "    \n",
    "    with h5py.File(SUPPLE_PATH, 'r') as f:\n",
    "        profiles = f.keys()\n",
    "        \n",
    "        idx = 0\n",
    "        for pid in profiles:\n",
    "            pid_to_idx[pid] = idx\n",
    "            idx = idx + 1\n",
    "\n",
    "#         num_entries = next(iter(group.values())).shape[0]\n",
    "#         print(\"profile-{} num: {}\".format(person, num_entries))\n",
    "\n",
    "#         for i in range(0, 5): # range(num_entries):\n",
    "#             fx, fy, cx, cy = group['camera_parameters'][i, :]\n",
    "#             image_path = '%s' % (group['file_name'][i].decode('utf-8'))\n",
    "#             rvec = group['head_pose'][i, :3].reshape(3, 1)\n",
    "#             tvec = group['head_pose'][i, 3:].reshape(3, 1)\n",
    "#             distor = group['distortion_parameters'][i, :]\n",
    "#             gaze_t = group['3d_gaze_target'][i, :].reshape(3, 1)\n",
    "#             # print(rvec) # print(tvec) # print(distor)  \n",
    "    return pid_to_idx"
   ]
  },
  {
   "cell_type": "code",
   "execution_count": 6,
   "metadata": {},
   "outputs": [
    {
     "name": "stdout",
     "output_type": "stream",
     "text": [
      "4\n"
     ]
    }
   ],
   "source": [
    "idxs = profile_to_idx()\n",
    "print(idxs[\"00010\"])"
   ]
  },
  {
   "cell_type": "markdown",
   "metadata": {},
   "source": [
    "# Prepare Processor"
   ]
  },
  {
   "cell_type": "code",
   "execution_count": 7,
   "metadata": {},
   "outputs": [],
   "source": [
    "num_profiles = 1366\n",
    "normalizer = FazeNormalizer(OUT_DIR_PATH, NPZ_BASE_PATH, SUPPLE_PATH, FACE_MODEL_PATH)"
   ]
  },
  {
   "cell_type": "code",
   "execution_count": 8,
   "metadata": {},
   "outputs": [],
   "source": [
    "# missing_list = [\"00539\",\"00865\",\"01177\",\"01528\",\"01941\",\"01943\",\"02394\",\"02925\",\"03491\",\"03492\",\"03495\",\"03498\",\"03501\",\"03502\",\"03523\"]\n",
    "# for pid in missing_list:\n",
    "#     idx = idxs[pid]\n",
    "#     normalizer.run_preprocess(idx_from=idx, idx_to=idx+1)"
   ]
  },
  {
   "cell_type": "code",
   "execution_count": 9,
   "metadata": {},
   "outputs": [
    {
     "name": "stdout",
     "output_type": "stream",
     "text": [
      ">>> [4] Process profile 00010\n",
      "\n"
     ]
    }
   ],
   "source": [
    "normalizer.run_preprocess(idx_from=4, idx_to=5)"
   ]
  },
  {
   "cell_type": "markdown",
   "metadata": {},
   "source": [
    "# Sanity Check"
   ]
  },
  {
   "cell_type": "code",
   "execution_count": null,
   "metadata": {},
   "outputs": [],
   "source": [
    "def show_image(img, cmap=None, extent=None, title=None, fig_size=(10, 10)):\n",
    "    if cmap is None:\n",
    "        cmap = select_colormap_by_shape(img.shape)\n",
    "    if extent is None:\n",
    "        extent = get_image_extent(img)\n",
    "\n",
    "    img = squeeze_if_gray(img)\n",
    "    fig = plt.figure(figsize=fig_size)\n",
    "\n",
    "    plt.axis('off')\n",
    "    if title is not None:\n",
    "        plt.title(title)\n",
    "    ax = fig.add_subplot(111)\n",
    "    ax.imshow(img, cmap=cmap, interpolation='none', extent=extent)\n",
    "    plt.axis('image')\n",
    "\n",
    "    return ax\n",
    "\n",
    "def sanity_check_npz_recode(profile_id, idx, root_path=\"/Volumes/SSD3/everyone-faze/\"):\n",
    "    npz = np.load(os.path.join(root_path, \"profile-recode-{}.npz\".format(profile_id)), allow_pickle=True)\n",
    "    print(npz.files)\n",
    "                  \n",
    "    face = npz['norm_face'][idx]\n",
    "    img = byte_arr_to_img(face)\n",
    "    print(img.shape)\n",
    "    show_image(img)"
   ]
  },
  {
   "cell_type": "markdown",
   "metadata": {},
   "source": [
    "# 좌우 눈 영역만으로 representation 학습을 하면 잘 될까?\n",
    "- Faze 원문은 일단 전체 이미지가 가로로 길쭉한 양안 이미지를 사용함\n",
    "- 아마도 실험해보고 크게 차이 없어서 이렇게 바꿨을 지도?"
   ]
  }
 ],
 "metadata": {
  "kernelspec": {
   "display_name": "Python 3",
   "language": "python",
   "name": "python3"
  },
  "language_info": {
   "codemirror_mode": {
    "name": "ipython",
    "version": 3
   },
   "file_extension": ".py",
   "mimetype": "text/x-python",
   "name": "python",
   "nbconvert_exporter": "python",
   "pygments_lexer": "ipython3",
   "version": "3.7.4"
  }
 },
 "nbformat": 4,
 "nbformat_minor": 4
}
