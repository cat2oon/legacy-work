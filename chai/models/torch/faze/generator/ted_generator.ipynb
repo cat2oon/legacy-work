{
 "cells": [
  {
   "cell_type": "markdown",
   "metadata": {},
   "source": [
    "# TED Generator\n"
   ]
  },
  {
   "cell_type": "code",
   "execution_count": 1,
   "metadata": {},
   "outputs": [],
   "source": [
    "from generator import *"
   ]
  },
  {
   "cell_type": "code",
   "execution_count": 2,
   "metadata": {},
   "outputs": [],
   "source": [
    "def get_mock_config():\n",
    "    return {\n",
    "        'densenet-growthrate' : 32,\n",
    "        'z-dim_app' : 64, 'z-dim-gaze' : 2, 'z-dim-head' : 16, 'decoder-input-c' : 32,\n",
    "\n",
    "        'normalize-3d-codes' : True,     'normalize-3d-codes-axis': 1,\n",
    "\n",
    "        'triplet-loss-type' : 'angular',   # or euclidean\n",
    "        'triplet-loss-margin' : 0.0,\n",
    "        'triplet-regularize-d-within' : True,\n",
    "\n",
    "        'all-equal-embeddings': True,\n",
    "        'embedding-consistency-loss-type' : None, # angular, euclidean\n",
    "        'embedding-consistency-loss-warmup-samples' : 1000000,\n",
    "\n",
    "        'backprop-gaze-to-encoder' : True,\n",
    "\n",
    "        'coeff-l1-recon-loss' : 1.0,  'coeff-gaze-loss' : 0.1, 'coeff-embedding_consistency-loss' : 2.0, \n",
    "        'pick-exactly-per-person' : None, 'pick-at-least-per-person' : 400,\n",
    "\n",
    "        'use-apex' : True, 'base-lr': 0.0005, 'warmup-period-for-lr' : 1000000, \n",
    "        'batch-size' : 1, \n",
    "        'num-data-loaders' : 0,\n",
    "        'decay-interval' : 0,  'decay' : 0.8,  'num-training-epochs' : 20,  'l2-reg' : 1e-4,  'print-freq-train' : 20,\n",
    "        'print-freq-test' : 5000,\n",
    "    }"
   ]
  },
  {
   "cell_type": "markdown",
   "metadata": {},
   "source": [
    "# Generator\n",
    "- 어느 부분에서 병목이 생기는지 체크할 것\n",
    "- 전체 데이터셋 리스트를 생성 시점에 준비하는 것이 좀 별로"
   ]
  },
  {
   "cell_type": "code",
   "execution_count": 3,
   "metadata": {},
   "outputs": [
    {
     "ename": "TypeError",
     "evalue": "__init__() takes 2 positional arguments but 4 were given",
     "output_type": "error",
     "traceback": [
      "\u001b[0;31m---------------------------------------------------------------------------\u001b[0m",
      "\u001b[0;31mTypeError\u001b[0m                                 Traceback (most recent call last)",
      "\u001b[0;32m<ipython-input-3-a069a7de371b>\u001b[0m in \u001b[0;36m<module>\u001b[0;34m\u001b[0m\n\u001b[1;32m      4\u001b[0m \u001b[0mresource_path\u001b[0m \u001b[0;34m=\u001b[0m \u001b[0;34m\"./resources\"\u001b[0m\u001b[0;34m\u001b[0m\u001b[0;34m\u001b[0m\u001b[0m\n\u001b[1;32m      5\u001b[0m \u001b[0;34m\u001b[0m\u001b[0m\n\u001b[0;32m----> 6\u001b[0;31m \u001b[0mgen\u001b[0m \u001b[0;34m=\u001b[0m \u001b[0mNPZDatasetGenerator\u001b[0m\u001b[0;34m(\u001b[0m\u001b[0mconfig\u001b[0m\u001b[0;34m,\u001b[0m \u001b[0mnpz_root_path\u001b[0m\u001b[0;34m,\u001b[0m \u001b[0mresource_path\u001b[0m\u001b[0;34m)\u001b[0m\u001b[0;34m\u001b[0m\u001b[0;34m\u001b[0m\u001b[0m\n\u001b[0m\u001b[1;32m      7\u001b[0m \u001b[0mdataset\u001b[0m \u001b[0;34m=\u001b[0m \u001b[0mgen\u001b[0m\u001b[0;34m.\u001b[0m\u001b[0mgenerate\u001b[0m\u001b[0;34m(\u001b[0m\u001b[0;34m)\u001b[0m\u001b[0;34m\u001b[0m\u001b[0;34m\u001b[0m\u001b[0m\n",
      "\u001b[0;31mTypeError\u001b[0m: __init__() takes 2 positional arguments but 4 were given"
     ]
    }
   ],
   "source": [
    "config = get_mock_config()\n",
    "# npz_root_path = \"/Volumes/SSD3/everyone-faze-done/\"\n",
    "npz_root_path = \"J:\\datasets\\everyone-recode\"\n",
    "resource_path = \"./resources\"\n",
    "\n",
    "gen = NPZDatasetGenerator(config, npz_root_path, resource_path)\n",
    "dataset = gen.generate()"
   ]
  },
  {
   "cell_type": "markdown",
   "metadata": {},
   "source": [
    "# Check"
   ]
  },
  {
   "cell_type": "code",
   "execution_count": null,
   "metadata": {},
   "outputs": [],
   "source": [
    "print(dataset)\n",
    "ds = dataset['gc/train']['dataset']\n",
    "print(len(ds))"
   ]
  },
  {
   "cell_type": "code",
   "execution_count": null,
   "metadata": {},
   "outputs": [],
   "source": [
    "entry = ds[0]\n",
    "print(entry.keys())\n",
    "profile_id = entry['pid'].numpy()\n",
    "print(profile_id)\n",
    "print(entry['target_x_a'], entry['target_x_b'])"
   ]
  },
  {
   "cell_type": "code",
   "execution_count": null,
   "metadata": {},
   "outputs": [],
   "source": [
    "train_dataloader = dataset['gc/train']['dataloader']\n",
    "train_data_iterator = iter(train_dataloader)\n",
    "train_input_dict = next(train_data_iterator)"
   ]
  }
 ],
 "metadata": {
  "kernelspec": {
   "display_name": "Python 3",
   "language": "python",
   "name": "python3"
  },
  "language_info": {
   "codemirror_mode": {
    "name": "ipython",
    "version": 3
   },
   "file_extension": ".py",
   "mimetype": "text/x-python",
   "name": "python",
   "nbconvert_exporter": "python",
   "pygments_lexer": "ipython3",
   "version": "3.7.4"
  }
 },
 "nbformat": 4,
 "nbformat_minor": 4
}
