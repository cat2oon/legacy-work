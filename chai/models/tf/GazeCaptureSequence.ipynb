{
 "cells": [
  {
   "cell_type": "code",
   "execution_count": 198,
   "metadata": {},
   "outputs": [],
   "source": [
    "from GazeCaptureNpzSequence import *"
   ]
  },
  {
   "cell_type": "markdown",
   "metadata": {},
   "source": [
    "# Sequence (dataset)\n",
    "\n",
    " - https://www.tensorflow.org/api_docs/python/tf/keras/utils/Sequence (tf.keras.utils.Sequence)\n",
    "   - https://erdem.pl/2019/12/how-to-create-tensorflow-2-sequence-dataset-from-scratch \n",
    "   - 위 블로그를 보면 sequence가 modern 한 방법인 듯\n",
    " - https://www.tensorflow.org/api_docs/python/tf/keras/Model#fit\n",
    " - https://www.tensorflow.org/api_docs/python/tf/data "
   ]
  },
  {
   "cell_type": "markdown",
   "metadata": {},
   "source": [
    "``` python\n",
    "{\n",
    "    'frame_name': '00074.jpg',\n",
    "    'face_valid': True,  'face_grid_valid': True,\n",
    "    'left_eye_valid': True, 'right_eye_valid': True,\n",
    "    'face_rect': {'h ': 378.559999093, 'w': 378.559999093, 'x': 57.7200004533, 'y': 57.7200004533},\n",
    "    'face_grid_rect': {'h': 15, 'w': 15, 'x': 3, 'y': 6},\n",
    "    'left_eye_rect': {'h': 113.568005371, 'w': 113.568005371, 'x': 177.923213117, 'y': 47.3199787252},\n",
    "    'right_eye_rect': {'h': 113.568005371, 'w': 113.568005371, 'x': 35.9632064034, 'y': 41.6415784566},\n",
    "    'target_id': 17,\n",
    "    'target_pts': {'x': 166.117594242, 'y': 157.682228088},\n",
    "    'target_dist': {'x': 3.70855094076, 'y': 0.0374465024471},\n",
    "    'target_time': 0.447148, 'screen_hw': {'h': 320, 'w': 568}, 'orientation': 3,\n",
    "    'norm_gaze_pitchyaw': array([-0.01114615,  0.27524275], dtype=float32),\n",
    "    'norm_head_pose': array([0.36828426, 0.28148794], dtype=float32),\n",
    "    'norm_rot_matrix': array([[ 0.9890568 ,  0.03299534, -0.14379804], [-0.05040688,  0.9915927, -0.11917635],\n",
    "                                [ 0.13865682,  0.1251206 ,  0.98240477]], dtype=float32),\n",
    "    'gaze_direction': array([[-0.13004518], [ 0.13943431], [-0.9816549 ]], dtype=float32),\n",
    "    'gaze_origin': array([[-46.09127 ], [-38.199337], [314.88806 ]], dtype=float32),\n",
    "    'gaze_target': array([[-87.806206], [  6.52738 ], [ -0.      ]], dtype=float32),\n",
    "    'head_pose': array([0.23939598, 0.143912  ], dtype=float32),\n",
    "    'origin_extrinsic': array([-2.4010064e-01,  1.4133327e-01,  1.5601543e-03,\n",
    "                               -4.5725677e+01, -3.8964321e+01,  3.1811200e+02], dtype=float32),\n",
    "    'origin_camera_param': array([\n",
    "        [588.1445 ,   0.     , 318.79385],\n",
    "        [  0.     , 585.1317 , 242.18915],\n",
    "        [  0.     ,   0.     ,   1.     ]], dtype=float32),\n",
    "    'camera_distortion': array([ 0.01302955, -0.10349616,  0.00301618, -0.0009803 ] , dtype=float32)\n",
    "}\n",
    "```"
   ]
  },
  {
   "cell_type": "code",
   "execution_count": 199,
   "metadata": {},
   "outputs": [],
   "source": [
    "npz_root_path = '../../../../data-archive/faze-recode-profile-npz/'\n",
    "resource_path = '../../../../data-archive/faze-resources/'\n",
    "    \n",
    "seq = GazeCaptureNpzSequence(npz_root_path, resource_path, 'train', batch_size=64, exclude_profiles=exclude_profiles)"
   ]
  },
  {
   "cell_type": "code",
   "execution_count": 205,
   "metadata": {},
   "outputs": [
    {
     "name": "stdout",
     "output_type": "stream",
     "text": [
      "cache hit: 00028\n",
      "dict_keys(['loc', 'pid', 'device', 'eye_corner', 'left_eye', 'right_eye', 'target_xy', 'cam_mat', 'orientation'])\n"
     ]
    }
   ],
   "source": [
    "batch_item = seq[0]\n",
    "print(batch_item[0].keys())"
   ]
  }
 ],
 "metadata": {
  "kernelspec": {
   "display_name": "Python 3",
   "language": "python",
   "name": "python3"
  },
  "language_info": {
   "codemirror_mode": {
    "name": "ipython",
    "version": 3
   },
   "file_extension": ".py",
   "mimetype": "text/x-python",
   "name": "python",
   "nbconvert_exporter": "python",
   "pygments_lexer": "ipython3",
   "version": "3.6.9"
  }
 },
 "nbformat": 4,
 "nbformat_minor": 4
}
