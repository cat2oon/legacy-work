{
 "cells": [
  {
   "cell_type": "markdown",
   "metadata": {},
   "source": [
    "# Dataset Benchmark"
   ]
  },
  {
   "cell_type": "code",
   "execution_count": 39,
   "metadata": {},
   "outputs": [],
   "source": [
    "import numpy as np\n",
    "from sklearn.metrics import mean_squared_error\n",
    "from sklearn.metrics import mean_absolute_error\n",
    "from numpy import linalg as LA \n",
    "\n",
    "from sgnet import *\n",
    "from trainer import *\n",
    "from gazecapture_sequence import *"
   ]
  },
  {
   "cell_type": "markdown",
   "metadata": {},
   "source": [
    "# Config to Context"
   ]
  },
  {
   "cell_type": "code",
   "execution_count": 79,
   "metadata": {},
   "outputs": [],
   "source": [
    "config = {\n",
    "    'num_epochs' : 20,\n",
    "    'num_workers' : 8,\n",
    "    'batch_size' : 32,\n",
    "    'resource_path': '../../../../data-archive/faze-resources/',\n",
    "    'npz_root_path': '../../../../data-archive/faze-recode-profile-npz/',\n",
    "}\n",
    "\n",
    "ctx = Context.create(config)"
   ]
  },
  {
   "cell_type": "markdown",
   "metadata": {},
   "source": [
    "# Model & Dataset"
   ]
  },
  {
   "cell_type": "code",
   "execution_count": null,
   "metadata": {},
   "outputs": [],
   "source": [
    "def benchmark(dataset, num_epochs=2):\n",
    "    import time\n",
    "    start_time = time.perf_counter()\n",
    "    for epoch_num in range(num_epochs):\n",
    "        for sample in dataset:\n",
    "            # 훈련 스텝마다 실행\n",
    "            time.sleep(0.01)\n",
    "    tf.print(\"실행 시간:\", time.perf_counter() - start_time)"
   ]
  },
  {
   "cell_type": "code",
   "execution_count": null,
   "metadata": {},
   "outputs": [],
   "source": [
    "train_seq = GazeCaptureNpzSequence.create(ctx, 'train')\n",
    "valid_seq = GazeCaptureNpzSequence.create(ctx, 'val')"
   ]
  },
  {
   "cell_type": "code",
   "execution_count": null,
   "metadata": {},
   "outputs": [],
   "source": [
    "def get_generator(dataset):\n",
    "    def generator():\n",
    "        it = iter(dataset)\n",
    "        while True:\n",
    "            inputs, targets = next(it)\n",
    "            inputs = (inputs['left_eye_patch'], \n",
    "                      inputs['right_eye_patch'],  \n",
    "                      inputs['eye_corner_landmark'])   # WARN: tuple로 지정해야 함 \n",
    "            yield inputs, targets\n",
    "    return generator"
   ]
  },
  {
   "cell_type": "code",
   "execution_count": null,
   "metadata": {},
   "outputs": [],
   "source": [
    "n = ctx.batch_size\n",
    "from_gen = tf.data.Dataset.from_generator\n",
    "outputs_shapes = (((n,64,64,3), (n,64,64,3), (n,8)), (n,2))\n",
    "outputs_types = ((tf.float32, tf.float32, tf.float32), tf.float32)\n",
    "\n",
    "ds = from_gen(get_generator(valid_seq), output_types=outputs_types, output_shapes=outputs_shapes)"
   ]
  },
  {
   "cell_type": "code",
   "execution_count": null,
   "metadata": {},
   "outputs": [],
   "source": [
    "# Prefetch 비교\n",
    "# ds = ds.prefetch(tf.data.experimental.AUTOTUNE)"
   ]
  },
  {
   "cell_type": "code",
   "execution_count": null,
   "metadata": {},
   "outputs": [],
   "source": [
    "# prefetch 실행 시간: 918.9525989890099\n",
    "benchmark(ds, num_epochs=1)"
   ]
  },
  {
   "cell_type": "code",
   "execution_count": null,
   "metadata": {},
   "outputs": [],
   "source": [
    "benchmark(ds, num_epochs=1)"
   ]
  },
  {
   "cell_type": "code",
   "execution_count": 89,
   "metadata": {},
   "outputs": [],
   "source": [
    "y_t = np.random.uniform(0, 6.0, [10, 2])\n",
    "y_h = np.random.uniform(0, 6.0, [10, 2])"
   ]
  },
  {
   "cell_type": "code",
   "execution_count": 90,
   "metadata": {},
   "outputs": [
    {
     "name": "stdout",
     "output_type": "stream",
     "text": [
      "[[5.54312244 1.46991857]\n",
      " [1.25319167 5.15543502]\n",
      " [4.75982232 2.71381462]\n",
      " [5.07445951 3.11153309]\n",
      " [3.78341594 5.37046205]\n",
      " [0.29686938 3.76341711]\n",
      " [5.72138805 1.59467643]\n",
      " [4.56022154 4.22253876]\n",
      " [4.54514429 3.70970911]\n",
      " [4.32339819 5.86130248]]\n",
      "[[5.92686369 5.2258164 ]\n",
      " [2.26762047 2.15865895]\n",
      " [3.45627428 2.32404691]\n",
      " [0.74661035 3.18521119]\n",
      " [2.29044429 5.31593046]\n",
      " [2.70956536 0.73459192]\n",
      " [1.80178833 2.15170688]\n",
      " [5.19357775 1.0005738 ]\n",
      " [1.45815099 2.04846908]\n",
      " [4.46715947 0.80068484]]\n"
     ]
    }
   ],
   "source": [
    "print(y_t)\n",
    "print(y_h)"
   ]
  },
  {
   "cell_type": "code",
   "execution_count": 91,
   "metadata": {},
   "outputs": [
    {
     "data": {
      "text/plain": [
       "6.322647550747376"
      ]
     },
     "execution_count": 91,
     "metadata": {},
     "output_type": "execute_result"
    }
   ],
   "source": [
    "mean_squared_error(y_t, y_h)"
   ]
  },
  {
   "cell_type": "code",
   "execution_count": 92,
   "metadata": {},
   "outputs": [
    {
     "name": "stdout",
     "output_type": "stream",
     "text": [
      "6.322647550747376\n"
     ]
    }
   ],
   "source": [
    "mse = (np.square(y_h - y_t)).mean()\n",
    "print(mse)"
   ]
  },
  {
   "cell_type": "code",
   "execution_count": 93,
   "metadata": {},
   "outputs": [
    {
     "data": {
      "text/plain": [
       "1.9759637483548413"
      ]
     },
     "execution_count": 93,
     "metadata": {},
     "output_type": "execute_result"
    }
   ],
   "source": [
    "mean_absolute_error(y_t, y_h)"
   ]
  },
  {
   "cell_type": "code",
   "execution_count": 94,
   "metadata": {},
   "outputs": [
    {
     "name": "stdout",
     "output_type": "stream",
     "text": [
      "[[ 0.38374125  3.75589782]\n",
      " [ 1.0144288  -2.99677607]\n",
      " [-1.30354804 -0.38976772]\n",
      " [-4.32784915  0.0736781 ]\n",
      " [-1.49297165 -0.05453158]\n",
      " [ 2.41269598 -3.02882519]\n",
      " [-3.91959972  0.55703045]\n",
      " [ 0.63335622 -3.22196496]\n",
      " [-3.0869933  -1.66124003]\n",
      " [ 0.14376129 -5.06061764]]\n"
     ]
    }
   ],
   "source": [
    "mae = (y_h - y_t)\n",
    "print(mae)"
   ]
  },
  {
   "cell_type": "code",
   "execution_count": 95,
   "metadata": {},
   "outputs": [
    {
     "name": "stdout",
     "output_type": "stream",
     "text": [
      "[3.77545041 3.16381615 1.36057207 4.32847626 1.49396722 3.87232281\n",
      " 3.95898281 3.28362579 3.5056021  5.06265921]\n"
     ]
    }
   ],
   "source": [
    "norms = LA.norm(y_h - y_t, axis=1)\n",
    "print(norms)"
   ]
  },
  {
   "cell_type": "code",
   "execution_count": 96,
   "metadata": {},
   "outputs": [
    {
     "data": {
      "text/plain": [
       "3.380547482033916"
      ]
     },
     "execution_count": 96,
     "metadata": {},
     "output_type": "execute_result"
    }
   ],
   "source": [
    "np.sum(norms) / 10"
   ]
  },
  {
   "cell_type": "code",
   "execution_count": 100,
   "metadata": {},
   "outputs": [
    {
     "name": "stdout",
     "output_type": "stream",
     "text": [
      "51200000\n",
      "22164480\n"
     ]
    }
   ],
   "source": []
  }
 ],
 "metadata": {
  "kernelspec": {
   "display_name": "Python 3",
   "language": "python",
   "name": "python3"
  },
  "language_info": {
   "codemirror_mode": {
    "name": "ipython",
    "version": 3
   },
   "file_extension": ".py",
   "mimetype": "text/x-python",
   "name": "python",
   "nbconvert_exporter": "python",
   "pygments_lexer": "ipython3",
   "version": "3.6.9"
  }
 },
 "nbformat": 4,
 "nbformat_minor": 4
}
