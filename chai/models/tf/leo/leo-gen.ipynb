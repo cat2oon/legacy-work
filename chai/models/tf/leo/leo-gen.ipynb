{
 "cells": [
  {
   "cell_type": "markdown",
   "metadata": {},
   "source": [
    "# LEO Gens (GTA)"
   ]
  },
  {
   "cell_type": "code",
   "execution_count": 1,
   "metadata": {},
   "outputs": [],
   "source": [
    "from runner import *"
   ]
  },
  {
   "cell_type": "code",
   "execution_count": 2,
   "metadata": {},
   "outputs": [],
   "source": [
    "set_gpu_memory_growth_mode()        "
   ]
  },
  {
   "cell_type": "markdown",
   "metadata": {},
   "source": [
    "# Config"
   ]
  },
  {
   "cell_type": "code",
   "execution_count": 43,
   "metadata": {},
   "outputs": [],
   "source": [
    "config = {\n",
    "    'seed' : 1234,\n",
    "    'use_64bits': False,\n",
    "    'shuffle' : True,\n",
    "    'zero_kappa': False,\n",
    "    'use_valid_only': True,\n",
    "    'use_calib_pick': False,\n",
    "    'remove_blurry': True,\n",
    "    'gta_mode': 'kappa_angle',   \n",
    "    # { 'mixed_effect', 'kappa_angle', 'film'}\n",
    "    \n",
    "    # LEO & target parameter theta dim\n",
    "    'num_latents': 4,\n",
    "    'gen_theta_dims': 4,     # 128\n",
    "    'num_k_shots': 5,\n",
    "    'num_valid_shot': 5,\n",
    "        \n",
    "    # Batch & Step size\n",
    "    'batch_size' : 2,\n",
    "    'first_decay_steps': 20,\n",
    "    'meta_lr': 1e-5,\n",
    "    'theta_lr': 1e-6,\n",
    "    'latent_lr': 1e-8,\n",
    "    'num_latent_grad_steps' : 5,\n",
    "    'num_finetune_grad_steps' : 2,\n",
    "    \n",
    "    'gradient_threshold': 0.05,\n",
    "    'gradient_norm_threshold': 0.05,\n",
    " \n",
    "    # Regularizer Term\n",
    "    'dropout_rate': 0.4,\n",
    "    'kl_weight': 5e-1,\n",
    "    'l2_penalty_weight': 1e+1,\n",
    "    'encoder_penalty_weight': 1e-4,\n",
    "    'orthogonality_penalty_weight': 1e-3,\n",
    "    \n",
    "    'num_epochs' : 200,\n",
    "    'npy_root_path': '/home/elvin/host/mnt/ssd3/nps/',\n",
    "    'landmark_root_path': '/home/elvin/host/mnt/ssd3/lms/legacy-lms/',\n",
    "    'dmm_root_path': '/home/elvin/host/mnt/ssd3/lms/ms-3dmm-rev0',\n",
    "    \n",
    "}\n"
   ]
  },
  {
   "cell_type": "code",
   "execution_count": 5,
   "metadata": {},
   "outputs": [],
   "source": [
    "tr_pid = ['00239', '00247', '00376', '00623', '00835', '01231', '01327', '01456', '01731', '01734', '01738', '01760', '01762', '01763', '01773', '01802', '01816', '01818', '01849', '01860', '01862', '01866', '01882', '01907', '01924', '01926', '01933', '01965', '01979', '02023', '02024', '02058', '02064', '02077', '02085', '02086', '02092', '02105', '02112', '02136', '02152', '02159', '02319', '02347', '02367', '02373', '02420', '02421', '02465', '02518', '02522', '02575', '02576', '02581', '02585', '02732', '02954', '03214', '03231', '03263']\n",
    "te_pid = ['00719', '01460', '01603', '01786', '01817', '01869', '01889', '01930', '01936', '01961', '01984', '02015', '02022', '02028', '02038', '02114', '02131', '02161', '02168', '02358', '02359', '02361', '02394', '02440', '02459', '02478', '02524', '02587', '02763', '03006']"
   ]
  },
  {
   "cell_type": "code",
   "execution_count": 45,
   "metadata": {},
   "outputs": [],
   "source": [
    "x = DataProvider(ctx, '02732')"
   ]
  },
  {
   "cell_type": "code",
   "execution_count": 63,
   "metadata": {},
   "outputs": [
    {
     "data": {
      "text/plain": [
       "12"
      ]
     },
     "execution_count": 63,
     "metadata": {},
     "output_type": "execute_result"
    }
   ],
   "source": [
    "len(x.metas)"
   ]
  },
  {
   "cell_type": "code",
   "execution_count": 61,
   "metadata": {},
   "outputs": [
    {
     "name": "stdout",
     "output_type": "stream",
     "text": [
      "2454\n",
      "2422\n"
     ]
    }
   ],
   "source": [
    "x_m = x.load_profile_meta()\n",
    "meta = x_m['items']\n",
    "print(len(meta))\n",
    "x.get_blurry_indexes(x_)\n",
    "print(len(mmm))"
   ]
  },
  {
   "cell_type": "code",
   "execution_count": 8,
   "metadata": {},
   "outputs": [
    {
     "name": "stdout",
     "output_type": "stream",
     "text": [
      ">>>>> 00239\n",
      "'__init__'  26.45 s\n",
      ">>>>> 00247] 현재: 12.975199 / 누적: 14.266000 | loss:68.879997 |                                                               \n",
      "'__init__'  23.59 s\n",
      ">>>>> 00376] 현재: 4.781900 / 누적: 8.706000 | loss:50.980000 |                                                                  \n",
      "'__init__'  19.13 s\n",
      ">>>>> 00623] 현재: 19.793402 / 누적: 17.995001 | loss:80.750000 |                                                                  \n",
      "'__init__'  23.44 s\n",
      ">>>>> 00835] 현재: 10.539200 / 누적: 11.416000 | loss:64.010002 |                                                                  \n",
      "'__init__'  28.45 s\n",
      ">>>>> 01231] 현재: 9.044801 / 누적: 18.326000 | loss:28.990000 |                                                                     \n",
      "'__init__'  28.50 s\n",
      ">>>>> 01327] 현재: 14.962999 / 누적: 13.211000 | loss:71.769997 |                                                                    \n",
      "'__init__'  32.99 s\n",
      ">>>>> 01456] 현재: 11.528700 / 누적: 15.906000 | loss:63.939999 |                                                                     \n",
      "'__init__'  25.71 s\n",
      ">>>>> 01731] 현재: 12.072701 / 누적: 23.466000 | loss:68.349998 |                                                                   \n",
      "'__init__'  25.41 s\n",
      ">>>>> 01734] 현재: 25.276600 / 누적: 23.132000 | loss:91.550003 |                                                                 \n",
      "'__init__'  30.98 s\n",
      ">>>>> 01738] 현재: 21.201300 / 누적: 18.034000 | loss:82.370003 |                                                                \n",
      "'__init__'  21.51 s\n",
      ">>>>> 01760] 현재: 29.128601 / 누적: 20.693001 | loss:96.900002 |                                                                   \n",
      "'__init__'  31.44 s\n",
      ">>>>> 01762] 현재: 24.904701 / 누적: 15.910000 | loss:50.490002 |                                                                 \n",
      "'__init__'  31.01 s\n",
      ">>>>> 01763] 현재: 11.378500 / 누적: 15.370000 | loss:23.240000 |                                                                    \n",
      "'__init__'  29.09 s\n",
      ">>>>> 01773] 현재: 8.643700 / 누적: 13.293000 | loss:18.309999 |                                                                    \n",
      "'__init__'  27.63 s\n",
      ">>>>> 01802] 현재: 13.437401 / 누적: 17.516001 | loss:30.629999 |                                                                   \n",
      "'__init__'  27.86 s\n",
      ">>>>> 01816] 현재: 19.705500 / 누적: 17.645000 | loss:80.449997 |                                                                \n",
      "'__init__'  25.20 s\n",
      ">>>>> 01818] 현재: 11.979601 / 누적: 9.831000 | loss:64.120003 |                                                                     \n",
      "'__init__'  26.38 s\n",
      ">>>>> 01849] 현재: 17.263201 / 누적: 13.685000 | loss:76.019997 |                                                                  \n",
      "'__init__'  29.81 s\n",
      ">>>>> 01860] 현재: 8.916101 / 누적: 10.383000 | loss:58.830002 |                                                                 \n",
      "'__init__'  27.03 s\n",
      ">>>>> 01862] 현재: 33.432701 / 누적: 32.396000 | loss:110.459999 |                                                                  \n",
      "'__init__'  36.37 s\n",
      ">>>>> 01866] 현재: 16.544901 / 누적: 21.431000 | loss:74.849998 |                                                                     \n",
      "'__init__'  31.23 s\n",
      ">>>>> 01882] 현재: 7.598100 / 누적: 8.622000 | loss:56.240002 |                                                                   \n",
      "'__init__'  27.35 s\n",
      ">>>>> 01907] 현재: 29.286703 / 누적: 35.782001 | loss:93.440002 |                                                                      \n",
      "'__init__'  20.60 s\n",
      ">>>>> 01924] 현재: 10.389800 / 누적: 13.476000 | loss:62.939999 |                                                                 \n",
      "'__init__'  20.45 s\n",
      ">>>>> 01926] 현재: 19.069698 / 누적: 16.716999 | loss:81.519997 |                                                                   \n",
      "'__init__'  23.83 s\n",
      ">>>>> 01933] 현재: 14.107201 / 누적: 22.882999 | loss:32.180000 |                                                                       \n",
      "'__init__'  27.55 s\n",
      ">>>>> 01965] 현재: 14.220700 / 누적: 10.226000 | loss:69.230003 |                                                                   \n",
      "'__init__'  27.28 s\n",
      ">>>>> 01979] 현재: 20.274401 / 누적: 16.725000 | loss:81.489998 |                                                                    \n",
      "'__init__'  23.27 s\n",
      ">>>>> 02023] 현재: 15.889299 / 누적: 14.455000 | loss:71.860001 |                                                                 \n",
      "'__init__'  23.67 s\n",
      ">>>>> 02024] 현재: 20.076000 / 누적: 12.070000 | loss:79.940002 |                                                                  \n",
      "'__init__'  28.23 s\n",
      ">>>>> 02058] 현재: 6.311100 / 누적: 6.355000 | loss:54.750000 |                                                                \n",
      "'__init__'  20.75 s\n",
      ">>>>> 02064] 현재: 14.463000 / 누적: 13.772000 | loss:70.370003 |                                                                   \n",
      "'__init__'  29.03 s\n",
      ">>>>> 02077] 현재: 25.099102 / 누적: 23.368000 | loss:87.550003 |                                                                       \n",
      "'__init__'  26.10 s\n",
      ">>>>> 02085] 현재: 23.248798 / 누적: 19.299999 | loss:85.570000 |                                                                  \n",
      "'__init__'  25.31 s\n",
      ">>>>> 02086] 현재: 9.857301 / 누적: 16.712999 | loss:60.009998 |                                                                  \n",
      "'__init__'  24.39 s\n",
      ">>>>> 02092] 현재: 9.406599 / 누적: 16.035000 | loss:65.580002 |                                                                 \n",
      "'__init__'  18.04 s\n",
      ">>>>> 02105] 현재: 12.262500 / 누적: 11.719000 | loss:63.419998 |                                                                  \n",
      "'__init__'  21.39 s\n",
      ">>>>> 02112] 현재: 8.998000 / 누적: 11.170000 | loss:59.910000 |                                                                  \n",
      "'__init__'  27.31 s\n",
      ">>>>> 02136] 현재: 13.996699 / 누적: 11.349000 | loss:69.019997 |                                                                   \n",
      "'__init__'  22.39 s\n",
      ">>>>> 02152] 현재: 11.218301 / 누적: 16.275000 | loss:63.680000 |                                                                    \n",
      "'__init__'  31.03 s\n",
      ">>>>> 02159] 현재: 11.867701 / 누적: 21.347000 | loss:42.080002 |                                                                    \n",
      "'__init__'  26.28 s\n",
      ">>>>> 02319] 현재: 26.940601 / 누적: 23.938999 | loss:94.589996 |                                                                     \n",
      "'__init__'  26.19 s\n",
      ">>>>> 02347] 현재: 19.409901 / 누적: 20.570999 | loss:78.769997 |                                                                  \n",
      "'__init__'  20.93 s\n",
      ">>>>> 02367] 현재: 26.353199 / 누적: 16.395000 | loss:91.629997 |                                                                   \n",
      "'__init__'  25.19 s\n",
      ">>>>> 02373] 현재: 32.061104 / 누적: 21.593000 | loss:103.080002 |                                                                    \n",
      "'__init__'  26.39 s\n",
      ">>>>> 02420] 현재: 13.112799 / 누적: 15.687000 | loss:69.239998 |                                                                 \n",
      "'__init__'  27.28 s\n",
      ">>>>> 02421] 현재: 21.838999 / 누적: 19.962000 | loss:47.389999 |                                                                   \n",
      "'__init__'  24.57 s\n",
      ">>>>> 02465] 현재: 12.348000 / 누적: 13.851000 | loss:69.260002 |                                                                   \n",
      "'__init__'  26.42 s\n",
      ">>>>> 02518] 현재: 17.089199 / 누적: 11.584000 | loss:35.290001 |                                                                      \n",
      "'__init__'  28.80 s\n",
      ">>>>> 02522] 현재: 24.495800 / 누적: 20.086000 | loss:62.299999 |                                                                    \n",
      "'__init__'  22.29 s\n",
      ">>>>> 02575] 현재: 16.199200 / 누적: 12.943000 | loss:74.720001 |                                                              \n",
      "'__init__'  27.50 s\n",
      ">>>>> 02576] 현재: 151.912399 / 누적: 151.912003 | loss:365.760010 |                                                            \n",
      "'__init__'  21.78 s\n",
      ">>>>> 02581] 현재: 20.869402 / 누적: 18.972000 | loss:85.389999 |                                                                  \n",
      "'__init__'  32.59 s\n",
      ">>>>> 02585] 현재: 17.893499 / 누적: 43.507999 | loss:78.500000 |                                                                     \n",
      "'__init__'  23.99 s\n",
      ">>>>> 02732] 현재: 18.063400 / 누적: 16.986000 | loss:79.129997 |                                                                   \n"
     ]
    },
    {
     "ename": "ValueError",
     "evalue": "__len__() should return >= 0",
     "output_type": "error",
     "traceback": [
      "\u001b[0;31m---------------------------------------------------------------------------\u001b[0m",
      "\u001b[0;31mValueError\u001b[0m                                Traceback (most recent call last)",
      "\u001b[0;32m<ipython-input-8-70029567a14b>\u001b[0m in \u001b[0;36m<module>\u001b[0;34m\u001b[0m\n\u001b[1;32m      3\u001b[0m \u001b[0;32mfor\u001b[0m \u001b[0mpid\u001b[0m \u001b[0;32min\u001b[0m \u001b[0mtr_pid\u001b[0m\u001b[0;34m:\u001b[0m\u001b[0;34m\u001b[0m\u001b[0;34m\u001b[0m\u001b[0m\n\u001b[1;32m      4\u001b[0m     \u001b[0mprint\u001b[0m\u001b[0;34m(\u001b[0m\u001b[0;34m\">>>>> {}\"\u001b[0m\u001b[0;34m.\u001b[0m\u001b[0mformat\u001b[0m\u001b[0;34m(\u001b[0m\u001b[0mpid\u001b[0m\u001b[0;34m)\u001b[0m\u001b[0;34m)\u001b[0m\u001b[0;34m\u001b[0m\u001b[0;34m\u001b[0m\u001b[0m\n\u001b[0;32m----> 5\u001b[0;31m     \u001b[0mrun_profile\u001b[0m\u001b[0;34m(\u001b[0m\u001b[0mpid\u001b[0m\u001b[0;34m,\u001b[0m \u001b[0mctx\u001b[0m\u001b[0;34m,\u001b[0m \u001b[0mout_dir_path\u001b[0m\u001b[0;34m=\u001b[0m\u001b[0;34m'/home/elvin/host/mnt/ssd3/report/everyone-3dmm/'\u001b[0m\u001b[0;34m)\u001b[0m\u001b[0;34m\u001b[0m\u001b[0;34m\u001b[0m\u001b[0m\n\u001b[0m",
      "\u001b[0;32m~/ai/models/tf/leo/runner.py\u001b[0m in \u001b[0;36mrun_profile\u001b[0;34m(profile_id, ctx, epoch, out_dir_path)\u001b[0m\n\u001b[1;32m     27\u001b[0m     \u001b[0mmat\u001b[0m \u001b[0;34m=\u001b[0m \u001b[0mMatrix\u001b[0m\u001b[0;34m(\u001b[0m\u001b[0mctx\u001b[0m\u001b[0;34m)\u001b[0m\u001b[0;34m\u001b[0m\u001b[0;34m\u001b[0m\u001b[0m\n\u001b[1;32m     28\u001b[0m     \u001b[0mnet\u001b[0m \u001b[0;34m=\u001b[0m \u001b[0mLeo\u001b[0m\u001b[0;34m.\u001b[0m\u001b[0mcreate\u001b[0m\u001b[0;34m(\u001b[0m\u001b[0mctx\u001b[0m\u001b[0;34m)\u001b[0m\u001b[0;34m\u001b[0m\u001b[0;34m\u001b[0m\u001b[0m\n\u001b[0;32m---> 29\u001b[0;31m     \u001b[0mmdp\u001b[0m \u001b[0;34m=\u001b[0m \u001b[0mMultiDataProvider\u001b[0m\u001b[0;34m(\u001b[0m\u001b[0mctx\u001b[0m\u001b[0;34m,\u001b[0m \u001b[0;34m[\u001b[0m\u001b[0mprofile_id\u001b[0m\u001b[0;34m]\u001b[0m\u001b[0;34m)\u001b[0m\u001b[0;34m\u001b[0m\u001b[0;34m\u001b[0m\u001b[0m\n\u001b[0m\u001b[1;32m     30\u001b[0m \u001b[0;34m\u001b[0m\u001b[0m\n\u001b[1;32m     31\u001b[0m     \u001b[0;31m# run (TODO: 중간중간 평가셋 리포트)\u001b[0m\u001b[0;34m\u001b[0m\u001b[0;34m\u001b[0m\u001b[0;34m\u001b[0m\u001b[0m\n",
      "\u001b[0;32m~/ai/models/tf/leo/ds/data_utils.py\u001b[0m in \u001b[0;36mtimed\u001b[0;34m(*args, **kwargs)\u001b[0m\n\u001b[1;32m     37\u001b[0m     \u001b[0;32mdef\u001b[0m \u001b[0mtimed\u001b[0m\u001b[0;34m(\u001b[0m\u001b[0;34m*\u001b[0m\u001b[0margs\u001b[0m\u001b[0;34m,\u001b[0m \u001b[0;34m**\u001b[0m\u001b[0mkwargs\u001b[0m\u001b[0;34m)\u001b[0m\u001b[0;34m:\u001b[0m\u001b[0;34m\u001b[0m\u001b[0;34m\u001b[0m\u001b[0m\n\u001b[1;32m     38\u001b[0m         \u001b[0mstart\u001b[0m \u001b[0;34m=\u001b[0m \u001b[0mtime\u001b[0m\u001b[0;34m.\u001b[0m\u001b[0mtime\u001b[0m\u001b[0;34m(\u001b[0m\u001b[0;34m)\u001b[0m\u001b[0;34m\u001b[0m\u001b[0;34m\u001b[0m\u001b[0m\n\u001b[0;32m---> 39\u001b[0;31m         \u001b[0mresult\u001b[0m \u001b[0;34m=\u001b[0m \u001b[0mfunc\u001b[0m\u001b[0;34m(\u001b[0m\u001b[0;34m*\u001b[0m\u001b[0margs\u001b[0m\u001b[0;34m,\u001b[0m \u001b[0;34m**\u001b[0m\u001b[0mkwargs\u001b[0m\u001b[0;34m)\u001b[0m\u001b[0;34m\u001b[0m\u001b[0;34m\u001b[0m\u001b[0m\n\u001b[0m\u001b[1;32m     40\u001b[0m         \u001b[0mend\u001b[0m \u001b[0;34m=\u001b[0m \u001b[0mtime\u001b[0m\u001b[0;34m.\u001b[0m\u001b[0mtime\u001b[0m\u001b[0;34m(\u001b[0m\u001b[0;34m)\u001b[0m\u001b[0;34m\u001b[0m\u001b[0;34m\u001b[0m\u001b[0m\n\u001b[1;32m     41\u001b[0m         \u001b[0mprint\u001b[0m\u001b[0;34m(\u001b[0m\u001b[0;34m'%r  %2.2f s'\u001b[0m \u001b[0;34m%\u001b[0m \u001b[0;34m(\u001b[0m\u001b[0mfunc\u001b[0m\u001b[0;34m.\u001b[0m\u001b[0m__name__\u001b[0m\u001b[0;34m,\u001b[0m \u001b[0;34m(\u001b[0m\u001b[0mend\u001b[0m \u001b[0;34m-\u001b[0m \u001b[0mstart\u001b[0m\u001b[0;34m)\u001b[0m\u001b[0;34m)\u001b[0m\u001b[0;34m)\u001b[0m\u001b[0;34m\u001b[0m\u001b[0;34m\u001b[0m\u001b[0m\n",
      "\u001b[0;32m~/ai/models/tf/leo/ds/leo_multi_data.py\u001b[0m in \u001b[0;36m__init__\u001b[0;34m(self, ctx, pids, shuffle)\u001b[0m\n\u001b[1;32m     12\u001b[0m         \u001b[0mself\u001b[0m\u001b[0;34m.\u001b[0m\u001b[0mctx\u001b[0m \u001b[0;34m=\u001b[0m \u001b[0mctx\u001b[0m\u001b[0;34m\u001b[0m\u001b[0;34m\u001b[0m\u001b[0m\n\u001b[1;32m     13\u001b[0m         \u001b[0mself\u001b[0m\u001b[0;34m.\u001b[0m\u001b[0mpids\u001b[0m \u001b[0;34m=\u001b[0m \u001b[0mpids\u001b[0m\u001b[0;34m\u001b[0m\u001b[0;34m\u001b[0m\u001b[0m\n\u001b[0;32m---> 14\u001b[0;31m         \u001b[0mself\u001b[0m\u001b[0;34m.\u001b[0m\u001b[0mbuild_index\u001b[0m\u001b[0;34m(\u001b[0m\u001b[0mshuffle\u001b[0m\u001b[0;34m)\u001b[0m\u001b[0;34m\u001b[0m\u001b[0;34m\u001b[0m\u001b[0m\n\u001b[0m\u001b[1;32m     15\u001b[0m \u001b[0;34m\u001b[0m\u001b[0m\n\u001b[1;32m     16\u001b[0m     \u001b[0;32mdef\u001b[0m \u001b[0mbuild_index\u001b[0m\u001b[0;34m(\u001b[0m\u001b[0mself\u001b[0m\u001b[0;34m,\u001b[0m \u001b[0mshuffle\u001b[0m\u001b[0;34m)\u001b[0m\u001b[0;34m:\u001b[0m\u001b[0;34m\u001b[0m\u001b[0;34m\u001b[0m\u001b[0m\n",
      "\u001b[0;32m~/ai/models/tf/leo/ds/leo_multi_data.py\u001b[0m in \u001b[0;36mbuild_index\u001b[0;34m(self, shuffle)\u001b[0m\n\u001b[1;32m     16\u001b[0m     \u001b[0;32mdef\u001b[0m \u001b[0mbuild_index\u001b[0m\u001b[0;34m(\u001b[0m\u001b[0mself\u001b[0m\u001b[0;34m,\u001b[0m \u001b[0mshuffle\u001b[0m\u001b[0;34m)\u001b[0m\u001b[0;34m:\u001b[0m\u001b[0;34m\u001b[0m\u001b[0;34m\u001b[0m\u001b[0m\n\u001b[1;32m     17\u001b[0m         \u001b[0mself\u001b[0m\u001b[0;34m.\u001b[0m\u001b[0mproviders\u001b[0m \u001b[0;34m=\u001b[0m \u001b[0;34m[\u001b[0m\u001b[0mDataProvider\u001b[0m\u001b[0;34m(\u001b[0m\u001b[0mself\u001b[0m\u001b[0;34m.\u001b[0m\u001b[0mctx\u001b[0m\u001b[0;34m,\u001b[0m \u001b[0mpid\u001b[0m\u001b[0;34m)\u001b[0m \u001b[0;32mfor\u001b[0m \u001b[0mpid\u001b[0m \u001b[0;32min\u001b[0m \u001b[0mself\u001b[0m\u001b[0;34m.\u001b[0m\u001b[0mpids\u001b[0m\u001b[0;34m]\u001b[0m\u001b[0;34m\u001b[0m\u001b[0;34m\u001b[0m\u001b[0m\n\u001b[0;32m---> 18\u001b[0;31m         \u001b[0mself\u001b[0m\u001b[0;34m.\u001b[0m\u001b[0mprovider_lens\u001b[0m \u001b[0;34m=\u001b[0m \u001b[0;34m[\u001b[0m\u001b[0mlen\u001b[0m\u001b[0;34m(\u001b[0m\u001b[0mp\u001b[0m\u001b[0;34m)\u001b[0m \u001b[0;32mfor\u001b[0m \u001b[0mp\u001b[0m \u001b[0;32min\u001b[0m \u001b[0mself\u001b[0m\u001b[0;34m.\u001b[0m\u001b[0mproviders\u001b[0m\u001b[0;34m]\u001b[0m\u001b[0;34m\u001b[0m\u001b[0;34m\u001b[0m\u001b[0m\n\u001b[0m\u001b[1;32m     19\u001b[0m \u001b[0;34m\u001b[0m\u001b[0m\n\u001b[1;32m     20\u001b[0m         \u001b[0maccess_index\u001b[0m \u001b[0;34m=\u001b[0m \u001b[0;34m[\u001b[0m\u001b[0;34m]\u001b[0m\u001b[0;34m\u001b[0m\u001b[0;34m\u001b[0m\u001b[0m\n",
      "\u001b[0;32m~/ai/models/tf/leo/ds/leo_multi_data.py\u001b[0m in \u001b[0;36m<listcomp>\u001b[0;34m(.0)\u001b[0m\n\u001b[1;32m     16\u001b[0m     \u001b[0;32mdef\u001b[0m \u001b[0mbuild_index\u001b[0m\u001b[0;34m(\u001b[0m\u001b[0mself\u001b[0m\u001b[0;34m,\u001b[0m \u001b[0mshuffle\u001b[0m\u001b[0;34m)\u001b[0m\u001b[0;34m:\u001b[0m\u001b[0;34m\u001b[0m\u001b[0;34m\u001b[0m\u001b[0m\n\u001b[1;32m     17\u001b[0m         \u001b[0mself\u001b[0m\u001b[0;34m.\u001b[0m\u001b[0mproviders\u001b[0m \u001b[0;34m=\u001b[0m \u001b[0;34m[\u001b[0m\u001b[0mDataProvider\u001b[0m\u001b[0;34m(\u001b[0m\u001b[0mself\u001b[0m\u001b[0;34m.\u001b[0m\u001b[0mctx\u001b[0m\u001b[0;34m,\u001b[0m \u001b[0mpid\u001b[0m\u001b[0;34m)\u001b[0m \u001b[0;32mfor\u001b[0m \u001b[0mpid\u001b[0m \u001b[0;32min\u001b[0m \u001b[0mself\u001b[0m\u001b[0;34m.\u001b[0m\u001b[0mpids\u001b[0m\u001b[0;34m]\u001b[0m\u001b[0;34m\u001b[0m\u001b[0;34m\u001b[0m\u001b[0m\n\u001b[0;32m---> 18\u001b[0;31m         \u001b[0mself\u001b[0m\u001b[0;34m.\u001b[0m\u001b[0mprovider_lens\u001b[0m \u001b[0;34m=\u001b[0m \u001b[0;34m[\u001b[0m\u001b[0mlen\u001b[0m\u001b[0;34m(\u001b[0m\u001b[0mp\u001b[0m\u001b[0;34m)\u001b[0m \u001b[0;32mfor\u001b[0m \u001b[0mp\u001b[0m \u001b[0;32min\u001b[0m \u001b[0mself\u001b[0m\u001b[0;34m.\u001b[0m\u001b[0mproviders\u001b[0m\u001b[0;34m]\u001b[0m\u001b[0;34m\u001b[0m\u001b[0;34m\u001b[0m\u001b[0m\n\u001b[0m\u001b[1;32m     19\u001b[0m \u001b[0;34m\u001b[0m\u001b[0m\n\u001b[1;32m     20\u001b[0m         \u001b[0maccess_index\u001b[0m \u001b[0;34m=\u001b[0m \u001b[0;34m[\u001b[0m\u001b[0;34m]\u001b[0m\u001b[0;34m\u001b[0m\u001b[0;34m\u001b[0m\u001b[0m\n",
      "\u001b[0;31mValueError\u001b[0m: __len__() should return >= 0"
     ]
    }
   ],
   "source": [
    "ctx = Context.create(config)\n",
    "\n",
    "for pid in tr_pid:\n",
    "    print(\">>>>> {}\\n\".format(pid))\n",
    "    run_profile(pid, ctx, out_dir_path='/home/elvin/host/mnt/ssd3/report/everyone-3dmm/')"
   ]
  },
  {
   "cell_type": "markdown",
   "metadata": {},
   "source": [
    "<br>\n",
    "<br>\n",
    "<br>\n",
    "<br>\n",
    "<br>\n",
    "<br>\n",
    "\n",
    "*** \n",
    "\n",
    "## DOING\n",
    "- 레퍼런스 모델에서 2개의 프로파일로 수행했을 때와 FiLM 모듈을 추가하여서 LEO로 했을 때 성능 비교\n",
    "\n",
    "## Queue\n",
    "- 훈련 중 epoch 마다 평가셋 수치 리포트하기\n",
    "- Complex Genc System\n",
    "    - 각각 목적으로 분리된 Genc\n",
    "    - Runtime Adaptation\n",
    "    - Use image as encoder input\n",
    "- Robust\n",
    "    - ordinal loss + PGD (adversarial attack)\n",
    "- 주시안 / 비주시안\n",
    "    - left, right target 계산 결과의 평균이 아닌 lstm NN으로 판정"
   ]
  }
 ],
 "metadata": {
  "kernelspec": {
   "display_name": "Python 3",
   "language": "python",
   "name": "python3"
  },
  "language_info": {
   "codemirror_mode": {
    "name": "ipython",
    "version": 3
   },
   "file_extension": ".py",
   "mimetype": "text/x-python",
   "name": "python",
   "nbconvert_exporter": "python",
   "pygments_lexer": "ipython3",
   "version": "3.6.9"
  }
 },
 "nbformat": 4,
 "nbformat_minor": 4
}
