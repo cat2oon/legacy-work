{
 "cells": [
  {
   "cell_type": "code",
   "execution_count": 1,
   "metadata": {},
   "outputs": [],
   "source": [
    "def set_gpu_memory_growth_mode(gpu_id=0):\n",
    "    import tensorflow as tf\n",
    "    try:\n",
    "        gpus = tf.config.experimental.list_physical_devices('GPU')\n",
    "        tf.config.experimental.set_memory_growth(gpus[gpu_id], True)\n",
    "    except RuntimeError as e:\n",
    "        print(e)"
   ]
  },
  {
   "cell_type": "code",
   "execution_count": 2,
   "metadata": {},
   "outputs": [],
   "source": [
    "set_gpu_memory_growth_mode()"
   ]
  },
  {
   "cell_type": "code",
   "execution_count": 3,
   "metadata": {},
   "outputs": [],
   "source": [
    "import sys\n",
    "import math\n",
    "\n",
    "import ds.data4 as ds\n",
    "\n",
    "from cheat.tfs import *\n",
    "from matrix import *\n",
    "from context import *\n",
    "from nets.m4 import *\n",
    "\n",
    "np.set_printoptions(suppress=True)"
   ]
  },
  {
   "cell_type": "markdown",
   "metadata": {},
   "source": [
    "# Context"
   ]
  },
  {
   "cell_type": "code",
   "execution_count": 4,
   "metadata": {},
   "outputs": [],
   "source": [
    "config = {\n",
    "    'seed' : 1234,\n",
    "    'use_64bits': False,\n",
    "    \n",
    "    # Loss\n",
    "    'loss_type': 'mse',\n",
    "    \n",
    "    # LEO & target parameter theta dim\n",
    "    'num_latents': 16*4,\n",
    "    # 'gen_theta_dim': 96*8 + 8,\n",
    "    'gen_theta_dim': 3,\n",
    "    'num_k_shot': 5,\n",
    "    'num_valid_shot': 10,\n",
    "        \n",
    "    # Batch & Step size\n",
    "    'batch_size' : 3,\n",
    "    'first_decay_steps': 20,\n",
    "    'meta_lr': 1e-4,\n",
    "    'latent_lr': 1e-6,\n",
    "    'finetuning_lr': 1e-6,\n",
    "    'num_latent_grad_steps' : 5,\n",
    "    'num_finetune_grad_steps' : 5,\n",
    "    'num_meta_grad_steps' : 5,\n",
    "    \n",
    "    'gradient_threshold': 0.2,\n",
    "    'gradient_norm_threshold': 0.2,\n",
    " \n",
    "    # Regularizer Term\n",
    "    'dropout_rate': 0.4,\n",
    "    'kl_weight': 1e-3,\n",
    "    'l2_penalty_weight': 1e-8,\n",
    "    'encoder_penalty_weight': 1e-9,\n",
    "    'orthogonality_penalty_weight': 1e-3,\n",
    "    \n",
    "    'num_epochs' : 20,\n",
    "    'npy_root_path': '/home/elvin/banner/mnt/ssd3/nps/',\n",
    "}\n",
    "\n",
    "ctx = Context.create(config)"
   ]
  },
  {
   "cell_type": "code",
   "execution_count": 5,
   "metadata": {},
   "outputs": [],
   "source": [
    "data_provider = ds.DataProvider(ctx, \"01054\")"
   ]
  },
  {
   "cell_type": "code",
   "execution_count": 6,
   "metadata": {},
   "outputs": [],
   "source": [
    "# ASSERT \n",
    "num = len(data_provider)\n",
    "tasks = data_provider[num-5]\n",
    "task = tasks[ctx.batch_size-1]\n",
    "\n",
    "assert task.tr_le.shape == (ctx.num_k_shot, 64, 128, 1)\n",
    "assert task.tr_re.shape == (ctx.num_k_shot, 64, 128, 1)\n",
    "assert task.tr_output.shape == (ctx.num_k_shot, 5)\n",
    "assert task.val_output.shape == (ctx.num_valid_shot, 5)"
   ]
  },
  {
   "cell_type": "code",
   "execution_count": 7,
   "metadata": {},
   "outputs": [],
   "source": [
    "mat = Matrix(ctx)\n",
    "net = Leo.create(ctx)"
   ]
  },
  {
   "cell_type": "code",
   "execution_count": 8,
   "metadata": {},
   "outputs": [
    {
     "name": "stdout",
     "output_type": "stream",
     "text": [
      "[24 57 15 49 23 41]\n"
     ]
    }
   ],
   "source": [
    "test_task_ids = np.random.choice(len(data_provider), 6)\n",
    "test_task_ids = np.random.choice(len(data_provider), 6)\n",
    "print(test_task_ids)"
   ]
  },
  {
   "cell_type": "code",
   "execution_count": 9,
   "metadata": {},
   "outputs": [],
   "source": [
    "# for i in range(8):\n",
    "#    net.run_with_test(50, data_provider, mat, test_task_ids, prior_task_id=0)"
   ]
  },
  {
   "cell_type": "code",
   "execution_count": 10,
   "metadata": {},
   "outputs": [
    {
     "name": "stdout",
     "output_type": "stream",
     "text": [
      "['latent_lr:0', 'finetuning_lr:0']\n"
     ]
    }
   ],
   "source": [
    "vars_zero = net.trainable_variables\n",
    "print([v.name for v in vars_zero])"
   ]
  },
  {
   "cell_type": "code",
   "execution_count": 11,
   "metadata": {},
   "outputs": [
    {
     "name": "stdout",
     "output_type": "stream",
     "text": [
      "[]\n"
     ]
    }
   ],
   "source": [
    "vars_e_zero = net.eyenet.trainable_variables\n",
    "print([v.name for v in vars_e_zero])"
   ]
  },
  {
   "cell_type": "code",
   "execution_count": null,
   "metadata": {},
   "outputs": [
    {
     "name": "stdout",
     "output_type": "stream",
     "text": [
      "[     67] 현재: 5.446200 / 누적: 6.439000 |                                                           \r"
     ]
    }
   ],
   "source": [
    "net.run_with_test(1, data_provider, mat, test_task_ids, prior_task_id=0)"
   ]
  },
  {
   "cell_type": "markdown",
   "metadata": {},
   "source": [
    "# Layer"
   ]
  },
  {
   "cell_type": "code",
   "execution_count": 13,
   "metadata": {},
   "outputs": [
    {
     "data": {
      "text/plain": [
       "[(0, 'encoder_l1/kernel:0'),\n",
       " (1, 'encoder_l2/kernel:0'),\n",
       " (2, 'relation_l1/kernel:0'),\n",
       " (3, 'relation_l2/kernel:0'),\n",
       " (4, 'relation_l3/kernel:0'),\n",
       " (5, 'decoder/kernel:0'),\n",
       " (6, 'fc_eye/kernel:0'),\n",
       " (7, 'fc_gaze_vec/kernel:0'),\n",
       " (8, 'fc_gaze_vec/bias:0'),\n",
       " (9, 'fc_target/kernel:0'),\n",
       " (10, 'latent_lr:0'),\n",
       " (11, 'finetuning_lr:0')]"
      ]
     },
     "execution_count": 13,
     "metadata": {},
     "output_type": "execute_result"
    }
   ],
   "source": [
    "vars = net.trainable_variables\n",
    "[(i,v.name) for i,v in enumerate(vars)]"
   ]
  },
  {
   "cell_type": "code",
   "execution_count": 14,
   "metadata": {},
   "outputs": [
    {
     "data": {
      "text/plain": [
       "<tf.Variable 'fc_gaze_vec/bias:0' shape=(3,) dtype=float32, numpy=array([-0.00193635,  0.00030106, -0.00102999], dtype=float32)>"
      ]
     },
     "execution_count": 14,
     "metadata": {},
     "output_type": "execute_result"
    }
   ],
   "source": [
    "vars[8]"
   ]
  },
  {
   "cell_type": "code",
   "execution_count": 17,
   "metadata": {},
   "outputs": [
    {
     "data": {
      "text/plain": [
       "[(0, 'dl_bn1/gamma:0'),\n",
       " (1, 'dl_bn1/beta:0'),\n",
       " (2, 'dl_bn2/gamma:0'),\n",
       " (3, 'dl_bn2/beta:0'),\n",
       " (4, 'dl_bn3/gamma:0'),\n",
       " (5, 'dl_bn3/beta:0'),\n",
       " (6, 'dl_conv1/kernel:0'),\n",
       " (7, 'dl_conv2/kernel:0'),\n",
       " (8, 'dl_conv3/kernel:0'),\n",
       " (9, 'dw_conv1/depthwise_kernel:0'),\n",
       " (10, 'dw_conv_l1/depthwise_kernel:0'),\n",
       " (11, 'dw_conv_r1/depthwise_kernel:0'),\n",
       " (12, 'fc1/kernel:0'),\n",
       " (13, 'in_norm1/gamma:0'),\n",
       " (14, 'in_norm1/beta:0'),\n",
       " (15, 'in_norm2/gamma:0'),\n",
       " (16, 'in_norm2/beta:0'),\n",
       " (17, 'in_norm3/gamma:0'),\n",
       " (18, 'in_norm3/beta:0'),\n",
       " (19, 'in_norm_f1/gamma:0'),\n",
       " (20, 'in_norm_f1/beta:0'),\n",
       " (21, 'in_norm_l1/gamma:0'),\n",
       " (22, 'in_norm_l1/beta:0'),\n",
       " (23, 'in_norm_r1/gamma:0'),\n",
       " (24, 'in_norm_r1/beta:0'),\n",
       " (25, 'in_norm_r2/gamma:0'),\n",
       " (26, 'in_norm_r2/beta:0'),\n",
       " (27, 'pw_conv1/kernel:0'),\n",
       " (28, 'pw_conv2/kernel:0'),\n",
       " (29, 'pw_conv_l1/kernel:0'),\n",
       " (30, 'pw_conv_r1/kernel:0'),\n",
       " (31, 'pw_conv_r2/kernel:0'),\n",
       " (32, 'stem_bn1/gamma:0'),\n",
       " (33, 'stem_bn1/beta:0'),\n",
       " (34, 'stem_conv1/kernel:0')]"
      ]
     },
     "execution_count": 17,
     "metadata": {},
     "output_type": "execute_result"
    }
   ],
   "source": [
    "evars = net.eyenet.trainable_variables\n",
    "[(i,ev.name) for i,ev in enumerate(evars)]"
   ]
  },
  {
   "cell_type": "code",
   "execution_count": 19,
   "metadata": {},
   "outputs": [
    {
     "data": {
      "text/plain": [
       "array([[-0.01321553,  0.06336878, -0.18351857, ..., -0.07619655,\n",
       "         0.07227682,  0.04707609],\n",
       "       [-0.04093336, -0.18346262, -0.02021189, ...,  0.11297508,\n",
       "        -0.16489351,  0.07567738],\n",
       "       [ 0.19219302, -0.0417639 , -0.00523867, ...,  0.18024515,\n",
       "        -0.17390998, -0.15407884],\n",
       "       ...,\n",
       "       [ 0.04827158,  0.1819617 ,  0.11742558, ..., -0.13749918,\n",
       "         0.0090666 , -0.09392995],\n",
       "       [ 0.15983643, -0.09682325,  0.04287954, ...,  0.20372333,\n",
       "        -0.19453466, -0.14520562],\n",
       "       [ 0.191346  ,  0.16680686, -0.21235374, ...,  0.04997487,\n",
       "         0.00828564, -0.2117336 ]], dtype=float32)"
      ]
     },
     "execution_count": 19,
     "metadata": {},
     "output_type": "execute_result"
    }
   ],
   "source": [
    "evars[12].numpy()"
   ]
  }
 ],
 "metadata": {
  "kernelspec": {
   "display_name": "Python 3",
   "language": "python",
   "name": "python3"
  },
  "language_info": {
   "codemirror_mode": {
    "name": "ipython",
    "version": 3
   },
   "file_extension": ".py",
   "mimetype": "text/x-python",
   "name": "python",
   "nbconvert_exporter": "python",
   "pygments_lexer": "ipython3",
   "version": "3.6.9"
  }
 },
 "nbformat": 4,
 "nbformat_minor": 4
}
