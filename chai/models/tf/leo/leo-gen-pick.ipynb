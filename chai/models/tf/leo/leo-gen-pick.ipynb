{
 "cells": [
  {
   "cell_type": "markdown",
   "metadata": {},
   "source": [
    "# LEO Gens (GTA)"
   ]
  },
  {
   "cell_type": "code",
   "execution_count": 1,
   "metadata": {},
   "outputs": [],
   "source": [
    "from matrix import *\n",
    "from context import *\n",
    "from nets.leo import *\n",
    "from ds.leo_multi_data import *\n",
    "\n",
    "np.set_printoptions(suppress=True)"
   ]
  },
  {
   "cell_type": "code",
   "execution_count": 2,
   "metadata": {},
   "outputs": [],
   "source": [
    "def set_gpu_memory_growth_mode(gpu_id=0):\n",
    "    import tensorflow as tf\n",
    "    try:\n",
    "        gpus = tf.config.experimental.list_physical_devices('GPU')\n",
    "        tf.config.experimental.set_memory_growth(gpus[gpu_id], True)\n",
    "    except RuntimeError as e:\n",
    "        print(e)\n",
    "set_gpu_memory_growth_mode()        "
   ]
  },
  {
   "cell_type": "markdown",
   "metadata": {},
   "source": [
    "# Context"
   ]
  },
  {
   "cell_type": "code",
   "execution_count": 3,
   "metadata": {},
   "outputs": [],
   "source": [
    "config = {\n",
    "    'seed' : 1234,\n",
    "    'use_64bits': False,\n",
    "    'shuffle' : True,\n",
    "    'zero_kappa': False,\n",
    "    'use_calib_pick': True,\n",
    "    'use_valid_only': True,\n",
    "    'remove_blurry': False,\n",
    "    'gta_mode': 'kappa_angle',   # 'mixed_effect',\n",
    "    \n",
    "    # LEO & target parameter theta dim\n",
    "    'num_latents': 4,\n",
    "    # 'gen_theta_dims': 52+4+1+3,\n",
    "    'gen_theta_dims': 4,     # 128\n",
    "    'num_k_shots': 5,\n",
    "    'num_valid_shot': 5,\n",
    "        \n",
    "    # Batch & Step size\n",
    "    'batch_size' : 2,\n",
    "    'first_decay_steps': 20,\n",
    "    'meta_lr': 1e-5,\n",
    "    'theta_lr': 1e-6,\n",
    "    'latent_lr': 1e-6,\n",
    "    'num_latent_grad_steps' : 5,\n",
    "    'num_finetune_grad_steps' : 2,\n",
    "    \n",
    "    'gradient_threshold': 0.05,\n",
    "    'gradient_norm_threshold': 0.05,\n",
    " \n",
    "    # Regularizer Term\n",
    "    'dropout_rate': 0.4,\n",
    "    'kl_weight': 5e-1,\n",
    "    'l2_penalty_weight': 1e+1,\n",
    "    'encoder_penalty_weight': 1e-4,\n",
    "    'orthogonality_penalty_weight': 1e-3,\n",
    "    \n",
    "    'num_epochs' : 200,\n",
    "    'npy_root_path': '/home/elvin/host/mnt/ssd3/nps/',\n",
    "    'landmark_root_path': '/home/elvin/host/mnt/ssd3/lms/',\n",
    "    \n",
    "}\n",
    "\n",
    "ctx = Context.create(config)\n",
    "set_random_seed(ctx.seed)"
   ]
  },
  {
   "cell_type": "code",
   "execution_count": 4,
   "metadata": {},
   "outputs": [],
   "source": [
    "LEO_PICK_PIDS = ['00239','00247', '00376', '00623', '00719', '00835', '01231', '01327', '01456', '01460', '01603', '01731', '01734', '01738', '01760', '01762', '01763', '01773', '01786', '01802', '01816', '01817', '01818', '01849', '01860', '01862', '01866', '01869', '01882', '01889', '01907', '01924', '01926', '01930', '01933', '01936', '01961', '01965', '01979', '01984', '02015', '02022', '02023', '02024', '02028', '02038', '02058', '02064', '02077', '02085', '02086', '02092', '02105', '02112', '02114', '02131', '02136', '02152', '02159', '02161', '02168', '02319', '02347', '02358', '02359', '02361', '02367', '02373', '02394', '02420', '02421', '02440', '02459', '02465', '02478', '02518', '02522', '02524', '02575', '02576', '02581', '02585', '02587', '02732', '02763', '02954', '03006', '03214', '03231', '03263']"
   ]
  },
  {
   "cell_type": "code",
   "execution_count": 5,
   "metadata": {},
   "outputs": [],
   "source": [
    "LEO_TEST = np.random.choice(LEO_PICK_PIDS, 30, replace=False)\n",
    "LEO_TRAIN = [pid for pid in LEO_PICK_PIDS if pid not in LEO_TEST]"
   ]
  },
  {
   "cell_type": "code",
   "execution_count": 6,
   "metadata": {},
   "outputs": [
    {
     "name": "stdout",
     "output_type": "stream",
     "text": [
      "['00239', '00247', '00376', '00623', '00835', '01231', '01327', '01456', '01731', '01734', '01738', '01760', '01762', '01763', '01773', '01802', '01816', '01818', '01849', '01860', '01862', '01866', '01882', '01907', '01924', '01926', '01933', '01965', '01979', '02023', '02024', '02058', '02064', '02077', '02085', '02086', '02092', '02105', '02112', '02136', '02152', '02159', '02319', '02347', '02367', '02373', '02420', '02421', '02465', '02518', '02522', '02575', '02576', '02581', '02585', '02732', '02954', '03214', '03231', '03263']\n",
      "['00719', '01460', '01603', '01786', '01817', '01869', '01889', '01930', '01936', '01961', '01984', '02015', '02022', '02028', '02038', '02114', '02131', '02161', '02168', '02358', '02359', '02361', '02394', '02440', '02459', '02478', '02524', '02587', '02763', '03006']\n"
     ]
    }
   ],
   "source": [
    "print(LEO_TRAIN)\n",
    "print(sorted(LEO_TEST))"
   ]
  },
  {
   "cell_type": "markdown",
   "metadata": {},
   "source": [
    "# Gen System"
   ]
  },
  {
   "cell_type": "code",
   "execution_count": 7,
   "metadata": {},
   "outputs": [
    {
     "name": "stdout",
     "output_type": "stream",
     "text": [
      "'__init__'  39.08 s\n"
     ]
    }
   ],
   "source": [
    "mdp = MultiDataProvider(ctx, LEO_TRAIN)"
   ]
  },
  {
   "cell_type": "code",
   "execution_count": 8,
   "metadata": {},
   "outputs": [],
   "source": [
    "mat = Matrix(ctx)\n",
    "net = Leo.create(ctx)"
   ]
  },
  {
   "cell_type": "code",
   "execution_count": 9,
   "metadata": {},
   "outputs": [
    {
     "name": "stdout",
     "output_type": "stream",
     "text": [
      "[000     65] 현재: 1052.647583 / 누적: 1506.500000 | loss:1910156313607357945872384.000000 |                                                                   \r"
     ]
    },
    {
     "name": "stderr",
     "output_type": "stream",
     "text": [
      "/usr/local/lib/python3.6/dist-packages/numpy/core/fromnumeric.py:61: RuntimeWarning: overflow encountered in multiply\n",
      "  return bound(*args, **kwds)\n"
     ]
    },
    {
     "name": "stdout",
     "output_type": "stream",
     "text": [
      "[376 5328579] 현재: 17.242556 / 누적: 28.000000 | loss:34.279999 |                                                                                               \r"
     ]
    },
    {
     "ename": "KeyboardInterrupt",
     "evalue": "",
     "output_type": "error",
     "traceback": [
      "\u001b[0;31m---------------------------------------------------------------------------\u001b[0m",
      "\u001b[0;31mKeyboardInterrupt\u001b[0m                         Traceback (most recent call last)",
      "\u001b[0;32m<ipython-input-9-c0cc00cec005>\u001b[0m in \u001b[0;36m<module>\u001b[0;34m\u001b[0m\n\u001b[0;32m----> 1\u001b[0;31m \u001b[0mnet\u001b[0m\u001b[0;34m.\u001b[0m\u001b[0mtrain\u001b[0m\u001b[0;34m(\u001b[0m\u001b[0mmdp\u001b[0m\u001b[0;34m,\u001b[0m \u001b[0mmat\u001b[0m\u001b[0;34m,\u001b[0m \u001b[0mnum_epochs\u001b[0m\u001b[0;34m=\u001b[0m\u001b[0;36m500\u001b[0m\u001b[0;34m,\u001b[0m \u001b[0mis_leo\u001b[0m\u001b[0;34m=\u001b[0m\u001b[0;32mTrue\u001b[0m\u001b[0;34m)\u001b[0m\u001b[0;34m\u001b[0m\u001b[0;34m\u001b[0m\u001b[0m\n\u001b[0m",
      "\u001b[0;32m~/ai/models/tf/leo/nets/leo.py\u001b[0m in \u001b[0;36mtrain\u001b[0;34m(self, data_provider, matrix, num_epochs, is_leo)\u001b[0m\n\u001b[1;32m    185\u001b[0m         \u001b[0;32mfor\u001b[0m \u001b[0m_\u001b[0m \u001b[0;32min\u001b[0m \u001b[0mrange\u001b[0m\u001b[0;34m(\u001b[0m\u001b[0mnum_epochs\u001b[0m\u001b[0;34m)\u001b[0m\u001b[0;34m:\u001b[0m\u001b[0;34m\u001b[0m\u001b[0;34m\u001b[0m\u001b[0m\n\u001b[1;32m    186\u001b[0m             \u001b[0;32mfor\u001b[0m \u001b[0mtasks\u001b[0m \u001b[0;32min\u001b[0m \u001b[0mdata_provider\u001b[0m\u001b[0;34m:\u001b[0m\u001b[0;34m\u001b[0m\u001b[0;34m\u001b[0m\u001b[0m\n\u001b[0;32m--> 187\u001b[0;31m                 \u001b[0mloss\u001b[0m\u001b[0;34m,\u001b[0m \u001b[0mresult\u001b[0m \u001b[0;34m=\u001b[0m \u001b[0mself\u001b[0m\u001b[0;34m(\u001b[0m\u001b[0mtasks\u001b[0m\u001b[0;34m,\u001b[0m \u001b[0mis_leo\u001b[0m\u001b[0;34m=\u001b[0m\u001b[0mis_leo\u001b[0m\u001b[0;34m)\u001b[0m\u001b[0;34m\u001b[0m\u001b[0;34m\u001b[0m\u001b[0m\n\u001b[0m\u001b[1;32m    188\u001b[0m                 \u001b[0mmatrix\u001b[0m\u001b[0;34m.\u001b[0m\u001b[0madd\u001b[0m\u001b[0;34m(\u001b[0m\u001b[0mresult\u001b[0m\u001b[0;34m,\u001b[0m \u001b[0mloss\u001b[0m\u001b[0;34m)\u001b[0m\u001b[0;34m\u001b[0m\u001b[0;34m\u001b[0m\u001b[0m\n\u001b[1;32m    189\u001b[0m                 \u001b[0mmatrix\u001b[0m\u001b[0;34m.\u001b[0m\u001b[0mnext_batch\u001b[0m\u001b[0;34m(\u001b[0m\u001b[0;34m)\u001b[0m\u001b[0;34m\u001b[0m\u001b[0;34m\u001b[0m\u001b[0m\n",
      "\u001b[0;32m/usr/local/lib/python3.6/dist-packages/tensorflow_core/python/eager/def_function.py\u001b[0m in \u001b[0;36m__call__\u001b[0;34m(self, *args, **kwds)\u001b[0m\n\u001b[1;32m    566\u001b[0m         \u001b[0mxla_context\u001b[0m\u001b[0;34m.\u001b[0m\u001b[0mExit\u001b[0m\u001b[0;34m(\u001b[0m\u001b[0;34m)\u001b[0m\u001b[0;34m\u001b[0m\u001b[0;34m\u001b[0m\u001b[0m\n\u001b[1;32m    567\u001b[0m     \u001b[0;32melse\u001b[0m\u001b[0;34m:\u001b[0m\u001b[0;34m\u001b[0m\u001b[0;34m\u001b[0m\u001b[0m\n\u001b[0;32m--> 568\u001b[0;31m       \u001b[0mresult\u001b[0m \u001b[0;34m=\u001b[0m \u001b[0mself\u001b[0m\u001b[0;34m.\u001b[0m\u001b[0m_call\u001b[0m\u001b[0;34m(\u001b[0m\u001b[0;34m*\u001b[0m\u001b[0margs\u001b[0m\u001b[0;34m,\u001b[0m \u001b[0;34m**\u001b[0m\u001b[0mkwds\u001b[0m\u001b[0;34m)\u001b[0m\u001b[0;34m\u001b[0m\u001b[0;34m\u001b[0m\u001b[0m\n\u001b[0m\u001b[1;32m    569\u001b[0m \u001b[0;34m\u001b[0m\u001b[0m\n\u001b[1;32m    570\u001b[0m     \u001b[0;32mif\u001b[0m \u001b[0mtracing_count\u001b[0m \u001b[0;34m==\u001b[0m \u001b[0mself\u001b[0m\u001b[0;34m.\u001b[0m\u001b[0m_get_tracing_count\u001b[0m\u001b[0;34m(\u001b[0m\u001b[0;34m)\u001b[0m\u001b[0;34m:\u001b[0m\u001b[0;34m\u001b[0m\u001b[0;34m\u001b[0m\u001b[0m\n",
      "\u001b[0;32m/usr/local/lib/python3.6/dist-packages/tensorflow_core/python/eager/def_function.py\u001b[0m in \u001b[0;36m_call\u001b[0;34m(self, *args, **kwds)\u001b[0m\n\u001b[1;32m    597\u001b[0m       \u001b[0;31m# In this case we have created variables on the first call, so we run the\u001b[0m\u001b[0;34m\u001b[0m\u001b[0;34m\u001b[0m\u001b[0;34m\u001b[0m\u001b[0m\n\u001b[1;32m    598\u001b[0m       \u001b[0;31m# defunned version which is guaranteed to never create variables.\u001b[0m\u001b[0;34m\u001b[0m\u001b[0;34m\u001b[0m\u001b[0;34m\u001b[0m\u001b[0m\n\u001b[0;32m--> 599\u001b[0;31m       \u001b[0;32mreturn\u001b[0m \u001b[0mself\u001b[0m\u001b[0;34m.\u001b[0m\u001b[0m_stateless_fn\u001b[0m\u001b[0;34m(\u001b[0m\u001b[0;34m*\u001b[0m\u001b[0margs\u001b[0m\u001b[0;34m,\u001b[0m \u001b[0;34m**\u001b[0m\u001b[0mkwds\u001b[0m\u001b[0;34m)\u001b[0m  \u001b[0;31m# pylint: disable=not-callable\u001b[0m\u001b[0;34m\u001b[0m\u001b[0;34m\u001b[0m\u001b[0m\n\u001b[0m\u001b[1;32m    600\u001b[0m     \u001b[0;32melif\u001b[0m \u001b[0mself\u001b[0m\u001b[0;34m.\u001b[0m\u001b[0m_stateful_fn\u001b[0m \u001b[0;32mis\u001b[0m \u001b[0;32mnot\u001b[0m \u001b[0;32mNone\u001b[0m\u001b[0;34m:\u001b[0m\u001b[0;34m\u001b[0m\u001b[0;34m\u001b[0m\u001b[0m\n\u001b[1;32m    601\u001b[0m       \u001b[0;31m# Release the lock early so that multiple threads can perform the call\u001b[0m\u001b[0;34m\u001b[0m\u001b[0;34m\u001b[0m\u001b[0;34m\u001b[0m\u001b[0m\n",
      "\u001b[0;32m/usr/local/lib/python3.6/dist-packages/tensorflow_core/python/eager/function.py\u001b[0m in \u001b[0;36m__call__\u001b[0;34m(self, *args, **kwargs)\u001b[0m\n\u001b[1;32m   2361\u001b[0m     \u001b[0;32mwith\u001b[0m \u001b[0mself\u001b[0m\u001b[0;34m.\u001b[0m\u001b[0m_lock\u001b[0m\u001b[0;34m:\u001b[0m\u001b[0;34m\u001b[0m\u001b[0;34m\u001b[0m\u001b[0m\n\u001b[1;32m   2362\u001b[0m       \u001b[0mgraph_function\u001b[0m\u001b[0;34m,\u001b[0m \u001b[0margs\u001b[0m\u001b[0;34m,\u001b[0m \u001b[0mkwargs\u001b[0m \u001b[0;34m=\u001b[0m \u001b[0mself\u001b[0m\u001b[0;34m.\u001b[0m\u001b[0m_maybe_define_function\u001b[0m\u001b[0;34m(\u001b[0m\u001b[0margs\u001b[0m\u001b[0;34m,\u001b[0m \u001b[0mkwargs\u001b[0m\u001b[0;34m)\u001b[0m\u001b[0;34m\u001b[0m\u001b[0;34m\u001b[0m\u001b[0m\n\u001b[0;32m-> 2363\u001b[0;31m     \u001b[0;32mreturn\u001b[0m \u001b[0mgraph_function\u001b[0m\u001b[0;34m.\u001b[0m\u001b[0m_filtered_call\u001b[0m\u001b[0;34m(\u001b[0m\u001b[0margs\u001b[0m\u001b[0;34m,\u001b[0m \u001b[0mkwargs\u001b[0m\u001b[0;34m)\u001b[0m  \u001b[0;31m# pylint: disable=protected-access\u001b[0m\u001b[0;34m\u001b[0m\u001b[0;34m\u001b[0m\u001b[0m\n\u001b[0m\u001b[1;32m   2364\u001b[0m \u001b[0;34m\u001b[0m\u001b[0m\n\u001b[1;32m   2365\u001b[0m   \u001b[0;34m@\u001b[0m\u001b[0mproperty\u001b[0m\u001b[0;34m\u001b[0m\u001b[0;34m\u001b[0m\u001b[0m\n",
      "\u001b[0;32m/usr/local/lib/python3.6/dist-packages/tensorflow_core/python/eager/function.py\u001b[0m in \u001b[0;36m_filtered_call\u001b[0;34m(self, args, kwargs)\u001b[0m\n\u001b[1;32m   1609\u001b[0m          if isinstance(t, (ops.Tensor,\n\u001b[1;32m   1610\u001b[0m                            resource_variable_ops.BaseResourceVariable))),\n\u001b[0;32m-> 1611\u001b[0;31m         self.captured_inputs)\n\u001b[0m\u001b[1;32m   1612\u001b[0m \u001b[0;34m\u001b[0m\u001b[0m\n\u001b[1;32m   1613\u001b[0m   \u001b[0;32mdef\u001b[0m \u001b[0m_call_flat\u001b[0m\u001b[0;34m(\u001b[0m\u001b[0mself\u001b[0m\u001b[0;34m,\u001b[0m \u001b[0margs\u001b[0m\u001b[0;34m,\u001b[0m \u001b[0mcaptured_inputs\u001b[0m\u001b[0;34m,\u001b[0m \u001b[0mcancellation_manager\u001b[0m\u001b[0;34m=\u001b[0m\u001b[0;32mNone\u001b[0m\u001b[0;34m)\u001b[0m\u001b[0;34m:\u001b[0m\u001b[0;34m\u001b[0m\u001b[0;34m\u001b[0m\u001b[0m\n",
      "\u001b[0;32m/usr/local/lib/python3.6/dist-packages/tensorflow_core/python/eager/function.py\u001b[0m in \u001b[0;36m_call_flat\u001b[0;34m(self, args, captured_inputs, cancellation_manager)\u001b[0m\n\u001b[1;32m   1690\u001b[0m       \u001b[0;31m# No tape is watching; skip to running the function.\u001b[0m\u001b[0;34m\u001b[0m\u001b[0;34m\u001b[0m\u001b[0;34m\u001b[0m\u001b[0m\n\u001b[1;32m   1691\u001b[0m       return self._build_call_outputs(self._inference_function.call(\n\u001b[0;32m-> 1692\u001b[0;31m           ctx, args, cancellation_manager=cancellation_manager))\n\u001b[0m\u001b[1;32m   1693\u001b[0m     forward_backward = self._select_forward_and_backward_functions(\n\u001b[1;32m   1694\u001b[0m         \u001b[0margs\u001b[0m\u001b[0;34m,\u001b[0m\u001b[0;34m\u001b[0m\u001b[0;34m\u001b[0m\u001b[0m\n",
      "\u001b[0;32m/usr/local/lib/python3.6/dist-packages/tensorflow_core/python/eager/function.py\u001b[0m in \u001b[0;36mcall\u001b[0;34m(self, ctx, args, cancellation_manager)\u001b[0m\n\u001b[1;32m    543\u001b[0m               \u001b[0minputs\u001b[0m\u001b[0;34m=\u001b[0m\u001b[0margs\u001b[0m\u001b[0;34m,\u001b[0m\u001b[0;34m\u001b[0m\u001b[0;34m\u001b[0m\u001b[0m\n\u001b[1;32m    544\u001b[0m               \u001b[0mattrs\u001b[0m\u001b[0;34m=\u001b[0m\u001b[0;34m(\u001b[0m\u001b[0;34m\"executor_type\"\u001b[0m\u001b[0;34m,\u001b[0m \u001b[0mexecutor_type\u001b[0m\u001b[0;34m,\u001b[0m \u001b[0;34m\"config_proto\"\u001b[0m\u001b[0;34m,\u001b[0m \u001b[0mconfig\u001b[0m\u001b[0;34m)\u001b[0m\u001b[0;34m,\u001b[0m\u001b[0;34m\u001b[0m\u001b[0;34m\u001b[0m\u001b[0m\n\u001b[0;32m--> 545\u001b[0;31m               ctx=ctx)\n\u001b[0m\u001b[1;32m    546\u001b[0m         \u001b[0;32melse\u001b[0m\u001b[0;34m:\u001b[0m\u001b[0;34m\u001b[0m\u001b[0;34m\u001b[0m\u001b[0m\n\u001b[1;32m    547\u001b[0m           outputs = execute.execute_with_cancellation(\n",
      "\u001b[0;32m/usr/local/lib/python3.6/dist-packages/tensorflow_core/python/eager/execute.py\u001b[0m in \u001b[0;36mquick_execute\u001b[0;34m(op_name, num_outputs, inputs, attrs, ctx, name)\u001b[0m\n\u001b[1;32m     59\u001b[0m     tensors = pywrap_tensorflow.TFE_Py_Execute(ctx._handle, device_name,\n\u001b[1;32m     60\u001b[0m                                                \u001b[0mop_name\u001b[0m\u001b[0;34m,\u001b[0m \u001b[0minputs\u001b[0m\u001b[0;34m,\u001b[0m \u001b[0mattrs\u001b[0m\u001b[0;34m,\u001b[0m\u001b[0;34m\u001b[0m\u001b[0;34m\u001b[0m\u001b[0m\n\u001b[0;32m---> 61\u001b[0;31m                                                num_outputs)\n\u001b[0m\u001b[1;32m     62\u001b[0m   \u001b[0;32mexcept\u001b[0m \u001b[0mcore\u001b[0m\u001b[0;34m.\u001b[0m\u001b[0m_NotOkStatusException\u001b[0m \u001b[0;32mas\u001b[0m \u001b[0me\u001b[0m\u001b[0;34m:\u001b[0m\u001b[0;34m\u001b[0m\u001b[0;34m\u001b[0m\u001b[0m\n\u001b[1;32m     63\u001b[0m     \u001b[0;32mif\u001b[0m \u001b[0mname\u001b[0m \u001b[0;32mis\u001b[0m \u001b[0;32mnot\u001b[0m \u001b[0;32mNone\u001b[0m\u001b[0;34m:\u001b[0m\u001b[0;34m\u001b[0m\u001b[0;34m\u001b[0m\u001b[0m\n",
      "\u001b[0;31mKeyboardInterrupt\u001b[0m: "
     ]
    }
   ],
   "source": [
    "net.train(mdp, mat, num_epochs=500, is_leo=True)"
   ]
  },
  {
   "cell_type": "markdown",
   "metadata": {},
   "source": [
    "# 평가"
   ]
  },
  {
   "cell_type": "code",
   "execution_count": null,
   "metadata": {},
   "outputs": [],
   "source": [
    "dp = DataProvider(ctx, \"01866\")"
   ]
  },
  {
   "cell_type": "code",
   "execution_count": null,
   "metadata": {},
   "outputs": [],
   "source": [
    "result = net.evaluate(dp, use_cali_set=True, use_last_gen=False)"
   ]
  },
  {
   "cell_type": "code",
   "execution_count": null,
   "metadata": {},
   "outputs": [],
   "source": [
    "def analysis(res):\n",
    "    errs = [item.err for item in res]\n",
    "    df = pd.DataFrame(errs)\n",
    "    describe = df.apply(lambda x: x.describe([.1,.2,.3,.4,.5,.6,.7,.8,.9]))\n",
    "    \n",
    "    pcs = [0]\n",
    "    for i in range(4, 13):         # 10~90%\n",
    "        d_row = describe.iloc[i]\n",
    "        pcs.append(float(d_row.values))\n",
    "    \n",
    "    pc_ids = {i:[] for i in range(9)}\n",
    "    for item in res:\n",
    "        err = item.err\n",
    "        diff = item.true - item.pred\n",
    "        for i in range(9):\n",
    "            if pcs[i] < err and err <= pcs[i+1]:\n",
    "                t, p = item.true, item.pred\n",
    "                pc_ids[i].append((int(item.id), (float(p[0]), float(p[1]))))\n",
    "    return describe, pc_ids"
   ]
  },
  {
   "cell_type": "code",
   "execution_count": null,
   "metadata": {},
   "outputs": [],
   "source": [
    "d, ids = Matrix.statistics(result, analysis)"
   ]
  },
  {
   "cell_type": "markdown",
   "metadata": {},
   "source": [
    "*** \n",
    "*** \n",
    "\n",
    "## DOING\n",
    "- 일단 전체 데이터셋으로 eyenet 모듈 선학습하기\n",
    "  - 선훈련 장점: genc 모듈 학습이 안정적이고 전체 과정의 수렴 속도가 빠를 듯\n",
    "  - 선훈련 단점: eyenet 모듈이 optic 기준으로 학습이 안되고 전체 사람의 평균으로 bias를 학습하게 됨\n",
    "\n",
    "## Queue\n",
    "- genc 입력으로 계산 결과 오차 정보도 추가하기\n",
    "  - kappa 3 mlp로 해보기\n",
    "\n",
    "- 레퍼런스 모델에서 조금씩 바꿔보며 LEO 적용 실패하는 이유 살펴보기 \n",
    "- STEP2 range multiply 하기\n",
    "- theta에서 바로 뽑아낸 상수들도 activation으로 커팅하기\n",
    "- 너무 말도 안되는 gradient 버려버리기\n",
    "- 캘리브레이션 셋 선정하기 \n",
    "\n",
    "- left, right frame two channel single feed forward 작업  \n",
    "- mini face frame으로 얼굴 각도 피쳐 사용\n",
    "- 각각 용도로 분리된 genc\n",
    "- 최종 gaze에서 ordinal loss + PGD (adversarial attack)\n",
    "- left, right target 계산 결과의 평균이 아닌 lstm NN으로 판정\n",
    "  \n",
    "## DONE\n",
    "- relation 체크하기\n",
    "  - 샘플간 cross over 반영하도록 수정함\n",
    "- to visual axis 생성 축 방향확인하기\n",
    "- to_visual_axis 함수에서 unit vector로 만들어주기\n",
    " - 함수 특성상 항상 unit vector가 나오는데 어느 지점에서 바뀐거지?\n",
    " - face_R 보정 행렬이 직교 행렬이 아닌듯 -> pitch 각도로만 생성해서 직접 행렬로 만들기\n",
    " - face primary position 보정은 pitch만 하도록 반영하기 \n",
    " - pred vec이 정규화 되지 않는 이유 체크하기 (face 보정 수정 후 다시 체크할 것)\n",
    "- 왜 계속 같은 item들만 처리됨? (-> 아님, meta step 반복때문에 그렇게 보인 것)\n",
    "- loss nan이 떠야만 genc 모듈은 학습이 진행되는 기현상?\n",
    "  - genc 모듈이 별도 클래스로 했을 때는 nan 때에만 학습됨\n",
    "  - leo 모듈로 다시 모두 가져오니 학습이 됨\n",
    "- frame에 대한 blurry 계산 후 해당 프로파일에서 평균 threshold 정해서 커팅하기\n",
    "  - 01062 205번째 filter idx (968) 번 사례같은 것\n",
    "  - zscore -1 sigma 아래 잘라버림\n",
    "- gen_theta none (non calibration) 상황일 때 기본적인 값들로 동일 로직 수행하기\n",
    "  - kappa a,b = 0, 0, primary position rotmat: identity\n",
    "\n",
    "\n",
    "## Insight\n",
    "- 전체적으로 R 회전을 사용하는 것 보다 그냥 eye_patch의 theta, phi를 gaze로 취급하는 것이 더 좋음\n",
    " - 이것은 어쩌면 head pose에 대한 샘플들의 분포가 inbalance 해서 그럴 수 있음\n",
    "- 하지만 미시적 오차에서 R 행렬 적용 여부보다 더 성능에 영향을 주는 건 미세한 early stop 지점임\n",
    "  - 비벡터 모델의 실험과 동일하게 굉장히 미세한 차이로 10~30mm가 확확 띄는 현상이 보임\n",
    "  - lr를 낮게 주고 오랜시간 학습하면 위와 같은 들쭉날쭉 현상은 안정화 되는 편 \n",
    "  \n",
    "- 만약 피험자 샘플간 정확도의 차이를 유발하는 요소가 kappa와 같은 각도적인 요소라면 LEO로 해당 각을 찾아내는 것으로 해결될 수 있을 것이고, 그것이 아니라 텍스쳐나 안구 외형의 차이라 크다면 LEO 보다는 MAML의 접근이 더 잘 될 것이다. "
   ]
  }
 ],
 "metadata": {
  "kernelspec": {
   "display_name": "Python 3",
   "language": "python",
   "name": "python3"
  },
  "language_info": {
   "codemirror_mode": {
    "name": "ipython",
    "version": 3
   },
   "file_extension": ".py",
   "mimetype": "text/x-python",
   "name": "python",
   "nbconvert_exporter": "python",
   "pygments_lexer": "ipython3",
   "version": "3.6.9"
  }
 },
 "nbformat": 4,
 "nbformat_minor": 4
}
