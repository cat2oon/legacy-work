{
 "cells": [
  {
   "cell_type": "markdown",
   "metadata": {},
   "source": [
    "# 3D orientation"
   ]
  },
  {
   "cell_type": "code",
   "execution_count": 1,
   "metadata": {},
   "outputs": [],
   "source": [
    "import numpy as np"
   ]
  },
  {
   "cell_type": "code",
   "execution_count": 6,
   "metadata": {},
   "outputs": [],
   "source": [
    "def from_quaternion(w, x, y, z):\n",
    "    e11 = 1 - 2*y**2 - 2*z**2\n",
    "    e12 = 2*x*y - 2*z*w\n",
    "    e13 = 2*x*z + 2*w*y\n",
    "    \n",
    "    e21 = 2*x*y + 2*w*z\n",
    "    e22 = 1 - 2*x**2 - 2*z**2\n",
    "    e23 = 2*y*z - 2*w*x\n",
    "    \n",
    "    e31 = 2*x*z - 2*w*y\n",
    "    e32 = 2*y*z + 2*w*x\n",
    "    e33 = 1 - 2*x**2 - 2*y**2\n",
    "    \n",
    "    return np.matrix([\n",
    "        [e11, e12, e13], \n",
    "        [e21, e22, e23],\n",
    "        [e31, e32, e33]\n",
    "    ])"
   ]
  },
  {
   "cell_type": "code",
   "execution_count": 8,
   "metadata": {},
   "outputs": [],
   "source": [
    "w = 0.84811023649\n",
    "x = 0.529710808881\n",
    "y = -0.0107460706571\n",
    "z = -8.76436958123e-05"
   ]
  },
  {
   "cell_type": "code",
   "execution_count": 9,
   "metadata": {},
   "outputs": [],
   "source": [
    "rot_mat = from_quaternion(w,x,y,z)"
   ]
  },
  {
   "cell_type": "code",
   "execution_count": 10,
   "metadata": {},
   "outputs": [
    {
     "data": {
      "text/plain": [
       "matrix([[ 0.99976903, -0.01123596, -0.01832056],\n",
       "        [-0.01153328,  0.4388129 , -0.89850444],\n",
       "        [ 0.01813485,  0.8985082 ,  0.43858196]])"
      ]
     },
     "execution_count": 10,
     "metadata": {},
     "output_type": "execute_result"
    }
   ],
   "source": [
    "rot_mat"
   ]
  }
 ],
 "metadata": {
  "kernelspec": {
   "display_name": "Python 3",
   "language": "python",
   "name": "python3"
  },
  "language_info": {
   "codemirror_mode": {
    "name": "ipython",
    "version": 3
   },
   "file_extension": ".py",
   "mimetype": "text/x-python",
   "name": "python",
   "nbconvert_exporter": "python",
   "pygments_lexer": "ipython3",
   "version": "3.6.3"
  }
 },
 "nbformat": 4,
 "nbformat_minor": 2
}
