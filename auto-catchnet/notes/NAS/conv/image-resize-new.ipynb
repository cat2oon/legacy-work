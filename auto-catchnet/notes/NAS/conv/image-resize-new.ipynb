{
 "cells": [
  {
   "cell_type": "markdown",
   "metadata": {},
   "source": [
    "# image resize vis"
   ]
  },
  {
   "cell_type": "code",
   "execution_count": 1,
   "metadata": {},
   "outputs": [],
   "source": [
    "import glob\n",
    "import os\n",
    "import tensorflow as tf\n",
    "import matplotlib.pyplot as plt\n",
    "import scipy.misc\n",
    "\n",
    "%matplotlib inline"
   ]
  },
  {
   "cell_type": "markdown",
   "metadata": {},
   "source": [
    "# import py"
   ]
  },
  {
   "cell_type": "code",
   "execution_count": 2,
   "metadata": {},
   "outputs": [],
   "source": [
    "import sys\n",
    "sys.path.append(\"../../\")"
   ]
  },
  {
   "cell_type": "code",
   "execution_count": 3,
   "metadata": {},
   "outputs": [],
   "source": [
    "%run ../../ai/tf/setup/inits.py\n",
    "%run ../../ai/common/images.py\n",
    "%run ../../ai/nas/everyone/micro/model_inputs.py"
   ]
  },
  {
   "cell_type": "markdown",
   "metadata": {},
   "source": [
    "# define vars"
   ]
  },
  {
   "cell_type": "code",
   "execution_count": 4,
   "metadata": {
    "scrolled": true
   },
   "outputs": [
    {
     "name": "stdout",
     "output_type": "stream",
     "text": [
      "32 1\n",
      "WARNING:tensorflow:From /home/chy/.local/lib/python3.6/site-packages/tensorflow/python/ops/image_ops_impl.py:1169: calling squeeze (from tensorflow.python.ops.array_ops) with squeeze_dims is deprecated and will be removed in a future version.\n",
      "Instructions for updating:\n",
      "Use the `axis` argument instead\n"
     ]
    }
   ],
   "source": [
    "tf_src_path = \"/home/chy/archive-data/processed/everyone-tfr-face\"\n",
    "tfrecord_files = glob.glob(os.path.join(tf_src_path, '*.tfr'))\n",
    "\n",
    "iterator = to_dataset(tfrecord_files, batch_size=32)\n",
    "frames, faces, orienatations, cam_x, cam_y, csx, csy = iterator.get_next()"
   ]
  },
  {
   "cell_type": "code",
   "execution_count": 8,
   "metadata": {
    "scrolled": false
   },
   "outputs": [
    {
     "name": "stderr",
     "output_type": "stream",
     "text": [
      "/home/chy/.local/lib/python3.6/site-packages/ipykernel_launcher.py:14: DeprecationWarning: `imsave` is deprecated!\n",
      "`imsave` is deprecated in SciPy 1.0.0, and will be removed in 1.2.0.\n",
      "Use ``imageio.imwrite`` instead.\n",
      "  \n",
      "/home/chy/.local/lib/python3.6/site-packages/ipykernel_launcher.py:15: DeprecationWarning: `imsave` is deprecated!\n",
      "`imsave` is deprecated in SciPy 1.0.0, and will be removed in 1.2.0.\n",
      "Use ``imageio.imwrite`` instead.\n",
      "  from ipykernel import kernelapp as app\n"
     ]
    },
    {
     "data": {
      "text/plain": [
       "<Figure size 2304x2304 with 0 Axes>"
      ]
     },
     "metadata": {},
     "output_type": "display_data"
    }
   ],
   "source": [
    "init_ops = get_init_ops(iterator)\n",
    "fig=plt.figure(figsize=(32, 32))\n",
    "\n",
    "n = 16\n",
    "c = 1\n",
    "with tf.Session() as sess:\n",
    "    sess.run(init_ops)\n",
    "    \n",
    "    fs = sess.run(frames)\n",
    "    ffs = sess.run(faces)\n",
    "     \n",
    "    for i in range(1, 32):\n",
    "        img_fr, img_ff = grey_to_color(fs[i]), grey_to_color(ffs[i])\n",
    "        scipy.misc.imsave('./resize/frame-{}.jpg'.format(i), img_fr)    \n",
    "        scipy.misc.imsave('./resize/face-{}.jpg'.format(i), img_ff)    "
   ]
  }
 ],
 "metadata": {
  "kernelspec": {
   "display_name": "Python 3",
   "language": "python",
   "name": "python3"
  },
  "language_info": {
   "codemirror_mode": {
    "name": "ipython",
    "version": 3
   },
   "file_extension": ".py",
   "mimetype": "text/x-python",
   "name": "python",
   "nbconvert_exporter": "python",
   "pygments_lexer": "ipython3",
   "version": "3.6.3"
  }
 },
 "nbformat": 4,
 "nbformat_minor": 2
}
