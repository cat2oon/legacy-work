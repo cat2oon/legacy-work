{
 "cells": [
  {
   "cell_type": "markdown",
   "metadata": {},
   "source": [
    "# LSTMControll"
   ]
  },
  {
   "cell_type": "markdown",
   "metadata": {},
   "source": [
    "- num_out_layers (4개 레이어 아키텍쳐)\n",
    "- num_ops (6개 conv ops)\n",
    "- num_cell_units (lstm hidden size)\n",
    "- num_input_nodes (생성 모델에서 입력 노드의 개수)"
   ]
  },
  {
   "cell_type": "markdown",
   "metadata": {},
   "source": [
    "# ref \n",
    "\n",
    "https://github.com/shibuiwilliam/ENAS-Keras/blob/master/src/controller_network.py\n",
    "https://github.com/thinkronize/ripenet/blob/master/controllers/enas_controller.py\n",
    "https://github.com/thinkronize/ripenet/blob/master/cub.py\n",
    "https://github.com/thinkronize/ENAS-pytorch/blob/master/models/controller.py"
   ]
  },
  {
   "cell_type": "code",
   "execution_count": null,
   "metadata": {},
   "outputs": [],
   "source": [
    "from keras.models import Model\n",
    "from keras.layers import Embedding, Input, Reshape, Dense, Activation\n",
    "from keras.layers.recurrent import LSTMCell, RNN"
   ]
  },
  {
   "cell_type": "code",
   "execution_count": null,
   "metadata": {},
   "outputs": [],
   "source": [
    "num_ops = 6\n",
    "num_nodes = 4    \n",
    "num_cell_units = 32\n",
    "num_input_nodes = 2"
   ]
  },
  {
   "cell_type": "code",
   "execution_count": null,
   "metadata": {},
   "outputs": [],
   "source": [
    "def decode(inputs, num_tokens):\n",
    "    if type(inputs) is list:\n",
    "        inputs = inputs[0]    # top result 선택\n",
    "    y = Dense(num_tokens)(inputs)\n",
    "    y = Activation(activation=\"softmax\")(y)\n",
    "    return y"
   ]
  },
  {
   "cell_type": "code",
   "execution_count": null,
   "metadata": {},
   "outputs": [],
   "source": [
    "# NOTE: reference 모두 input 사이즈가 #ops + #nodes. why??\n",
    "# 입력을 무엇으로 줄 것인가??? 이전 arc_seq??\n",
    "# input_size = num_ops + num_nodes\n",
    "input_size = num_ops\n",
    "encoder_inputs = Input(shape=(None, input_size))   \n",
    "# lstm latent 사이즈로 embedding\n",
    "# embed = Embedding(num_ops, num_cell_units)(encoder_inputs)\n",
    "\n",
    "# Controller RNN\n",
    "out_seqs = []\n",
    "for node_idx in range(1, num_nodes+1):  \n",
    "    num_token_ops = num_ops        # ops 추정시 가능한 개수\n",
    "    num_token_idx = node_idx-1     # 노드 추정시 선택 가능한 노드 인덱스 (현재 노드 미만)\n",
    "    \n",
    "    if node_idx == 1:\n",
    "        cell = LSTMCell(num_cell_units)\n",
    "        x = RNN(cell, return_state=True)(encoder_inputs)    # NOTE: 첫 입력이 무엇일 될 것인가??\n",
    "        rx = Reshape((-1, num_cell_units))(x[0])\n",
    "        y = decode(x, num_token_ops)\n",
    "        out_seqs.append(y)\n",
    "        continue\n",
    "    \n",
    "    # 노드 추정\n",
    "    cell = LSTMCell(num_cell_units)\n",
    "    x = RNN(cell, return_state=True)(rx, initial_state=x[1:])\n",
    "    rx = Reshape((-1, num_cell_units))(x[0])\n",
    "    y = decode(x, num_token_idx)\n",
    "    out_seqs.append(y)\n",
    "\n",
    "    # ops 추정\n",
    "    cell = LSTMCell(num_cell_units)\n",
    "    x = RNN(cell, return_state=True)(rx, initial_state=x[1:])\n",
    "    rx = Reshape((-1, num_cell_units))(x[0])\n",
    "    y = decode(x, num_token_ops)\n",
    "    out_seqs.append(y)\n",
    "\n",
    "rnn_controller = Model(inputs=encoder_inputs, outputs=out_seqs)"
   ]
  },
  {
   "cell_type": "code",
   "execution_count": null,
   "metadata": {},
   "outputs": [],
   "source": [
    "rnn_controller.summary()"
   ]
  }
 ],
 "metadata": {
  "kernelspec": {
   "display_name": "Python 3",
   "language": "python",
   "name": "python3"
  },
  "language_info": {
   "codemirror_mode": {
    "name": "ipython",
    "version": 3
   },
   "file_extension": ".py",
   "mimetype": "text/x-python",
   "name": "python",
   "nbconvert_exporter": "python",
   "pygments_lexer": "ipython3",
   "version": "3.6.3"
  }
 },
 "nbformat": 4,
 "nbformat_minor": 2
}
