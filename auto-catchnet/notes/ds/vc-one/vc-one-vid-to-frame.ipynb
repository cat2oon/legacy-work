{
 "cells": [
  {
   "cell_type": "markdown",
   "metadata": {},
   "source": [
    "# video to frame"
   ]
  },
  {
   "cell_type": "markdown",
   "metadata": {},
   "source": [
    "# imports"
   ]
  },
  {
   "cell_type": "code",
   "execution_count": 1,
   "metadata": {},
   "outputs": [],
   "source": [
    "import os\n",
    "import cv2\n",
    "import glob\n",
    "import re\n",
    "from itertools import chain"
   ]
  },
  {
   "cell_type": "markdown",
   "metadata": {},
   "source": [
    "# resources"
   ]
  },
  {
   "cell_type": "code",
   "execution_count": 9,
   "metadata": {},
   "outputs": [],
   "source": [
    "base_path = \"/home/chy/archive-data/datasets/eyes/vc-one-origin/mturk\"\n",
    "save_base_path = \"/home/chy/archive-data/processed/vc-one/frames\""
   ]
  },
  {
   "cell_type": "markdown",
   "metadata": {},
   "source": [
    "# func"
   ]
  },
  {
   "cell_type": "code",
   "execution_count": 5,
   "metadata": {},
   "outputs": [],
   "source": [
    "def grep_recur(base_path, pattern=\"*.mp4\"):\n",
    "    sub_greps = [os.path.join(base_path, name) for name in os.listdir(base_path)]\n",
    "    dir_paths = [sub_path for sub_path in sub_greps if os.path.isdir(sub_path)]\n",
    "    greps = glob.glob(\"{}/{}\".format(base_path, pattern))\n",
    "    sub_greps = list(chain(*[grep_recur(dp, pattern) for dp in dir_paths]))\n",
    "\n",
    "    return greps + sub_greps"
   ]
  },
  {
   "cell_type": "code",
   "execution_count": 6,
   "metadata": {},
   "outputs": [],
   "source": [
    "def get_uid_from_vid_path(vid_path):\n",
    "    uid_pattern = \"(?P<uid>\\w+)\\/(?:\\d\\/)?(?:[\\w-]*?record-.+\\.mp4)\"\n",
    "    m = re.search(uid_pattern, vid_path)\n",
    "    \n",
    "    if m is None:\n",
    "        print(vid_path)\n",
    "        return None\n",
    "            \n",
    "    vid_uid = m.group(\"uid\")\n",
    "    return vid_uid, vid_path"
   ]
  },
  {
   "cell_type": "code",
   "execution_count": 7,
   "metadata": {},
   "outputs": [],
   "source": [
    "def video_to_frames(uid_vid, save_base_path):\n",
    "    video_path = uid_vid\n",
    "    assert video_path is not None, \"video_path required\"\n",
    "    \n",
    "    filename = os.path.basename(video_path)\n",
    "    filename = os.path.splitext(filename)[0]\n",
    "    save_dir_path = \"{}/{}\".format(save_base_path, filename)\n",
    "    \n",
    "    if not os.path.exists(save_dir_path):\n",
    "        os.makedirs(save_dir_path)\n",
    "    \n",
    "    video_capture = cv2.VideoCapture(video_path)\n",
    "    success, image = video_capture.read()\n",
    "\n",
    "    count = 0\n",
    "    while success:\n",
    "        save_path = \"{}/frame-{:05d}.jpg\".format(save_dir_path, count)\n",
    "        cv2.imwrite(save_path, image)\n",
    "        success, image = video_capture.read()\n",
    "        count += 1\n",
    "        if success is not True:\n",
    "            print('>>> {} exit frame [{}]'.format(save_dir_path, count))\n",
    "    \n",
    "    return count\n"
   ]
  },
  {
   "cell_type": "markdown",
   "metadata": {},
   "source": [
    "# handle"
   ]
  },
  {
   "cell_type": "code",
   "execution_count": 10,
   "metadata": {},
   "outputs": [
    {
     "name": "stdout",
     "output_type": "stream",
     "text": [
      "3133\n",
      "/home/chy/archive-data/datasets/eyes/vc-one-origin/mturk/wrong-with-good/3TPZPLC3M1V692LYLQJMPQQUIRX3PE/3/eye-record-3-2-0.mp4\n"
     ]
    }
   ],
   "source": [
    "vids = grep_recur(base_path)\n",
    "print(len(vids))\n",
    "print(vids[10])"
   ]
  },
  {
   "cell_type": "code",
   "execution_count": 16,
   "metadata": {},
   "outputs": [
    {
     "name": "stdout",
     "output_type": "stream",
     "text": [
      ">>> /home/chy/archive-data/processed/vc-one/frames/eye-record-2-2-0 exit frame [429]\n"
     ]
    },
    {
     "data": {
      "text/plain": [
       "429"
      ]
     },
     "execution_count": 16,
     "metadata": {},
     "output_type": "execute_result"
    }
   ],
   "source": [
    "# for uv in vids[0:1]:\n",
    "#    video_to_frames(uv, save_base_path)\n",
    "vid_path = \"/home/chy/archive-data/datasets/eyes/vc-one-origin/mturk/wrong-with-good/3TPZPLC3M1V692LYLQJMPQQUIRX3PE/2/eye-record-2-2-0.mp4\"\n",
    "# vid_path = vids[0]\n",
    "video_to_frames(vid_path, save_base_path)"
   ]
  }
 ],
 "metadata": {
  "kernelspec": {
   "display_name": "venv python3",
   "language": "python",
   "name": "python3"
  },
  "language_info": {
   "codemirror_mode": {
    "name": "ipython",
    "version": 3
   },
   "file_extension": ".py",
   "mimetype": "text/x-python",
   "name": "python",
   "nbconvert_exporter": "python",
   "pygments_lexer": "ipython3",
   "version": "3.6.3"
  }
 },
 "nbformat": 4,
 "nbformat_minor": 2
}
