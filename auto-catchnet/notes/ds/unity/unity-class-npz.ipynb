{
 "cells": [
  {
   "cell_type": "markdown",
   "metadata": {},
   "source": [
    "# unity 1681 npz"
   ]
  },
  {
   "cell_type": "code",
   "execution_count": 1,
   "metadata": {},
   "outputs": [
    {
     "name": "stderr",
     "output_type": "stream",
     "text": [
      "Using TensorFlow backend.\n"
     ]
    }
   ],
   "source": [
    "import sys\n",
    "from random import shuffle\n",
    "\n",
    "sys.path.append(\"../../../\")\n",
    "%run ../../../ac/common/jsons.py\n",
    "%run ../../../ac/visualizer/plotter.py\n",
    "%run ../../../ac/common/images.py\n",
    "%run ../../../ac/common/nps.py\n",
    "%run ../../../ds/unity/model/item.py\n",
    "%run ../../../ds/unity/model/eye_params.py\n",
    "%run ../../../ds/unity/npz/packer.py\n",
    "%run ../../../ds/unity/npz/gen.py\n",
    "%run ../../../ac/langs/sequences.py"
   ]
  },
  {
   "cell_type": "markdown",
   "metadata": {},
   "source": [
    "# resources"
   ]
  },
  {
   "cell_type": "code",
   "execution_count": 2,
   "metadata": {},
   "outputs": [],
   "source": [
    "src_base_path = \"/home/chy/archive-data/archived/이미지저장한\"\n",
    "out_dir_path = \"/home/chy/archive-data/processed/unity-1681-npz\"\n",
    "npz_dir_path = \"/home/chy/archive-data/processed/unity-class-npz\"\n",
    "shuffled_dir_path = \"/home/chy/archive-data/processed/unity-class-shuffled-npz\""
   ]
  },
  {
   "cell_type": "markdown",
   "metadata": {},
   "source": [
    "# npz-packer (from img)"
   ]
  },
  {
   "cell_type": "code",
   "execution_count": 3,
   "metadata": {
    "scrolled": true
   },
   "outputs": [],
   "source": [
    "# packer = UnityNPZPacker(out_dir_path, src_base_path)\n",
    "# packer.pack()"
   ]
  },
  {
   "cell_type": "markdown",
   "metadata": {},
   "source": [
    "# shuffler"
   ]
  },
  {
   "cell_type": "code",
   "execution_count": 4,
   "metadata": {
    "scrolled": false
   },
   "outputs": [],
   "source": [
    "# npz_paths = grep_files(npz_dir_path, \"*.npz\")\n",
    "# num_npzs = len(npz_paths)\n",
    "# print(num_npzs)\n",
    "# npz_idx_list = list(range(num_npzs))\n",
    "# shuffle(npz_idx_list)\n",
    "# chunked_idx = chunks(npz_idx_list, 2)\n",
    "# print(len(chunked_idx))\n",
    "# print(len(flatten(chunked_idx)))"
   ]
  },
  {
   "cell_type": "code",
   "execution_count": 5,
   "metadata": {
    "scrolled": true
   },
   "outputs": [],
   "source": [
    "# block_size = 1000\n",
    "# idx = 0\n",
    "# for chunk in chunked_idx:\n",
    "#     merged_npz = {}\n",
    "    \n",
    "#     print(\"*** current chunk {}\".format(chunk))\n",
    "#     for npz_idx in chunk:\n",
    "#         npz_path = npz_paths[npz_idx]\n",
    "#         npz = clone_npz(np.load(npz_path))\n",
    "#         merged_npz = merge_npzs(merged_npz, npz)\n",
    "    \n",
    "#     merged_npz = shuffle_npz(merged_npz)\n",
    "#     for i in range(0, count_item_in_npz(merged_npz), block_size):\n",
    "#         print(\"*** current idx {}\".format(idx))\n",
    "#         imgs = merged_npz['images'][i:i+block_size]\n",
    "#         metas = merged_npz['metas'][i:i+block_size]\n",
    "#         if imgs.shape[0] != block_size:\n",
    "#             continue\n",
    "#         path = \"{}/unity-{:05d}.npz\".format(shuffled_dir_path, idx)\n",
    "#         np.savez_compressed(path, metas=metas, images=imgs)\n",
    "#         idx += 1"
   ]
  },
  {
   "cell_type": "markdown",
   "metadata": {},
   "source": [
    "# file name shuffler"
   ]
  },
  {
   "cell_type": "code",
   "execution_count": 6,
   "metadata": {},
   "outputs": [],
   "source": [
    "# npz_paths = grep_files(\"/home/chy/archive-data/processed/unity-class-shuffled-npz/\", \"*.npz\")"
   ]
  },
  {
   "cell_type": "code",
   "execution_count": 7,
   "metadata": {},
   "outputs": [],
   "source": [
    "# num_npz = len(npz_paths)\n",
    "# print(num_npz)"
   ]
  },
  {
   "cell_type": "code",
   "execution_count": 8,
   "metadata": {},
   "outputs": [],
   "source": [
    "# from random import shuffle\n",
    "# randomize = list(range(num_npz))\n",
    "# shuffle(randomize)\n",
    "# shuffle(randomize)\n",
    "# shuffle(randomize)"
   ]
  },
  {
   "cell_type": "code",
   "execution_count": 9,
   "metadata": {},
   "outputs": [],
   "source": [
    "# \"/home/chy/archive-data/processed/unity-class-shuffled-npz/unity-s{:05d}\".format(10)"
   ]
  },
  {
   "cell_type": "code",
   "execution_count": 10,
   "metadata": {},
   "outputs": [],
   "source": [
    "# for i, pi in enumerate(randomize):\n",
    "#     src = npz_paths[pi]\n",
    "#     dst = \"/home/chy/archive-data/processed/unity-class-shuffled-npz/us-{:05d}.npz\".format(i)\n",
    "#     os.rename(src, dst)"
   ]
  },
  {
   "cell_type": "markdown",
   "metadata": {},
   "source": [
    "# npz-labeler"
   ]
  },
  {
   "cell_type": "code",
   "execution_count": 11,
   "metadata": {},
   "outputs": [],
   "source": [
    "# npz_paths = grep_files(out_dir_path, \"*.npz\")"
   ]
  },
  {
   "cell_type": "code",
   "execution_count": 12,
   "metadata": {},
   "outputs": [],
   "source": [
    "# def relabel_npz(npz_path):\n",
    "#     class_num = int(basename_in_path(npz_path)[6:11])\n",
    "#     items = UnityItem.from_npz_path(npz_path)\n",
    "\n",
    "#     for item in items:\n",
    "#         item.image_shape = (720, 1280)\n",
    "#         # iris, cars, ints points 보정\n",
    "#         item.caruncles[:,1] = np.add(item.caruncles[:,1], 240)\n",
    "#         item.interiors[:,1] = np.add(item.interiors[:,1], 240)\n",
    "#         item.iris[:,1] = np.add(item.iris[:,1], 240)\n",
    "#         eye_x, eye_y = class_num_to_eye_param(class_num)\n",
    "#         item.set_eye_param(eye_x, eye_y)\n",
    "    \n",
    "#     UnityItem.to_npz(cn_dir_path, items, class_num)"
   ]
  },
  {
   "cell_type": "code",
   "execution_count": 13,
   "metadata": {},
   "outputs": [],
   "source": [
    "# for npz_path in npz_paths:\n",
    "#     relabel_npz(npz_path)"
   ]
  },
  {
   "cell_type": "markdown",
   "metadata": {},
   "source": [
    "# find broken npz\n",
    "\n",
    "\n",
    "- us-04241.npz\n",
    "- us-06703.npz\n",
    "- us-04323.npz\n",
    "- us-05628.npz\n",
    "- us-00498.npz\n",
    "- us-01427.npz\n",
    "- us-05277.npz\n",
    "- us-05932.npz\n",
    "- us-07752.npz\n",
    "- us-05180.npz\n",
    "- us-00030.npz\n",
    "- us-00313.npz\n",
    "- us-00934.npz\n",
    "- us-07396.npz\n",
    "- us-01668.npz\n"
   ]
  },
  {
   "cell_type": "code",
   "execution_count": 14,
   "metadata": {},
   "outputs": [],
   "source": [
    "# npz_paths = grep_files(\"/home/chy/archive-data/processed/unity-class-shuffled-npz/\", \"*.npz\")"
   ]
  },
  {
   "cell_type": "code",
   "execution_count": 15,
   "metadata": {
    "scrolled": true
   },
   "outputs": [],
   "source": [
    "# for npz_path in npz_paths[3214:]:\n",
    "#     npz = np.load(npz_path)\n",
    "#     images = npz['images']\n",
    "#     for img in images:\n",
    "#         if img == b'':\n",
    "#             print(\"*** wrong [{}]***\".format(npz_path))\n",
    "#             continue\n",
    "#     print(\"[{}] checked\".format(npz_path))"
   ]
  },
  {
   "cell_type": "markdown",
   "metadata": {},
   "source": [
    "# verify"
   ]
  },
  {
   "cell_type": "code",
   "execution_count": 3,
   "metadata": {},
   "outputs": [],
   "source": [
    "sample_npz_path = \"/home/chy/archive-data/processed/unity-class-shuffled-npz/us-00006.npz\"\n",
    "items = UnityItem.from_npz_path(sample_npz_path)"
   ]
  },
  {
   "cell_type": "code",
   "execution_count": 4,
   "metadata": {},
   "outputs": [
    {
     "name": "stderr",
     "output_type": "stream",
     "text": [
      "/home/chy/devs/chyenv/lib/python3.6/site-packages/matplotlib/figure.py:98: MatplotlibDeprecationWarning: \n",
      "Adding an axes using the same arguments as a previous axes currently reuses the earlier instance.  In a future version, a new instance will always be created and returned.  Meanwhile, this warning can be suppressed, and the future behavior ensured, by passing a unique label to each axes instance.\n",
      "  \"Adding an axes using the same arguments as a previous axes \"\n"
     ]
    },
    {
     "data": {
      "text/plain": [
       "array([-0.3192,  0.4919, -0.81  ,  0.    ])"
      ]
     },
     "execution_count": 4,
     "metadata": {},
     "output_type": "execute_result"
    },
    {
     "data": {
      "image/png": "[encoded data removed]",
      "text/plain": [
       "<Figure size 432x432 with 1 Axes>"
      ]
     },
     "metadata": {
      "needs_background": "light"
     },
     "output_type": "display_data"
    },
    {
     "data": {
      "image/png": "[encoded data removed]",
      "text/plain": [
       "<Figure size 144x144 with 1 Axes>"
      ]
     },
     "metadata": {
      "needs_background": "light"
     },
     "output_type": "display_data"
    }
   ],
   "source": [
    "sample = items[10]\n",
    "show_image(sample.get_decoded_frame(), fig_size=(6,6))\n",
    "show_image(sample.get_cropped_eye_img(), fig_size=(2,2))\n",
    "sample.look_vec"
   ]
  },
  {
   "cell_type": "code",
   "execution_count": 7,
   "metadata": {},
   "outputs": [
    {
     "data": {
      "text/plain": [
       "(32, 3)"
      ]
     },
     "execution_count": 7,
     "metadata": {},
     "output_type": "execute_result"
    }
   ],
   "source": [
    "sample.iris.shape"
   ]
  },
  {
   "cell_type": "code",
   "execution_count": 5,
   "metadata": {},
   "outputs": [
    {
     "name": "stdout",
     "output_type": "stream",
     "text": [
      "UID.............................................8e41d46697e03c90f394bb1587fbc35e\n",
      "IMAGE_SHAPE..........................................................(720, 1280)\n",
      "EYE_PITCH.....................................................................18\n",
      "EYE_YAW....................................................................-12.0\n",
      "LOOK_VEC.......................................[-0.3192  0.4919 -0.81    0.    ]\n",
      "HEAD_POSE...........................................[347.7606 172.3882   0.    ]\n",
      "================================================================================\n"
     ]
    }
   ],
   "source": [
    "x = [(key, vars(sample)[key]) for key in sample.meta_keys]\n",
    "sample.report()"
   ]
  }
 ],
 "metadata": {
  "kernelspec": {
   "display_name": "venv python3",
   "language": "python",
   "name": "python3"
  },
  "language_info": {
   "codemirror_mode": {
    "name": "ipython",
    "version": 3
   },
   "file_extension": ".py",
   "mimetype": "text/x-python",
   "name": "python",
   "nbconvert_exporter": "python",
   "pygments_lexer": "ipython3",
   "version": "3.6.3"
  }
 },
 "nbformat": 4,
 "nbformat_minor": 2
}
