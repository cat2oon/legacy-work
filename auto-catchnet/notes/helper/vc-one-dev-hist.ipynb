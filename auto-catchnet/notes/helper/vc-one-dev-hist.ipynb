{
 "cells": [
  {
   "cell_type": "code",
   "execution_count": 67,
   "metadata": {},
   "outputs": [],
   "source": [
    "import os\n",
    "import sys\n",
    "import json\n",
    "import glob\n",
    "import shutil\n",
    "import numpy as np\n",
    "import pandas as pd\n",
    "\n",
    "from itertools import chain"
   ]
  },
  {
   "cell_type": "code",
   "execution_count": 2,
   "metadata": {},
   "outputs": [],
   "source": [
    "def grep_recur(base_path, pattern=\"*.*\"):\n",
    "    sub_greps = list(chain(*[grep_recur(dp, pattern) for dp in grep_dirs(base_path)]))\n",
    "    return grep_files(base_path, pattern) + sub_greps\n",
    "\n",
    "def grep_files(base_path, pattern=\"*.*\"):\n",
    "    return glob.glob(\"{}/{}\".format(base_path, pattern))\n",
    "\n",
    "def grep_dirs(base_path):\n",
    "    file_paths = [os.path.join(base_path, name) for name in os.listdir(base_path)]\n",
    "    return [p for p in file_paths if os.path.isdir(p)]"
   ]
  },
  {
   "cell_type": "code",
   "execution_count": 3,
   "metadata": {},
   "outputs": [],
   "source": [
    "search_dir_path = \"/ds/vc-one/\"\n",
    "device_jsons = grep_recur(search_dir_path, \"device.json\")"
   ]
  },
  {
   "cell_type": "code",
   "execution_count": 4,
   "metadata": {
    "scrolled": true
   },
   "outputs": [
    {
     "name": "stdout",
     "output_type": "stream",
     "text": [
      "device.json 개수: 1513\n",
      "device.json 샘플 경로: /ds/vc-one/Partial/3UWN2HHPUZOAQYU0VQ7VT9TBCS9NSA/device.json\n"
     ]
    }
   ],
   "source": [
    "print(\"device.json 개수: {}\".format(len(device_jsons)))\n",
    "print(\"device.json 샘플 경로: {}\".format(device_jsons[0]))"
   ]
  },
  {
   "cell_type": "code",
   "execution_count": 79,
   "metadata": {},
   "outputs": [],
   "source": [
    "device_hist = []\n",
    "for js_path in device_jsons[:]:\n",
    "    if \"VisualMember\" in js_path:\n",
    "        continue\n",
    "    path_id = js_path.replace(\"/ds/vc-one/\", \"\")\n",
    "    path_id = path_id.replace(\"/device.json\", \"\")\n",
    "    with open(js_path) as json_data:\n",
    "        device_meta = (path_id, json.load(json_data))\n",
    "        device_hist.append(device_meta)"
   ]
  },
  {
   "cell_type": "code",
   "execution_count": 83,
   "metadata": {},
   "outputs": [
    {
     "name": "stdout",
     "output_type": "stream",
     "text": [
      "내부 멤버 제거 후 개수 : 1496\n"
     ]
    }
   ],
   "source": [
    "print(\"내부 멤버 제거 후 개수 : {}\".format(len(device_hist)))"
   ]
  },
  {
   "cell_type": "markdown",
   "metadata": {},
   "source": [
    "# 전체 제조사 & 모델"
   ]
  },
  {
   "cell_type": "code",
   "execution_count": 84,
   "metadata": {
    "scrolled": true
   },
   "outputs": [
    {
     "name": "stdout",
     "output_type": "stream",
     "text": [
      "디바이스 정보 샘플\n"
     ]
    },
    {
     "data": {
      "text/plain": [
       "{'board': 'msm8937',\n",
       " 'density': '2.0',\n",
       " 'device': 'land',\n",
       " 'display': 'MMB29M',\n",
       " 'dpi': '320',\n",
       " 'fov-horizontal': '1.1780972450961724',\n",
       " 'fov-vertical': '1.0995574287564276',\n",
       " 'heightPixels': '1280',\n",
       " 'manufacturer': 'Xiaomi',\n",
       " 'model': 'Redmi 3S',\n",
       " 'screenX': '2.440950870513916',\n",
       " 'screenY': '4.330718040466309',\n",
       " 'sdk-version': '23',\n",
       " 'version': '6.0.1',\n",
       " 'widthPixels': '720',\n",
       " 'xdpi': '294.967',\n",
       " 'ydpi': '295.563'}"
      ]
     },
     "execution_count": 84,
     "metadata": {},
     "output_type": "execute_result"
    }
   ],
   "source": [
    "print(\"디바이스 정보 샘플\")\n",
    "device_hist[0][1]"
   ]
  },
  {
   "cell_type": "code",
   "execution_count": 85,
   "metadata": {},
   "outputs": [],
   "source": [
    "man_to_models = list(map(lambda x: {\n",
    "    \"uid\" : x[0],\n",
    "    \"manu\" : x[1][\"manufacturer\"].lower(), \n",
    "    \"model\": x[1][\"model\"].lower()\n",
    "}, device_hist))"
   ]
  },
  {
   "cell_type": "code",
   "execution_count": 86,
   "metadata": {},
   "outputs": [
    {
     "data": {
      "text/plain": [
       "{'manu': 'xiaomi',\n",
       " 'model': 'redmi 3s',\n",
       " 'uid': 'Partial/3UWN2HHPUZOAQYU0VQ7VT9TBCS9NSA'}"
      ]
     },
     "execution_count": 86,
     "metadata": {},
     "output_type": "execute_result"
    }
   ],
   "source": [
    "man_to_models[0]"
   ]
  },
  {
   "cell_type": "code",
   "execution_count": 87,
   "metadata": {},
   "outputs": [
    {
     "data": {
      "text/html": [
       "<div>\n",
       "<style scoped>\n",
       "    .dataframe tbody tr th:only-of-type {\n",
       "        vertical-align: middle;\n",
       "    }\n",
       "\n",
       "    .dataframe tbody tr th {\n",
       "        vertical-align: top;\n",
       "    }\n",
       "\n",
       "    .dataframe thead th {\n",
       "        text-align: right;\n",
       "    }\n",
       "</style>\n",
       "<table border=\"1\" class=\"dataframe\">\n",
       "  <thead>\n",
       "    <tr style=\"text-align: right;\">\n",
       "      <th></th>\n",
       "      <th>manu</th>\n",
       "      <th>model</th>\n",
       "      <th>uid</th>\n",
       "    </tr>\n",
       "  </thead>\n",
       "  <tbody>\n",
       "    <tr>\n",
       "      <th>count</th>\n",
       "      <td>1496</td>\n",
       "      <td>1496</td>\n",
       "      <td>1496</td>\n",
       "    </tr>\n",
       "    <tr>\n",
       "      <th>unique</th>\n",
       "      <td>23</td>\n",
       "      <td>220</td>\n",
       "      <td>1496</td>\n",
       "    </tr>\n",
       "    <tr>\n",
       "      <th>top</th>\n",
       "      <td>samsung</td>\n",
       "      <td>iphone 6s</td>\n",
       "      <td>crowdworks/1S5GKuDc6iKwNDE0</td>\n",
       "    </tr>\n",
       "    <tr>\n",
       "      <th>freq</th>\n",
       "      <td>724</td>\n",
       "      <td>89</td>\n",
       "      <td>1</td>\n",
       "    </tr>\n",
       "  </tbody>\n",
       "</table>\n",
       "</div>"
      ],
      "text/plain": [
       "           manu      model                          uid\n",
       "count      1496       1496                         1496\n",
       "unique       23        220                         1496\n",
       "top     samsung  iphone 6s  crowdworks/1S5GKuDc6iKwNDE0\n",
       "freq        724         89                            1"
      ]
     },
     "execution_count": 87,
     "metadata": {},
     "output_type": "execute_result"
    }
   ],
   "source": [
    "df = pd.DataFrame(man_to_models)\n",
    "df.describe()"
   ]
  },
  {
   "cell_type": "code",
   "execution_count": 88,
   "metadata": {
    "scrolled": true
   },
   "outputs": [
    {
     "name": "stdout",
     "output_type": "stream",
     "text": [
      "['xiaomi' 'google' 'lge' 'apple' 'samsung' 'huawei' 'sony' 'pantech'\n",
      " 'foxconn' 'tcl' 'lyf' 'yulong' 'oppo' 'hmd global' 'asus' 'motorola'\n",
      " 'vivo' 'advan' 'oneplus' 'gionee' 'lenovo' 'coolpad' 'tecno']\n",
      "samsung       724\n",
      "apple         552\n",
      "lge           122\n",
      "xiaomi         24\n",
      "huawei         18\n",
      "motorola       13\n",
      "oneplus         5\n",
      "coolpad         4\n",
      "lyf             4\n",
      "hmd global      4\n",
      "google          3\n",
      "lenovo          3\n",
      "tcl             3\n",
      "pantech         3\n",
      "asus            2\n",
      "tecno           2\n",
      "oppo            2\n",
      "gionee          2\n",
      "vivo            2\n",
      "yulong          1\n",
      "advan           1\n",
      "foxconn         1\n",
      "sony            1\n",
      "Name: manu, dtype: int64\n"
     ]
    }
   ],
   "source": [
    "# df['manu'].unique()\n",
    "manu_uniq = np.array(['xiaomi', 'google', 'lge', 'apple', 'samsung', 'huawei', 'sony',\n",
    "                   'pantech', 'foxconn', 'tcl', 'lyf', 'yulong', 'oppo', 'hmd global',\n",
    "                   'asus', 'motorola', 'vivo', 'advan', 'oneplus', 'gionee', 'lenovo',\n",
    "                   'coolpad', 'tecno'], dtype=object)\n",
    "models = df['model'].unique()\n",
    "\n",
    "print(manu_uniq)\n",
    "print(df.manu.value_counts())"
   ]
  },
  {
   "cell_type": "markdown",
   "metadata": {},
   "source": [
    "# apple 핸드폰 (총 560 개)"
   ]
  },
  {
   "cell_type": "code",
   "execution_count": 89,
   "metadata": {
    "scrolled": true
   },
   "outputs": [
    {
     "data": {
      "text/html": [
       "<div>\n",
       "<style scoped>\n",
       "    .dataframe tbody tr th:only-of-type {\n",
       "        vertical-align: middle;\n",
       "    }\n",
       "\n",
       "    .dataframe tbody tr th {\n",
       "        vertical-align: top;\n",
       "    }\n",
       "\n",
       "    .dataframe thead th {\n",
       "        text-align: right;\n",
       "    }\n",
       "</style>\n",
       "<table border=\"1\" class=\"dataframe\">\n",
       "  <thead>\n",
       "    <tr style=\"text-align: right;\">\n",
       "      <th></th>\n",
       "      <th>manu</th>\n",
       "      <th>model</th>\n",
       "      <th>uid</th>\n",
       "    </tr>\n",
       "  </thead>\n",
       "  <tbody>\n",
       "    <tr>\n",
       "      <th>count</th>\n",
       "      <td>552</td>\n",
       "      <td>552</td>\n",
       "      <td>552</td>\n",
       "    </tr>\n",
       "    <tr>\n",
       "      <th>unique</th>\n",
       "      <td>1</td>\n",
       "      <td>19</td>\n",
       "      <td>552</td>\n",
       "    </tr>\n",
       "    <tr>\n",
       "      <th>top</th>\n",
       "      <td>apple</td>\n",
       "      <td>iphone 6s</td>\n",
       "      <td>crowdworks/1AwC8GbHJ3sgJlFQ</td>\n",
       "    </tr>\n",
       "    <tr>\n",
       "      <th>freq</th>\n",
       "      <td>552</td>\n",
       "      <td>89</td>\n",
       "      <td>1</td>\n",
       "    </tr>\n",
       "  </tbody>\n",
       "</table>\n",
       "</div>"
      ],
      "text/plain": [
       "         manu      model                          uid\n",
       "count     552        552                          552\n",
       "unique      1         19                          552\n",
       "top     apple  iphone 6s  crowdworks/1AwC8GbHJ3sgJlFQ\n",
       "freq      552         89                            1"
      ]
     },
     "execution_count": 89,
     "metadata": {},
     "output_type": "execute_result"
    }
   ],
   "source": [
    "df_apple = df[df['manu'] == \"apple\"]\n",
    "df_apple.describe()"
   ]
  },
  {
   "cell_type": "code",
   "execution_count": 90,
   "metadata": {},
   "outputs": [
    {
     "data": {
      "text/plain": [
       "array(['Partial/39LOEL67OTOL3AMHZ9HB34V4W4D38N',\n",
       "       'crowdworks/1ZvyGZ9sPFwiWIWu', 'crowdworks/11pFCzZC8WucxuyG',\n",
       "       'crowdworks/1QSoImRBavJvJtU8', 'crowdworks/18MhOdkTVA8civGy',\n",
       "       'crowdworks/19Vj1zDa489WEL0y', 'crowdworks/11r9vCZNTOFBbdLc',\n",
       "       'crowdworks/1gxSusAKXAjarw4e', 'crowdworks/20Mackl8CD1C4xge',\n",
       "       'crowdworks/11XwwoJQYPRdJfm4', 'crowdworks/1zyJmxzyMoXaagr2',\n",
       "       'crowdworks/18Le5Z1W8V6wgCxs', 'crowdworks/1749p5SmNpci18ds',\n",
       "       'crowdworks/18BbMAgR7oFFXF7A', 'crowdworks/1D1SwCElo5zRdRMe',\n",
       "       'crowdworks/11rehTXSyCIef0CW', 'crowdworks/1R5P85Y3ohOLuRcG',\n",
       "       'crowdworks/1aQLSrKEvWClh6UC', 'crowdworks/17anrhadjuQreDlQ',\n",
       "       'crowdworks/1GW6JTF9qZ6YlrdI', 'crowdworks/1tY2hIi5rSppmGSe',\n",
       "       'crowdworks/16cDsoeBAXXxZ6oK', 'crowdworks/20Fz8plaKz67WhI8',\n",
       "       'crowdworks/1lzFgDKc7Gqu03EG', 'crowdworks/1AsJbftWXcHOk8KO',\n",
       "       'crowdworks/1tyA1wTwk0t8E92m', 'crowdworks/1zkJl2JbCyuOV2EC',\n",
       "       'crowdworks/13oRO21rMDqTdoSO', 'crowdworks/19WEnktJVoGijqim',\n",
       "       'crowdworks/14ZHv6vsMaPyVDfs', 'crowdworks/1QaKLqhZdcrWjEv2',\n",
       "       'crowdworks/13GlWaEVYn6F9EJ6', 'crowdworks/11lQLACsYnerNRRo',\n",
       "       'crowdworks/20FsNtil3XoRFLjE', 'crowdworks/1KJqzSbeemMVJryC',\n",
       "       'crowdworks/11iX03fw3dtc7FPk', 'crowdworks/19f32KRKAFk003GK',\n",
       "       'crowdworks/15MS9JJroGxoFZ0i', 'crowdworks/13PU3YjZ0Dj3Y6wS',\n",
       "       'crowdworks/14MhsxZpAMRLxnNI', 'crowdworks/1K441fogSAvuIvmi',\n",
       "       'crowdworks/1iCFm6myEvN7hT0K', 'crowdworks/14SfyMjcahemCpFo',\n",
       "       'crowdworks/1ztPVNuxHZNi7Ri4', 'crowdworks/14hZOQ6VcTiJnlei',\n",
       "       'crowdworks/1aXS82CM4edx4yxM', 'crowdworks/13wMAdb81AVvQqQ4',\n",
       "       'crowdworks/132mbpqEawHkRU8m', 'crowdworks/15nbhlfgvHPpLBqK',\n",
       "       'crowdworks/1BGTmI3CGu2Xtsno', 'crowdworks/1hMk7AgcwOFQ1R3Y',\n",
       "       'crowdworks/159VbzF8NlUk6H6O', 'crowdworks/11k85od1pVLhYhXM',\n",
       "       'crowdworks/142f1bFEGGcGEzPk', 'crowdworks/16c742J7lXsnJsRc',\n",
       "       'crowdworks/15ttklUpaAasaqOW', 'crowdworks/17Rbt5ROQ5tTSTY0',\n",
       "       'crowdworks/156d10EvLGHIQgi0', 'crowdworks/18NKGU5HtpcfK8xc',\n",
       "       'crowdworks/12WiniYVSSrarYZ6', 'crowdworks/13qdpT7BXfVGWKaO',\n",
       "       'crowdworks/12nhik5D1a9nA17g', 'crowdworks/1zVSG83lxOapqUjI',\n",
       "       'crowdworks/20LmVK3ygOmvfoC8', 'crowdworks/141ZnNPD7PqbFsCe',\n",
       "       'crowdworks/1zXmwkFOLacuBZhY', 'crowdworks/15Q7Bx554cBTFRCq',\n",
       "       'crowdworks/11rAbTnsoUPVEMBU', 'crowdworks/1xq4tuL72hh6chFY',\n",
       "       'crowdworks/13dB5TJ7obGc6LLc', 'crowdworks/1hcTpB2dkNn8pT4C',\n",
       "       'crowdworks/1HwSmVAU3AJ0VhuS', 'crowdworks/1H87zXesywPwiEHA',\n",
       "       'crowdworks/1mEucH35XZEPR1No', 'crowdworks/13zydm9tE011qXHE',\n",
       "       'crowdworks/20BDLnxlwhpSNYCe', 'crowdworks/1k2fAtbyfhjYJQpM',\n",
       "       'crowdworks/1gv6WYtRnEHjT30i', 'crowdworks/11wDPXJDeTeL0dmq',\n",
       "       'crowdworks/14fzmuCslvLpXWoS', 'crowdworks/1oFRWOqiMjckZ0ue',\n",
       "       'crowdworks/1z0ItTSQlI2FBsaO', 'crowdworks/1HutdoTZ7Gmdzb5k',\n",
       "       'crowdworks/14jIhR0mXJLwiqDg', 'crowdworks/1U3JNaJuVcdgDItE',\n",
       "       'crowdworks/17JgVy4xbNcvzXxA', 'crowdworks/1pT5OsqYYaZsTS1w',\n",
       "       'crowdworks/1OyO5UasZVxiBQsy', 'crowdworks/14U8wdAsOvUY7U8m',\n",
       "       'crowdworks/1334Wao3oBkQZwIq', 'crowdworks/13CRCCfb99cgsf5s',\n",
       "       'crowdworks/1HnrHl2HRAfYEeS8', 'crowdworks/12HoCdbI79bruots',\n",
       "       'crowdworks/15xm03sYncUUJzhQ', 'crowdworks/117PfgVFgIsZ9Mzw',\n",
       "       'crowdworks/12TIEWRTe65HtZwm', 'crowdworks/1Aqm6pzdpunLJwnY',\n",
       "       'crowdworks/11WIuUOVzi05UjUe', 'crowdworks/1BHurKWVMiK4r5Bg',\n",
       "       'crowdworks/11j2UX1dxKJ8mHVQ', 'crowdworks/16c9dXVZp3bLu3ma',\n",
       "       'crowdworks/14hRKlstmOTUErDs', 'crowdworks/1xqOWMOCbhZZoxVI',\n",
       "       'crowdworks/1leOfV9kdabnt9NI', 'crowdworks/1zup6BKnS4ZdtQoa',\n",
       "       'crowdworks/12jkEfrEVmFqJfw8', 'crowdworks/1zK1nF7gQpthu3sG',\n",
       "       'crowdworks/20Flcxfvm6Wky0AK', 'crowdworks/11urPewaY8QRFvH6',\n",
       "       'crowdworks/142a9tALhEsov6Lw', 'crowdworks/1N9fVyv2BO5ZrBUe',\n",
       "       'crowdworks/12vte3wSNLYNVxCq', 'crowdworks/1gwUyFs4hyTDsBFo',\n",
       "       'crowdworks/11umCoFSJYbq7fnM', 'crowdworks/13pyjGCAl2Np9Hyi',\n",
       "       'crowdworks/18JvxZhZXCfV6vfE', 'crowdworks/13qUNLHRxbk3j24u',\n",
       "       'crowdworks/14lXkIRfq2v2AU5Y', 'crowdworks/1ohh8y0dGZxSBBnk',\n",
       "       'crowdworks/1Kmt5bfgqEtAFH3w', 'crowdworks/162ECYmOgg4QFow4',\n",
       "       'crowdworks/1RWKD6FhTjP0yAs4', 'crowdworks/15xCEOF8Ufwc0yB6',\n",
       "       'crowdworks/1LoYPJ2AUYpKz7Ue', 'crowdworks/19jGr98JmfRnqo7s',\n",
       "       'crowdworks/131as38IerkL2Ya0', 'crowdworks/18hEXWhKvczJm1ey',\n",
       "       'crowdworks/1mQK7aQeB23XuFmq', 'crowdworks/11kru7tLsHFsKvCK',\n",
       "       'crowdworks/1i5v5lT9Oy61tkJM', 'crowdworks/11vshp78xH8uPPTU',\n",
       "       'crowdworks/13dgyvZJVO8mXcf2', 'crowdworks/1N32yivcFjjHstRQ',\n",
       "       'crowdworks/16yHxwqsCiTMLRUu', 'crowdworks/12g3ExpqPT6SOSR6',\n",
       "       'crowdworks/12TNRN8bsftt1pQW', 'crowdworks/1kM9qanxNUfarFke',\n",
       "       'crowdworks/1KwcKEY8X2dM7kGW', 'crowdworks/1HG1gt5AVgSR6IBE',\n",
       "       'crowdworks/11rkFSqqsKCPbc6C', 'crowdworks/16kMKu2fhFjTpXuK',\n",
       "       'crowdworks/14elRh9NiYu7ZTVo', 'crowdworks/19mbJlHuauv0BDcG',\n",
       "       'crowdworks/1lQeAM7R09rBFPyy', 'crowdworks/1zuLq4ZHwLnW0Ddw',\n",
       "       'crowdworks/1SgFsvUiBxopcep6', 'crowdworks/11dsJ6XCcLzn3oJ6',\n",
       "       'crowdworks/11jWHJI5VGIsNVVQ', 'crowdworks/14VAY0oZPq6R6OMC',\n",
       "       'crowdworks/1nzU39E8VdzjKkYy', 'crowdworks/1pLBU5OTbPDCCnJY',\n",
       "       'crowdworks/1gyqL9ICRGfbpz3w', 'crowdworks/1YCQvoyLQWp9KXzc',\n",
       "       'crowdworks/1aCE9K66S24Hc5T6', 'crowdworks/1x4MHPvMj2ePXZ7w',\n",
       "       'crowdworks/1zoE3AOqRjIx6M2i', 'crowdworks/11v6I5VFnDKR444e',\n",
       "       'crowdworks/20DvBwxSqVKXyHDc', 'crowdworks/1hHCeWneqhi57YCu',\n",
       "       'crowdworks/1xVWGmKmgvkoONaC', 'crowdworks/135hzm4h7OXwZqgS',\n",
       "       'crowdworks/18KW2So8Rv6nFNCa', 'crowdworks/1gsoLbc3KzajkGZc',\n",
       "       'crowdworks/11tkXaJXB5cTAsm8', 'crowdworks/20LgH3W5RAir6TSa',\n",
       "       'crowdworks/13g9ZaEyQmSyWu3c', 'crowdworks/143ulHur3baLRQn2',\n",
       "       'crowdworks/197KTgr44CWEzWAS', 'crowdworks/1mqjUfkmVwKUQM8e',\n",
       "       'crowdworks/13p4w9bB5zUprkyu', 'crowdworks/11vm6Unsyinw2lv6',\n",
       "       'crowdworks/11rR7l9aHlLo8QGu', 'crowdworks/1x5QfknJDuJ2zFUe',\n",
       "       'crowdworks/11i2aqTDIA72rBNg', 'crowdworks/19MKzot22xwcgAYC',\n",
       "       'crowdworks/19WbKql6nrwuKejQ', 'crowdworks/1491AGTOxknDEyzA',\n",
       "       'crowdworks/1w4sbBpFfxRk7kNk', 'crowdworks/20exOxTIWItn6erA',\n",
       "       'crowdworks/12gJhOtJlBfHKdii', 'crowdworks/18I3Ro8TWWmbG5o0',\n",
       "       'crowdworks/12XyRdmn4TGS7Ajg', 'crowdworks/15rfCePlFs3esGx6',\n",
       "       'crowdworks/13jsaColUbvZLLfM', 'crowdworks/13Dx8xDmnzdf9kXY',\n",
       "       'crowdworks/1v53PHi6LSoMYCsi', 'crowdworks/12TLOXR5rNOw9euu',\n",
       "       'crowdworks/1yLk0PT4ciB9nshM', 'crowdworks/205B32oUEerASPhI',\n",
       "       'crowdworks/1ota5v2NmQhARHmq', 'crowdworks/15MP6yuhq6P7vFeC',\n",
       "       'crowdworks/20M0U1ML9wCPydLU', 'crowdworks/11uifjUTMx1I4I0O',\n",
       "       'crowdworks/11lMtqtEnWdXGsrY', 'crowdworks/12W5NHZdxnyCZNeC',\n",
       "       'crowdworks/1xpl09xzvi6xZxNg', 'crowdworks/1QxnTBg3kJZVabTs',\n",
       "       'crowdworks/1zyLnsYNKKqnTuxk', 'crowdworks/12haD8En4xMu6d8a',\n",
       "       'crowdworks/13ui6OX6Ogsdcxjk', 'crowdworks/1B7pUagkAxMLA3CC',\n",
       "       'crowdworks/11ytONU4tdmvcqhc', 'crowdworks/132hzUwGW84Ez8IC',\n",
       "       'crowdworks/1jG76LBBDoJhYdwO', 'crowdworks/204iatrwJ90K7gy8',\n",
       "       'crowdworks/13ZwKSCUDMdsdFlQ', 'crowdworks/20KlxHQ9jucG6vdQ',\n",
       "       'crowdworks/1Gnu9tHyVhYJ1y7s', 'crowdworks/12Z7Ihp8LGBt6UwS',\n",
       "       'crowdworks/11lhbZ5JUj8xs7Au', 'crowdworks/1xFKsfi4Tr5mpAsy',\n",
       "       'crowdworks/13EDyS2ct2TNtEe0', 'crowdworks/1bIATmIIzpDeRi8O',\n",
       "       'crowdworks/10M1K0DzCxguuHZ2', 'crowdworks/1K2pLK8vjGP2WW48',\n",
       "       'crowdworks/11rAhFFDzoyjBBOC', 'crowdworks/20LnDWRb5H8zHTQu',\n",
       "       'crowdworks/14UHmK4KlRSvFwcC', 'crowdworks/1uxKUhRS1CfyDwky',\n",
       "       'crowdworks/1Au3mUuzADDnBa8e', 'crowdworks/18Q3BtDxvpkiJq2C',\n",
       "       'crowdworks/12ubzE9lnoqJN6vY', 'crowdworks/1q3GD2UDuU2feu6S',\n",
       "       'crowdworks/16Oi8Pa4X4wMnkbw', 'crowdworks/1B5VY61rFPs4PZrc',\n",
       "       'crowdworks/12TKQxsYyHWwgSSu', 'crowdworks/20Hl1LsJJKSJ1xC4',\n",
       "       'crowdworks/1Y2U7Ti13I86vUrQ', 'crowdworks/1gyo4rYszWqT5Dk0',\n",
       "       'crowdworks/1CT3ydYiMlh5yInA', 'crowdworks/1NZzHEdYUc5HSn8y',\n",
       "       'crowdworks/12e8eRQ7JiWrgVfM', 'crowdworks/13Xt9c4DFJbqeNjU',\n",
       "       'crowdworks/11r0s3e7gQwcaa3s', 'crowdworks/15u9WvJnamzNuIqG',\n",
       "       'crowdworks/15xjMiNscYORlvYe', 'crowdworks/1nBsEc0mqCtom3kG',\n",
       "       'crowdworks/1zvfjGwAtq8yusqG', 'crowdworks/20LmkhEtAcIrXLPM',\n",
       "       'crowdworks/148RtLBndFHCf1tI', 'crowdworks/11baTHs3pfNx9OHw',\n",
       "       'crowdworks/1x2DnxecL5EYTcPY', 'crowdworks/1v8t702UZBB9g7FY',\n",
       "       'crowdworks/16DsQgz3GKqqcU88', 'crowdworks/11ueQSLs1T4gPEye',\n",
       "       'crowdworks/17QJt72SB16FVGqm', 'crowdworks/18DrGqEW8J76VGEK',\n",
       "       'crowdworks/1qeZoPs0Pc3PrnZw', 'crowdworks/14SggZ7Eza0poUUa',\n",
       "       'crowdworks/13p0E3Frpqi6SZvc', 'crowdworks/1HrjV8GtaqNPyrM8',\n",
       "       'crowdworks/1vLOo6obEadwbfJg', 'crowdworks/1zuqeGgUUw2j2Wtk',\n",
       "       'crowdworks/1jJx9C7p74leUujA', 'crowdworks/11pCp1FQRgKWHO2i',\n",
       "       'crowdworks/1mOgnStM1Cy3gykC', 'crowdworks/11qjp6nUAwmhyV96',\n",
       "       'crowdworks/16DBgdH0FVh69WEa', 'crowdworks/16c9CdRyyAwy8s9w',\n",
       "       'crowdworks/18WDD9yboPsfzWYS', 'crowdworks/1NbyMPMnQ47PhK9g',\n",
       "       'crowdworks/1bayJeKtVSQiZjxQ', 'crowdworks/13vW83mujAXg5I1Y',\n",
       "       'crowdworks/12t6Lh4ikkikvRUu', 'crowdworks/13RNDgO3IDaX2jEe',\n",
       "       'crowdworks/202dFXRh4giNKsoy', 'crowdworks/19KqezylYXmDW3zU',\n",
       "       'crowdworks/1lejo7PQBflcFZJI', 'crowdworks/1B9Ts3DuPCt2nLtY',\n",
       "       'crowdworks/11sD0pGXPbwflkqO', 'crowdworks/1m38Zrnjc2j5Myy8',\n",
       "       'crowdworks/1AuEodFWqudp6v8C', 'crowdworks/1JakmoSfZtg6ocZU',\n",
       "       'crowdworks/18Zp9d2Qz2AAhCaG', 'crowdworks/20Ezloi5i27dJbzk',\n",
       "       'crowdworks/1SwQebB9BUh1X1UG', 'crowdworks/18Pa7JL8mm72KHGy',\n",
       "       'crowdworks/15MQofzyBqouz3js', 'crowdworks/15yWzOjD9vaqS0ci',\n",
       "       'crowdworks/14jNHqldYLNiCFfM', 'crowdworks/1qMK8Hov2VXevoOG',\n",
       "       'crowdworks/1YbHmeXq35MYzNYm', 'crowdworks/18oIXQvepv8ictaS',\n",
       "       'crowdworks/1GUNA44SEcPdlV4q', 'crowdworks/12THe0eJUKUCDgJc',\n",
       "       'crowdworks/14lEWpJ449VCkT3Y', 'crowdworks/17nMd3v1RGe4t1ay',\n",
       "       'crowdworks/12TI2zYnHQwpzvXM', 'crowdworks/1KGXSUrTfqZYTiWu',\n",
       "       'crowdworks/11rA4oIwmHBtWLM8', 'crowdworks/1A0Fo5o8PYvk8D5M',\n",
       "       'crowdworks/14McOoYfNmv4z4HQ', 'crowdworks/16JPQVfJRMY3mExE',\n",
       "       'crowdworks/16joD5CHcVDucRfs', 'crowdworks/1Ps7E6lxoui3trHM',\n",
       "       'crowdworks/16FVAIjBGOLF9rXc', 'crowdworks/11xB8hZg3EaW7nnM',\n",
       "       'crowdworks/1weiIeMMXXwSvivA', 'crowdworks/11lOybjrsbKE7zm4',\n",
       "       'crowdworks/14T4KqH8TcVinCxk', 'crowdworks/11rHXwjOSapdPM9o',\n",
       "       'crowdworks/19eFPe5zcsXbJyCG', 'crowdworks/11rPGSKkd7zJ9uAi',\n",
       "       'crowdworks/11vyLZrs2jbtIqZs', 'crowdworks/1OyRo6EXsmgi8T5M',\n",
       "       'crowdworks/1655m7vqiX2OUK4e', 'crowdworks/19UTl7kfBS1Ym1fE',\n",
       "       'crowdworks/1ZWH3wJ1svXdgUYC', 'crowdworks/1s52wcOoiJyJwADI',\n",
       "       'crowdworks/162Vxi0eb2aOTZ5c', 'crowdworks/1xs6YaGo1fRnRPbE',\n",
       "       'crowdworks/16TeveZJYHRJtII4', 'crowdworks/1U4ENdeLXyuapZYG',\n",
       "       'crowdworks/1gyrIiqjKMXbJBVw', 'crowdworks/14HN6IoQzZMM5Ao4',\n",
       "       'crowdworks/19ijFzmrk89qLiim', 'crowdworks/14ZganwWrHAKv1Oq',\n",
       "       'crowdworks/14jw0BPBmrUN5FWy', 'crowdworks/1J9IRn1pXsSe4AKW',\n",
       "       'crowdworks/193LNgzANylj2C5w', 'crowdworks/11XKQ6arpI2kWoVM',\n",
       "       'crowdworks/1p7NIFrbiTvJay7k', 'crowdworks/1kHdFD1wq4CLLfTk',\n",
       "       'crowdworks/12mq69mBcwWigQF6', 'crowdworks/12hmON0Y1PnNOozY',\n",
       "       'crowdworks/18K52dlwNw9o6vLs', 'crowdworks/1vNX62CfFsvLlxce',\n",
       "       'crowdworks/201bcEeszzukN2Ce', 'crowdworks/1YqZRUrmifW5Ew40',\n",
       "       'crowdworks/12TEQ9MT9Un3ziXg', 'crowdworks/14EzoGHFU5PzAy5w',\n",
       "       'crowdworks/1aMf1jwtvCSjSqDQ', 'crowdworks/12XadktKHXorDkG0',\n",
       "       'crowdworks/1oubozGX2S41Lxbs', 'crowdworks/13bW3egZJ1lKpGDI',\n",
       "       'crowdworks/1v2P4IKHKUi51vFo', 'crowdworks/11ywWTKa38uptzGq',\n",
       "       'crowdworks/1zJufFJUQ4L7pPUW', 'crowdworks/16YFkOKoNPfR4zBo',\n",
       "       'crowdworks/1v0LBFoNxZJzRNz6', 'crowdworks/1pCI0k0DebjZpOtM',\n",
       "       'crowdworks/17SFaokHSkUXb852', 'crowdworks/11rSQTKMqPIxPz8q',\n",
       "       'crowdworks/15yPSQ0XM3Zcb71E', 'crowdworks/1A07PIyGtvbkkwEa',\n",
       "       'crowdworks/1aT6BizWUbJphQrA', 'crowdworks/20R0kUoL0BuR9g0m',\n",
       "       'crowdworks/17Ezrwg3K7nO0lXc', 'crowdworks/1NA9MbThqsSnQIIS',\n",
       "       'crowdworks/12GuRS9PVsuccEIy', 'crowdworks/17anWYyO4MLhprLU',\n",
       "       'crowdworks/11vTG5Qdw9f0Q3hw', 'crowdworks/1jGeIVc9TF91HU7k',\n",
       "       'crowdworks/1x42yBLPlofMAitE', 'crowdworks/1aRUkpQB3BmaRcJc',\n",
       "       'crowdworks/11upg2iD8bouDAmW', 'crowdworks/1Lo9Ihxv8zQao892',\n",
       "       'crowdworks/1nEdfg3goAMwO3M0', 'crowdworks/1zyiJ3H3YcLF5mZU',\n",
       "       'crowdworks/1ufBbQaIzJddYFX6', 'crowdworks/12TdHNFo0qfsJAg4',\n",
       "       'crowdworks/1nnPsWz9wQhXFfAu', 'crowdworks/1aeSX1NSumpJuaI4',\n",
       "       'crowdworks/16WoAbVgJAM2OiNU', 'crowdworks/11vmJwpgPA87vMjQ',\n",
       "       'crowdworks/11wrx9aBL7MQgjAG', 'crowdworks/1n9fswMnq5oFqMoy',\n",
       "       'crowdworks/1tYIqWIQbPVEt1jE', 'crowdworks/14T8EynU9YNAdtZY',\n",
       "       'crowdworks/11rqK7fAofJmGEpE', 'crowdworks/18JSlJEI92GrBbIO',\n",
       "       'crowdworks/11vbiiYjZLMTlDMW', 'crowdworks/1kTsZeBvL5fXHrSy',\n",
       "       'crowdworks/1gwlYNW0Inn0k892', 'crowdworks/1aFW8CUaO6O9J8pE',\n",
       "       'crowdworks/13bqU4YcSEZ5a0uW', 'crowdworks/11uk68FiAhjPHcTw',\n",
       "       'crowdworks/1vA2BW6dGPQmY2Ge', 'crowdworks/11ubMCnazWKG5zDE',\n",
       "       'crowdworks/1B0G43OwUXAtc1yq', 'crowdworks/1boWsvmMgeGnmoi0',\n",
       "       'crowdworks/1D4tJrT7FndIhlZY', 'crowdworks/16cARVKXPGWdSYE4',\n",
       "       'crowdworks/1gv0Zafa5zvKkBtI', 'crowdworks/13YRvmzzbO5zVGOu',\n",
       "       'crowdworks/11x9Wlvksojx0ouO', 'crowdworks/1S5GKuDc6iKwNDE0',\n",
       "       'crowdworks/17V6lOzFhUzs3Nzs', 'crowdworks/12neHQlZGJ8T3SXQ',\n",
       "       'crowdworks/1GG6GiQ7vxkyxPwe', 'crowdworks/11rCUhlpWtxkBoga',\n",
       "       'crowdworks/17MpqgSfXb6sRnFI', 'crowdworks/1Q0P6Or4ruT2yeTw',\n",
       "       'crowdworks/20LTFvmFqjBMGqlE', 'crowdworks/1I7Y4qhmxrea6mQa',\n",
       "       'crowdworks/11dhpYqi1dz6pQXo', 'crowdworks/152q8AHtfH8zkUtM',\n",
       "       'crowdworks/1mHX5xc4ttyBymuW', 'crowdworks/12TJkge3dBMd3jd2',\n",
       "       'crowdworks/1MmEsNhewsWvdB44', 'crowdworks/1gxPwO3OgYYOVVVw',\n",
       "       'crowdworks/1Jm19DTdF4dSJyU4', 'crowdworks/20LkpY7pOQYsawVM',\n",
       "       'crowdworks/11t3OXh0NA04vfeq', 'crowdworks/15MV3x8ZXKlWe6lc',\n",
       "       'crowdworks/11r0cgTDCDQgj2qe', 'crowdworks/1h0pZvl0fbeRzE5A',\n",
       "       'crowdworks/14fMKY4uDUGhGPUe', 'crowdworks/14WaEZfklfrapCfQ',\n",
       "       'crowdworks/1CEk12M72AI0qxtY', 'crowdworks/19GHQGi4q3CvSPZo',\n",
       "       'crowdworks/11jiWOM4ZH6pdaAC', 'crowdworks/18hFqEs7UGwT3aWu',\n",
       "       'crowdworks/1oLFb5Wj71fcJn3Q', 'crowdworks/11t2eQAGuVSHL41A',\n",
       "       'crowdworks/12ZJAj7kfwiwZGmO', 'crowdworks/11j19thkKuAFVmEa',\n",
       "       'crowdworks/11lMUryl0QAtUddo', 'crowdworks/17O4RGh55B4WHNlA',\n",
       "       'crowdworks/20fZDSoEqXwcHqt6', 'crowdworks/13sTzBVcvGznfZuy',\n",
       "       'crowdworks/1q37NLalXy4IWRd2', 'crowdworks/1oKb1Y6eMblmelH6',\n",
       "       'crowdworks/116mMw6qQkk8mxge', 'crowdworks/206tWAkgVVNlq3Ps',\n",
       "       'crowdworks/16a3Eq5SWAsBhDyi', 'crowdworks/11yDjZv111G8Yqrg',\n",
       "       'crowdworks/19Z8KOIwNdAPthAG', 'crowdworks/182U7a1c7ugKjcLw',\n",
       "       'crowdworks/1RQym5Ov1cLRRlrs', 'crowdworks/1o4OpTeyZKBTX48O',\n",
       "       'crowdworks/1AvncBKC7G51ofWy', 'crowdworks/1YjGJmtt54wkiO7k',\n",
       "       'crowdworks/11tzMAZyIc8z18ls', 'crowdworks/16WlNeHQpDJHvwEC',\n",
       "       'crowdworks/118qADBOcLZ0Qfke', 'crowdworks/140tSIbdth9UZ9Wq',\n",
       "       'crowdworks/15olhw9FRpLhhMuW', 'crowdworks/1xGTEzOamCzM5QfI',\n",
       "       'crowdworks/20Lm8GIbx4W1sVNI', 'crowdworks/1jhoABR7C1USCWyO',\n",
       "       'crowdworks/16XxniDs6O10xacq', 'crowdworks/1GRLwqCaG2Y0q31M',\n",
       "       'crowdworks/1vpjtizDc01YwPxY', 'crowdworks/1ogWYHjuaGQU976O',\n",
       "       'crowdworks/14MhfVY1jv7A5CYy', 'crowdworks/119wwWN6o3nkYt2u',\n",
       "       'crowdworks/15xnGquEIUFtccAS', 'crowdworks/1KDkmYw1GnWlY2r2',\n",
       "       'crowdworks/1tm34N0igqYBgHVQ', 'crowdworks/11ugzxYK4ynEzQJc',\n",
       "       'crowdworks/13LXauMLV44a8r0i', 'crowdworks/20f6bi87c9942Q9Q',\n",
       "       'crowdworks/13XnIPHgjPofsLom', 'crowdworks/1zabnCSp12vbvBUe',\n",
       "       'crowdworks/1zvVYwiouu1iVv60', 'crowdworks/1zvu36qn2vdd24PY',\n",
       "       'crowdworks/16iscW4gQNLuKHNg', 'crowdworks/1HvGhZqIRXgRIPvk',\n",
       "       'crowdworks/14AM8izH3RldYcF6', 'crowdworks/12qHeqarOBMl6XiK',\n",
       "       'crowdworks/1LbPkaTuF9JHVWXA', 'crowdworks/20Lrk5uDyknGn04m',\n",
       "       'crowdworks/11tzl9US5ibcnNzc', 'crowdworks/1tgtVNSYZQ1fceLA',\n",
       "       'crowdworks/1Kwuz72hCwdpqo4G', 'crowdworks/1Q3CDEq87qADfVmS',\n",
       "       'crowdworks/1awMnEqrBoTadfvc', 'crowdworks/14Q8ArMpQjVz5INU',\n",
       "       'crowdworks/1AwC8GbHJ3sgJlFQ', 'crowdworks/13gNc7pZ1sFwnc0m',\n",
       "       'crowdworks/12fMHS5zyCcW2tjE', 'crowdworks/20gFBTqRKwMpBGk4',\n",
       "       'crowdworks/12Y9M5WsW3vW6k7c', 'crowdworks/12TIZf3jJeARhwMi',\n",
       "       'crowdworks/13OM0SWBJdiu7HBA', 'crowdworks/1aBdGTAZx6hhv9UG',\n",
       "       'crowdworks/1v9fo1yPHEhIrwGW', 'crowdworks/1NunkMl4yYnYyS3s',\n",
       "       'crowdworks/1ZYwjZ0kWJmoTHRw', 'crowdworks/1Z43ORPHp38ezey0',\n",
       "       'crowdworks/1zeaKbgfbHGmBYKu', 'crowdworks/1uzCPxDNs6xmOsz2',\n",
       "       'crowdworks/15w5hSEKnBDnkI64', 'crowdworks/1HqwvmvR7tcEinwm',\n",
       "       'crowdworks/1lPgmKTEGx09wcOO', 'crowdworks/1v4N0McJ0BjltbP6',\n",
       "       'crowdworks/14a9Vm5mhRrIzs9Y', 'crowdworks/202Yixz4BD45pMB6',\n",
       "       'crowdworks/19978FddYyby4K6y', 'crowdworks/1aOjetzWkmOcdz7o',\n",
       "       'crowdworks/1AmmGib0h2V1m15M', 'crowdworks/1gypJjRRQcQ8Oto8',\n",
       "       'crowdworks/12cePNxC0cvgTEJM', 'crowdworks/1Zy0VksjXzIV0uVk',\n",
       "       'crowdworks/1Hv6qT654NSaisCW', 'crowdworks/15MrJkgLHOk2ORA8',\n",
       "       'crowdworks/14fdLZmQfCErtY0W', 'crowdworks/11j1zmfoytHH3D4y',\n",
       "       'crowdworks/12u3lds2XjlWDBUO', 'crowdworks/20LfLP6fbr2bcDPU',\n",
       "       'crowdworks/14Sr6GVVSje24zS4', 'freeze-term-01-02/VCTEST01',\n",
       "       'freeze-term-01-02/3QRYMNZ7FZ0B5Y7FKQCL3EPXFG1NTO',\n",
       "       'freeze-term-01-02/3OLF68YTNAKU2AVPG22R04QWP26AFZ',\n",
       "       'freeze-term-01-02/34T446B1C1XRYLDXXYFX3STGJ1Q0C7',\n",
       "       'freeze-term-01-02/3QILPRALQ6ES7EFRHS1QCITA13R8NV',\n",
       "       'freeze-term-01-02/3Z4AIRP3C7WF889AKDFKVAX0PBN1XG',\n",
       "       'freeze-term-01-02/3XUHV3NRVLHHA0AEGWZAVEMND6PH5B',\n",
       "       'freeze-term-01-02/30LB5CDZNDT46EO7PCZ5EQU1SSF0ZR',\n",
       "       'term-01-02-partial/33ISQZVXPQ5BSD8D9E8HYTVHRXUCCW',\n",
       "       'wrong-with-good/3TPZPLC3M1V692LYLQJMPQQUIRX3PE',\n",
       "       'freezed-02/3HL8HNGX46KGXRLKOWOR49FCI6R9FT',\n",
       "       'freezed-02/3MHW492WW1WK08Q4DKX0RHOI552VMT',\n",
       "       'freezed-02/337RC3OW06L0UQ8JD8WLR49T54FLVS',\n",
       "       'freezed-02/3180JW2OT5VD16544W2V7R22PZL5JX',\n",
       "       'freezed-02/3AWETUDC93BFD95NT2OBKUUXCJYZIF',\n",
       "       'freezed-02/3SNLUL3WO560HBJJ8IMGVI7ATMMLUZ',\n",
       "       'freezed-02/369J354OFETZT8FH19RX2KOMUIU6GM',\n",
       "       'freezed-02/3FFJ6VRIL27IBOZXP8BJEVRBVUOI0G',\n",
       "       'freezed-02/3KJYX6QCMAUUZ0KJANK8BPW11B7VJP',\n",
       "       'freezed-02/33IZTU6J82KF2S84XWU4RBK9D5SSX5',\n",
       "       'freezed-02/37M28K1J0RWA7CHLZSTCF2IOG16JAC',\n",
       "       'freezed-02/3JRJSWSMQI42CBW8CC3BVERQ5JIE3Q',\n",
       "       'freezed-02/3MH9DQ757XVKVJ5IXRP0IQ22VCHGUH',\n",
       "       'Freezed/323Q6SJS8JZ9CX33M8CJHQD0ZRYFH2',\n",
       "       'Freezed/31HQ4X3T3TTK2YRFJDRGGHPM5VPLSG',\n",
       "       'Freezed/3GU1KF0O4JKBCXPB0JYS79O66KOPB7',\n",
       "       'Freezed/3SB5N7Y3O4N4FXT2ZKBGTJEVEOOG0Q',\n",
       "       'Freezed/3H7XDTSHKDAXNNUNSR410ENZFBTWGY',\n",
       "       'Freezed/3ZOTGHDK5JUS8JUCW5788YTG032OSE',\n",
       "       'Freezed/3ZPPDN2SLWFORDLOTL4LMRUC4AZE9B',\n",
       "       'Freezed/34S6N1K2ZW2VCPDZ8JFHC3IKWK8LHV',\n",
       "       'Freezed/32RIADZISTNO4QKUDLSZU0NBJRYS4Y',\n",
       "       'Freezed/3TU5ZICBREKDABSJXKT7GCOF38B8Q0',\n",
       "       'Freezed/3DY4FPOOA27BXO3WISTHDGISA9IRVR',\n",
       "       'Freezed/35GCEFQ6I670N6N48ZHOGOS8SRN3ZK',\n",
       "       'Freezed/3SLE99ER0OW5Q1RHNSWUY7QKGGBBZO',\n",
       "       'Freezed/3P59JYT76M3FGCIMY7E1BQMZ1ECT2O',\n",
       "       'Freezed/32RIADZISTNO4QKUDLSZU0NBJ9R4S3',\n",
       "       'Freezed/3UWN2HHPUZOAQYU0VQ7VT9TBAQPSNP',\n",
       "       'Freezed/3DY4FPOOA27BXO3WISTHDGISAR8VRL',\n",
       "       'Freezed/3RUIQRXJBC7XYLWPZ4UF4VBRD1HLL2',\n",
       "       'Freezed/37Z929RLGAR8LBZKSMT728Z3Z9GTSY',\n",
       "       'Freezed/3H0W84IWBLLUVDHAN247DCU6AW5REB',\n",
       "       'Freezed/3L0KT67Y8FZ42XYE2SG6APRIEATSYF',\n",
       "       'Freezed/3LYA37P8IR6A16SVNRTKBS27CDPBK5',\n",
       "       'Freezed/3H7Z272LX8QNP6BNRWNMLCKBIDQPLG',\n",
       "       'Freezed/32AT8R96GMSNLOE9SRJH74L5IQ8SUF',\n",
       "       'Freezed/30H4UDGLT317VOT8R8O1LPZ0IJKMPL',\n",
       "       'Freezed/3RSDURM96B53SETW1XW1L8N3DL6EYQ',\n",
       "       'multiple-face-detect/3I3WADAZ9RNR2HW1K9U0FNJOOTW5OH'],\n",
       "      dtype=object)"
      ]
     },
     "execution_count": 90,
     "metadata": {},
     "output_type": "execute_result"
    }
   ],
   "source": [
    "df_apple.uid.unique()"
   ]
  },
  {
   "cell_type": "code",
   "execution_count": 62,
   "metadata": {
    "scrolled": true
   },
   "outputs": [
    {
     "data": {
      "text/plain": [
       "iphone 6s                 89\n",
       "iphone 7                  85\n",
       "iphone 8                  81\n",
       "iphone x                  65\n",
       "iphone 8 plus             59\n",
       "iphone 6                  45\n",
       "iphone 7 plus             42\n",
       "iphone se                 21\n",
       "iphone 6s plus            18\n",
       "iphone11,2                18\n",
       "iphone11,6                 8\n",
       "iphone 6 plus              8\n",
       "iphone11,8                 7\n",
       "iphone 5s                  6\n",
       "ipad 6                     5\n",
       "ipad air 2                 3\n",
       "ipad pro 2 (10.5-inch)     1\n",
       "ipad air                   1\n",
       "ipod touch 6               1\n",
       "Name: model, dtype: int64"
      ]
     },
     "execution_count": 62,
     "metadata": {},
     "output_type": "execute_result"
    }
   ],
   "source": [
    "df_apple.model.value_counts()"
   ]
  },
  {
   "cell_type": "markdown",
   "metadata": {},
   "source": [
    "# 파일 이동 \n",
    "\n",
    "<br>\n",
    "\n",
    "- from: /ds/vc-one/ \n",
    "- to: /ds/archived/vc-one-apple "
   ]
  },
  {
   "cell_type": "code",
   "execution_count": 101,
   "metadata": {
    "scrolled": false
   },
   "outputs": [],
   "source": [
    "for index, row in df_apple.iterrows():\n",
    "    uid = row['uid'].split('/')[1]\n",
    "    path_from = \"/ds/vc-one/{}\".format(row['uid'])\n",
    "    path_to = \"/ds/archived/vc-one-apple/{}\".format(uid)\n",
    "    try:\n",
    "        # shutil.move(path_from, path_to)\n",
    "        # print(\"*** moved {} \\t {} ***\".format(path_from, path_to))\n",
    "        continue\n",
    "    except Exception as e:\n",
    "        print(e)"
   ]
  },
  {
   "cell_type": "markdown",
   "metadata": {},
   "source": [
    "# directory flatten"
   ]
  },
  {
   "cell_type": "code",
   "execution_count": 124,
   "metadata": {},
   "outputs": [],
   "source": [
    "base_path = \"/ds/archived/vc-one-apple\"\n",
    "profile_dirs = grep_dirs(base_path)\n",
    "for pd in profile_dirs:\n",
    "    folded = grep_dirs(pd)\n",
    "    \n",
    "    if len(folded) != 0:\n",
    "        print(\"*** folded 폴더 발견 {} ***\".format(pd))"
   ]
  },
  {
   "cell_type": "code",
   "execution_count": 119,
   "metadata": {
    "scrolled": false
   },
   "outputs": [
    {
     "name": "stdout",
     "output_type": "stream",
     "text": [
      "*** target: Freezed/31HQ4X3T3TTK2YRFJDRGGHPM5VPLSG ***\n",
      "*** target: Freezed/3GU1KF0O4JKBCXPB0JYS79O66KOPB7 ***\n",
      "*** target: Freezed/3SB5N7Y3O4N4FXT2ZKBGTJEVEOOG0Q ***\n",
      "*** target: Freezed/3H7XDTSHKDAXNNUNSR410ENZFBTWGY ***\n",
      "*** target: Freezed/3ZOTGHDK5JUS8JUCW5788YTG032OSE ***\n",
      "*** target: Freezed/3ZPPDN2SLWFORDLOTL4LMRUC4AZE9B ***\n",
      "*** target: Freezed/34S6N1K2ZW2VCPDZ8JFHC3IKWK8LHV ***\n",
      "*** target: Freezed/32RIADZISTNO4QKUDLSZU0NBJRYS4Y ***\n",
      "*** target: Freezed/3TU5ZICBREKDABSJXKT7GCOF38B8Q0 ***\n",
      "*** target: Freezed/3DY4FPOOA27BXO3WISTHDGISA9IRVR ***\n",
      "*** target: Freezed/35GCEFQ6I670N6N48ZHOGOS8SRN3ZK ***\n",
      "*** target: Freezed/3SLE99ER0OW5Q1RHNSWUY7QKGGBBZO ***\n",
      "*** target: Freezed/3P59JYT76M3FGCIMY7E1BQMZ1ECT2O ***\n",
      "*** target: Freezed/32RIADZISTNO4QKUDLSZU0NBJ9R4S3 ***\n",
      "*** target: Freezed/3UWN2HHPUZOAQYU0VQ7VT9TBAQPSNP ***\n",
      "*** target: Freezed/3DY4FPOOA27BXO3WISTHDGISAR8VRL ***\n",
      "*** target: Freezed/3RUIQRXJBC7XYLWPZ4UF4VBRD1HLL2 ***\n",
      "*** target: Freezed/37Z929RLGAR8LBZKSMT728Z3Z9GTSY ***\n",
      "*** target: Freezed/3H0W84IWBLLUVDHAN247DCU6AW5REB ***\n",
      "*** target: Freezed/3L0KT67Y8FZ42XYE2SG6APRIEATSYF ***\n",
      "*** target: Freezed/3LYA37P8IR6A16SVNRTKBS27CDPBK5 ***\n",
      "*** target: Freezed/3H7Z272LX8QNP6BNRWNMLCKBIDQPLG ***\n",
      "*** target: Freezed/32AT8R96GMSNLOE9SRJH74L5IQ8SUF ***\n",
      "*** target: Freezed/30H4UDGLT317VOT8R8O1LPZ0IJKMPL ***\n",
      "*** target: Freezed/3RSDURM96B53SETW1XW1L8N3DL6EYQ ***\n",
      "*** target: Freezed/3TPZPLC3M1V692LYLQJMPQQUIRX3PE ***\n"
     ]
    }
   ],
   "source": [
    "folded_dirs = ['Freezed/31HQ4X3T3TTK2YRFJDRGGHPM5VPLSG', 'Freezed/3GU1KF0O4JKBCXPB0JYS79O66KOPB7', 'Freezed/3SB5N7Y3O4N4FXT2ZKBGTJEVEOOG0Q', 'Freezed/3H7XDTSHKDAXNNUNSR410ENZFBTWGY', 'Freezed/3ZOTGHDK5JUS8JUCW5788YTG032OSE', 'Freezed/3ZPPDN2SLWFORDLOTL4LMRUC4AZE9B', 'Freezed/34S6N1K2ZW2VCPDZ8JFHC3IKWK8LHV', 'Freezed/32RIADZISTNO4QKUDLSZU0NBJRYS4Y', 'Freezed/3TU5ZICBREKDABSJXKT7GCOF38B8Q0', 'Freezed/3DY4FPOOA27BXO3WISTHDGISA9IRVR', 'Freezed/35GCEFQ6I670N6N48ZHOGOS8SRN3ZK', 'Freezed/3SLE99ER0OW5Q1RHNSWUY7QKGGBBZO', 'Freezed/3P59JYT76M3FGCIMY7E1BQMZ1ECT2O', 'Freezed/32RIADZISTNO4QKUDLSZU0NBJ9R4S3', 'Freezed/3UWN2HHPUZOAQYU0VQ7VT9TBAQPSNP', 'Freezed/3DY4FPOOA27BXO3WISTHDGISAR8VRL', 'Freezed/3RUIQRXJBC7XYLWPZ4UF4VBRD1HLL2', 'Freezed/37Z929RLGAR8LBZKSMT728Z3Z9GTSY', 'Freezed/3H0W84IWBLLUVDHAN247DCU6AW5REB', 'Freezed/3L0KT67Y8FZ42XYE2SG6APRIEATSYF', 'Freezed/3LYA37P8IR6A16SVNRTKBS27CDPBK5', 'Freezed/3H7Z272LX8QNP6BNRWNMLCKBIDQPLG', 'Freezed/32AT8R96GMSNLOE9SRJH74L5IQ8SUF', 'Freezed/30H4UDGLT317VOT8R8O1LPZ0IJKMPL', \n",
    "               'Freezed/3RSDURM96B53SETW1XW1L8N3DL6EYQ', \"Freezed/3TPZPLC3M1V692LYLQJMPQQUIRX3PE\"]\n",
    "\n",
    "for dn in folded_dirs[:]:\n",
    "    print(\"*** target: {} ***\".format(dn))\n",
    "    uid = dn.split('/')[1]\n",
    "    path = \"/ds/archived/vc-one-apple/{}\".format(uid)\n",
    "    \n",
    "    for i in [1,2,3]:\n",
    "        sub_path = \"{}/{}\".format(path, i)\n",
    "        files = grep_files(sub_path)\n",
    "        \n",
    "        for f in files:\n",
    "            filename = f.split(\"/\")[-1]\n",
    "            path_to = \"{}/{}\".format(path, filename)\n",
    "            shutil.move(f, path_to)\n",
    "        \n",
    "        if len(files) > 0:\n",
    "            os.rmdir(sub_path)\n",
    "            print(\"*** flattend {} ***\".format(path))"
   ]
  },
  {
   "cell_type": "markdown",
   "metadata": {},
   "source": [
    "# 파일명 표준화\n",
    "\n",
    "- eye-record-2-0-0.sensor.meta\n",
    "- eye-record-2-0-1.meta\n",
    "- eye-record-2-0-1.mp4\n",
    "\n",
    "<br>\n",
    "\n",
    "- record-2-0-0.json\n",
    "- record-2-0-0.mp4"
   ]
  },
  {
   "cell_type": "code",
   "execution_count": 146,
   "metadata": {},
   "outputs": [],
   "source": [
    "base_path = \"/ds/archived/vc-one-apple/_partial\"\n",
    "files = grep_recur(base_path)\n",
    "\n",
    "for f in files[:]:\n",
    "    if 'eye-record-' in f:\n",
    "        new_path = f.replace(\"eye-record-\", \"record-\")\n",
    "        if '.meta' in new_path:\n",
    "            new_path = new_path.replace(\".meta\", \".json\")\n",
    "        # shutil.move(f, new_path)"
   ]
  },
  {
   "cell_type": "markdown",
   "metadata": {},
   "source": [
    "# apple 수행도 체크"
   ]
  },
  {
   "cell_type": "code",
   "execution_count": 158,
   "metadata": {},
   "outputs": [],
   "source": [
    "base_path = \"/ds/archived/vc-one-apple/partial\"\n",
    "base_mv_path = \"/ds/archived/vc-one-apple/completed\"\n",
    "profile_dirs = grep_dirs(base_path)\n",
    "\n",
    "for pdp in profile_dirs[:]:\n",
    "    files = grep_files(pdp)\n",
    "    \n",
    "    if \"{}/{}\".format(pdp, \"record-3-0-0.mp4\") in files:\n",
    "        uid = pdp.split(\"/\")[-1]\n",
    "        path_to = \"{}/{}\".format(base_mv_path, uid)\n",
    "        shutil.move(pdp, path_to)\n",
    "        print(\"*** from {} \\t\\t to {} ***\".format(pdp, path_to))"
   ]
  }
 ],
 "metadata": {
  "kernelspec": {
   "display_name": "Python 3",
   "language": "python",
   "name": "python3"
  },
  "language_info": {
   "codemirror_mode": {
    "name": "ipython",
    "version": 3
   },
   "file_extension": ".py",
   "mimetype": "text/x-python",
   "name": "python",
   "nbconvert_exporter": "python",
   "pygments_lexer": "ipython3",
   "version": "3.5.2"
  }
 },
 "nbformat": 4,
 "nbformat_minor": 2
}
