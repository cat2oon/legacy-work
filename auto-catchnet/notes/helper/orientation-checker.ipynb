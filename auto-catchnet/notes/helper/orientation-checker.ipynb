{
 "cells": [
  {
   "cell_type": "markdown",
   "metadata": {},
   "source": [
    "# orientation check w/o dl"
   ]
  },
  {
   "cell_type": "markdown",
   "metadata": {},
   "source": [
    "# imports"
   ]
  },
  {
   "cell_type": "code",
   "execution_count": 76,
   "metadata": {},
   "outputs": [],
   "source": [
    "import os\n",
    "import sys\n",
    "import glob\n",
    "import random\n",
    "import cv2\n",
    "import numpy as np\n",
    "import matplotlib.pyplot as plt\n",
    "\n",
    "%matplotlib inline\n",
    "sys.path.append(\"../../\")\n",
    "\n",
    "%run ../../ac/filesystem/greps.py\n",
    "%run ../../al/feature/face/candide.py"
   ]
  },
  {
   "cell_type": "markdown",
   "metadata": {},
   "source": [
    "# face module"
   ]
  },
  {
   "cell_type": "code",
   "execution_count": 16,
   "metadata": {},
   "outputs": [],
   "source": [
    "candide_path = \"/home/chy/archive-model/candide/candide.npz\"\n",
    "land_mark_path = \"/home/chy/archive-model/candide/shape_predictor_68_face_landmarks.dat\"\n",
    "sample_base_path = \"/home/chy/archive-data/processed/frame-angle/train\""
   ]
  },
  {
   "cell_type": "code",
   "execution_count": 13,
   "metadata": {},
   "outputs": [],
   "source": [
    "candide = Candide(candide_path, land_mark_path)"
   ]
  },
  {
   "cell_type": "markdown",
   "metadata": {},
   "source": [
    "# collect samples"
   ]
  },
  {
   "cell_type": "code",
   "execution_count": 17,
   "metadata": {},
   "outputs": [],
   "source": [
    "t_path = \"{}/t/\".format(sample_base_path)\n",
    "f_path = \"{}/f/\".format(sample_base_path)"
   ]
  },
  {
   "cell_type": "code",
   "execution_count": 19,
   "metadata": {},
   "outputs": [],
   "source": [
    "t_paths = grep_recur(t_path, \"*.jpg\")\n",
    "f_paths = grep_recur(f_path, \"*.jpg\")"
   ]
  },
  {
   "cell_type": "markdown",
   "metadata": {},
   "source": [
    "# check"
   ]
  },
  {
   "cell_type": "code",
   "execution_count": 98,
   "metadata": {},
   "outputs": [],
   "source": [
    "def truth_percentage(arr):\n",
    "    return arr.count(True) / len(arr)\n",
    "\n",
    "def falsy_percentage(arr):\n",
    "    return arr.count(False) / len(arr)\n",
    "\n",
    "def check_portrait(path):\n",
    "    img = cv2.imread(path)\n",
    "    return is_portrait(img)\n",
    "\n",
    "def is_portrait(img):\n",
    "    fs = candide.get_features(img)\n",
    "    return fs is not None\n",
    "\n",
    "def rots_ccw(imgs):\n",
    "    return [np.rot90(img) for img in imgs]\n",
    "\n",
    "def guess_orientation(imgs):\n",
    "    for i, head in enumerate([12, 9, 6, 3]):\n",
    "        are_portraits = [is_portrait(img) for img in imgs]\n",
    "        t_percentage = truth_percentage(are_portraits)\n",
    "        if t_percentage > 0.70:\n",
    "            return head\n",
    "        imgs = rots_ccw(imgs)\n",
    "    return -1\n",
    "\n",
    "def choose_sample_paths(dir_path, num_samples=20):\n",
    "    img_paths = glob.glob(\"{}/*.jpg\".format(dir_path))\n",
    "    return random.sample(img_paths, num_samples)\n",
    "\n",
    "def read_images(img_paths):\n",
    "    return [cv2.imread(img) for img in img_paths]\n",
    "\n",
    "def guess_orientation_of_dir(dir_path):\n",
    "    img_paths = choose_sample_paths(dir_path)\n",
    "    sample_imgs = read_images(img_paths)\n",
    "    return guess_orientation(sample_imgs)"
   ]
  },
  {
   "cell_type": "code",
   "execution_count": 83,
   "metadata": {},
   "outputs": [],
   "source": [
    "t_portraits = [check_portrait(p) for p in t_paths] \n",
    "f_portraits = [check_portrait(p) for p in f_paths] "
   ]
  },
  {
   "cell_type": "code",
   "execution_count": 95,
   "metadata": {
    "scrolled": true
   },
   "outputs": [
    {
     "name": "stdout",
     "output_type": "stream",
     "text": [
      "0.9130434782608695\n",
      "0.9462809917355371\n"
     ]
    }
   ],
   "source": [
    "print(t_portraits.count(True) / len(t_portraits))\n",
    "print(f_portraits.count(False) / len(f_portraits))"
   ]
  },
  {
   "cell_type": "code",
   "execution_count": 100,
   "metadata": {},
   "outputs": [
    {
     "name": "stdout",
     "output_type": "stream",
     "text": [
      "12\n"
     ]
    }
   ],
   "source": [
    "so = guess_orientation_of_dir(t_path)\n",
    "print(so)"
   ]
  }
 ],
 "metadata": {
  "kernelspec": {
   "display_name": "venv python3",
   "language": "python",
   "name": "python3"
  },
  "language_info": {
   "codemirror_mode": {
    "name": "ipython",
    "version": 3
   },
   "file_extension": ".py",
   "mimetype": "text/x-python",
   "name": "python",
   "nbconvert_exporter": "python",
   "pygments_lexer": "ipython3",
   "version": "3.6.3"
  }
 },
 "nbformat": 4,
 "nbformat_minor": 2
}
