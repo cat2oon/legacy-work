{
 "cells": [
  {
   "cell_type": "markdown",
   "metadata": {},
   "source": [
    "# 데이터셋 일부 선정\n",
    "\n",
    "<br>\n",
    "\n",
    "### 전체 : 4730881"
   ]
  },
  {
   "cell_type": "code",
   "execution_count": 1,
   "metadata": {},
   "outputs": [],
   "source": [
    "import os, glob\n",
    "import zipfile\n",
    "import random\n",
    "from random import shuffle\n",
    "from itertools import chain"
   ]
  },
  {
   "cell_type": "code",
   "execution_count": 2,
   "metadata": {},
   "outputs": [],
   "source": [
    "def grep_recur(base_path, pattern=\"*.*\"):\n",
    "    sub_greps = list(chain(*[grep_recur(dp, pattern) for dp in grep_dirs(base_path)]))\n",
    "    return grep_files(base_path, pattern) + sub_greps\n",
    "\n",
    "def grep_files(base_path, pattern=\"*.*\"):\n",
    "    return glob.glob(\"{}/{}\".format(base_path, pattern))\n",
    "\n",
    "def grep_dirs(base_path):\n",
    "    file_paths = [os.path.join(base_path, name) for name in os.listdir(base_path)]\n",
    "    return [p for p in file_paths if os.path.isdir(p)]"
   ]
  },
  {
   "cell_type": "code",
   "execution_count": 3,
   "metadata": {},
   "outputs": [],
   "source": [
    "anno_path = \"/ds/processed/annotation/\"\n",
    "frame_path = \"/ds/processed/vc-one-frame/\""
   ]
  },
  {
   "cell_type": "code",
   "execution_count": 4,
   "metadata": {},
   "outputs": [],
   "source": [
    "json_paths = grep_recur(anno_path, pattern=\"*.json\")"
   ]
  },
  {
   "cell_type": "code",
   "execution_count": 5,
   "metadata": {
    "scrolled": false
   },
   "outputs": [
    {
     "name": "stdout",
     "output_type": "stream",
     "text": [
      "4730881\n"
     ]
    }
   ],
   "source": [
    "print(len(json_paths))"
   ]
  },
  {
   "cell_type": "code",
   "execution_count": 10,
   "metadata": {},
   "outputs": [],
   "source": [
    "# import json\n",
    "# with open(\"/ds/bench/annot_json_list.json\", \"w+\") as f:\n",
    "#     json.dump(json_paths, f)"
   ]
  },
  {
   "cell_type": "code",
   "execution_count": null,
   "metadata": {},
   "outputs": [],
   "source": [
    "random.seed(860515)"
   ]
  },
  {
   "cell_type": "code",
   "execution_count": null,
   "metadata": {},
   "outputs": [],
   "source": [
    "shuffle(json_paths)"
   ]
  },
  {
   "cell_type": "code",
   "execution_count": null,
   "metadata": {},
   "outputs": [],
   "source": [
    "# num_select = 200000\n",
    "num_select = len(json_paths)"
   ]
  },
  {
   "cell_type": "code",
   "execution_count": null,
   "metadata": {},
   "outputs": [],
   "source": [
    "selected_json_paths = json_paths[:num_select]\n",
    "sample_json_paths = selected_json_paths[:100]\n",
    "print(len(selected_json_paths))\n",
    "print(len(sample_json_paths))\n",
    "print(selected_json_paths[0])"
   ]
  },
  {
   "cell_type": "code",
   "execution_count": null,
   "metadata": {},
   "outputs": [],
   "source": [
    "def package_pair(zip_dir_path, js_paths, pack_size=512):\n",
    "    json_blocks = [js_paths[i:i+pack_size] for i in (range(0, len(js_paths), pack_size))]\n",
    "    \n",
    "    for block_idx, js_block in enumerate(json_blocks):\n",
    "        zip_file_path = \"{}/frames-{:05d}.zip\".format(zip_dir_path, block_idx)\n",
    "        package = zipfile.ZipFile(zip_file_path, 'w')\n",
    "        \n",
    "        for p in js_block:\n",
    "            arcname = p.replace(\"/ds/processed/annotation/\", \"\")\n",
    "            arcname = arcname.replace(\"/\", \"-\")\n",
    "            package.write(p, arcname=arcname, compress_type=zipfile.ZIP_DEFLATED)\n",
    "        \n",
    "            frame_path = p.replace(\"/ds/processed/annotation/\", \"/ds/processed/vc-one-frame/\")\n",
    "            frame_path = frame_path.replace(\"json\", \"jpg\")\n",
    "            arcname = frame_path.replace(\"/ds/processed/vc-one-frame/\", \"\")\n",
    "            arcname = arcname.replace(\"/\", \"-\")\n",
    "            package.write(frame_path, arcname=arcname, compress_type=zipfile.ZIP_DEFLATED)\n",
    "            \n",
    "        print(\"*** complete package [{}] ***\".format(block_idx))"
   ]
  },
  {
   "cell_type": "markdown",
   "metadata": {},
   "source": [
    "# annotation 및 frame 압축"
   ]
  },
  {
   "cell_type": "code",
   "execution_count": null,
   "metadata": {},
   "outputs": [],
   "source": [
    "# package(\"/ds/bench\", sample_json_paths)\n",
    "# package(\"/ds/bench\", selected_json_paths)\n",
    "package_pair(\"/ds/bench\", selected_json_paths)"
   ]
  },
  {
   "cell_type": "markdown",
   "metadata": {},
   "source": [
    "# legacy"
   ]
  },
  {
   "cell_type": "code",
   "execution_count": null,
   "metadata": {},
   "outputs": [],
   "source": [
    "# def zip_files(zip_file_path, paths):\n",
    "#     package = zipfile.ZipFile(zip_file_path, 'w')\n",
    "#     for p in paths:\n",
    "#         arcname = p.replace(\"/ds/processed/annotation/\", \"\")\n",
    "#         arcname = arcname.replace(\"/\", \"-\")\n",
    "#         package.write(p, arcname=arcname, compress_type=zipfile.ZIP_DEFLATED)\n",
    "        \n",
    "# def archive_frames(zip_file_path, annot_paths):\n",
    "#     package = zipfile.ZipFile(zip_file_path, 'w')\n",
    "#     for p in annot_paths:\n",
    "#         frame_path = p.replace(\"/ds/processed/annotation/\", \"/ds/processed/vc-one-frame/\")\n",
    "#         frame_path = frame_path.replace(\"json\", \"jpg\")\n",
    "#         arcname = frame_path.replace(\"/ds/processed/vc-one-frame/\", \"\")\n",
    "#         arcname = arcname.replace(\"/\", \"-\")\n",
    "#         package.write(frame_path, arcname=arcname, compress_type=zipfile.ZIP_DEFLATED)\n",
    "\n",
    "# def package(zip_dir_path, json_path):\n",
    "#     zip_files(\"{}/anno.zip\".format(zip_dir_path), json_path)\n",
    "#     print(\"*** complete anno ***\")\n",
    "#     archive_frames(\"{}/frames.zip\".format(zip_dir_path), json_path)\n",
    "#     print(\"*** complete frame ***\")        "
   ]
  }
 ],
 "metadata": {
  "kernelspec": {
   "display_name": "Python 3",
   "language": "python",
   "name": "python3"
  },
  "language_info": {
   "codemirror_mode": {
    "name": "ipython",
    "version": 3
   },
   "file_extension": ".py",
   "mimetype": "text/x-python",
   "name": "python",
   "nbconvert_exporter": "python",
   "pygments_lexer": "ipython3",
   "version": "3.5.2"
  }
 },
 "nbformat": 4,
 "nbformat_minor": 2
}
