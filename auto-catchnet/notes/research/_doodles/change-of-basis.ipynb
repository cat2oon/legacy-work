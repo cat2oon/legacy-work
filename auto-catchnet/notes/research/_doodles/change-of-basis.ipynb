{
 "cells": [
  {
   "cell_type": "markdown",
   "metadata": {},
   "source": [
    "# reference\n",
    "\n",
    "- http://nasseralkmim.github.io/notes/2017/03/20/linear-algebra-change-of-basis-explained-using-python/"
   ]
  },
  {
   "cell_type": "code",
   "execution_count": 2,
   "metadata": {},
   "outputs": [],
   "source": [
    "%matplotlib inline\n",
    "\n",
    "import matplotlib.pyplot as plt\n",
    "import numpy as np"
   ]
  },
  {
   "cell_type": "code",
   "execution_count": 11,
   "metadata": {},
   "outputs": [
    {
     "data": {
      "image/png": "[encoded data removed]",
      "text/plain": [
       "<Figure size 504x504 with 1 Axes>"
      ]
     },
     "metadata": {
      "needs_background": "light"
     },
     "output_type": "display_data"
    }
   ],
   "source": [
    "figsize = [7, 7]\n",
    "\n",
    "fig, ax = plt.subplots()\n",
    "\n",
    "b1, b2 = np.array([1, 0]), np.array([0, 1])    # origin \n",
    "β1, β2 = np.array([2, 3]), np.array([-1, 1])   # new basis\n",
    "\n",
    "ax.arrow(0, 0, b1[0], b1[1] , fc='b', ec='b', head_width=0.3, head_length=.3)\n",
    "ax.arrow(0, 0, b2[0], b2[1] , fc='b', ec='b', head_width=0.3, head_length=.3)\n",
    "ax.arrow(0, 0, β1[0], β1[1] , fc='r', ec='r', head_width=0.3, head_length=.3)\n",
    "ax.arrow(0, 0, β2[0], β2[1] , fc='r', ec='r', head_width=0.3, head_length=.3)\n",
    "ax.axis([-2, 3, -1, 4])\n",
    "\n",
    "ax.set_aspect('equal')\n",
    "ax.axhline(color='k', alpha=.3)\n",
    "ax.axvline(color='k', alpha=.3)\n",
    "fig.set_size_inches(figsize)"
   ]
  },
  {
   "cell_type": "code",
   "execution_count": 12,
   "metadata": {},
   "outputs": [
    {
     "name": "stdout",
     "output_type": "stream",
     "text": [
      "Transformed to original system with \n",
      " Q=[[ 2 -1]\n",
      " [ 3  1]]\n"
     ]
    }
   ],
   "source": [
    "Q = np.array([β1, β2]).T\n",
    "print('Transformed to original system with \\n Q={}'.format(Q))"
   ]
  },
  {
   "cell_type": "code",
   "execution_count": 14,
   "metadata": {},
   "outputs": [
    {
     "data": {
      "image/png": "[encoded data removed]",
      "text/plain": [
       "<Figure size 504x504 with 1 Axes>"
      ]
     },
     "metadata": {
      "needs_background": "light"
     },
     "output_type": "display_data"
    }
   ],
   "source": [
    "fig, ax = plt.subplots()\n",
    "\n",
    "v = np.array([2, -4])\n",
    "\n",
    "ax.arrow(0, 0, v[0], v[1] , fc='g', ec='g', head_width=0.3, head_length=.3)\n",
    "ax.arrow(0, 0, v[0]*b1[0], v[0]*b1[1] , fc='b', ec='b', head_width=0.3, head_length=.3)\n",
    "ax.arrow(0, 0, v[1]*b2[0], v[1]*b2[1] , fc='b', ec='b', head_width=0.3, head_length=.3)\n",
    "\n",
    "ax.arrow(0, 0, b1[0], b1[1] , fc='b', ec='b', head_width=0.3, head_length=.3, alpha=.2)\n",
    "ax.arrow(0, 0, b2[0], b2[1] , fc='b', ec='b', head_width=0.3, head_length=.3, alpha=.2)\n",
    "ax.arrow(0, 0, β1[0], β1[1] , fc='r', ec='r', head_width=0.3, head_length=.3, alpha=.2)\n",
    "ax.arrow(0, 0, β2[0], β2[1] , fc='r', ec='r', head_width=0.3, head_length=.3, alpha=.2)\n",
    "ax.axis([-3, 4, -5, 4])\n",
    "ax.set_aspect('equal')\n",
    "ax.axhline(color='k', alpha=.3)\n",
    "ax.axvline(color='k', alpha=.3)\n",
    "fig.set_size_inches(figsize)"
   ]
  },
  {
   "cell_type": "code",
   "execution_count": 15,
   "metadata": {},
   "outputs": [
    {
     "name": "stdout",
     "output_type": "stream",
     "text": [
      "The vector in the new coordinates \n",
      " v_β=[-0.4 -2.8]\n"
     ]
    }
   ],
   "source": [
    "v_β = np.linalg.solve(Q, v)\n",
    "print('The vector in the new coordinates \\n v_β={}'.format(v_β))"
   ]
  },
  {
   "cell_type": "code",
   "execution_count": 16,
   "metadata": {},
   "outputs": [
    {
     "data": {
      "image/png": "[encoded data removed]",
      "text/plain": [
       "<Figure size 504x504 with 1 Axes>"
      ]
     },
     "metadata": {
      "needs_background": "light"
     },
     "output_type": "display_data"
    }
   ],
   "source": [
    "fig, ax = plt.subplots()\n",
    "\n",
    "ax.arrow(0, 0, v_β[0]*β1[0], v_β[0]*β1[1] , fc='r', ec='r', head_width=0.3, head_length=.3)\n",
    "ax.arrow(0, 0, v_β[1]*β2[0], v_β[1]*β2[1] , fc='r', ec='r', head_width=0.3, head_length=.3)\n",
    "ax.arrow(0, 0, v[0], v[1] , fc='g', ec='g', head_width=0.3, head_length=.3)\n",
    "\n",
    "ax.arrow(0, 0, b1[0], b1[1] , fc='b', ec='b', head_width=0.3, head_length=.3, alpha=.2)\n",
    "ax.arrow(0, 0, b2[0], b2[1] , fc='b', ec='b', head_width=0.3, head_length=.3, alpha=.2)\n",
    "ax.arrow(0, 0, β1[0], β1[1] , fc='r', ec='r', head_width=0.3, head_length=.3, alpha=.2)\n",
    "ax.arrow(0, 0, β2[0], β2[1] , fc='r', ec='r', head_width=0.3, head_length=.3, alpha=.2)\n",
    "ax.axis([-3, 4, -5, 4])\n",
    "ax.set_aspect('equal')\n",
    "ax.axhline(color='k', alpha=.3)\n",
    "ax.axvline(color='k', alpha=.3)\n",
    "fig.set_size_inches(figsize)"
   ]
  }
 ],
 "metadata": {
  "kernelspec": {
   "display_name": "venv python3",
   "language": "python",
   "name": "python3"
  },
  "language_info": {
   "codemirror_mode": {
    "name": "ipython",
    "version": 3
   },
   "file_extension": ".py",
   "mimetype": "text/x-python",
   "name": "python",
   "nbconvert_exporter": "python",
   "pygments_lexer": "ipython3",
   "version": "3.6.3"
  }
 },
 "nbformat": 4,
 "nbformat_minor": 2
}
