{
 "cells": [
  {
   "cell_type": "code",
   "execution_count": 1,
   "metadata": {},
   "outputs": [],
   "source": [
    "import numpy as np\n",
    "import numpy.linalg as LA"
   ]
  },
  {
   "cell_type": "code",
   "execution_count": 20,
   "metadata": {},
   "outputs": [
    {
     "name": "stdout",
     "output_type": "stream",
     "text": [
      "[[ 0.    0.8   0.6 ]\n",
      " [-0.8  -0.36  0.48]\n",
      " [-0.6   0.48 -0.64]]\n",
      "[[ 0.    0.8   0.6 ]\n",
      " [-0.8  -0.36  0.48]\n",
      " [-0.6   0.48 -0.64]]\n"
     ]
    }
   ],
   "source": [
    "R = [[-0.9743376, -0.0255771, -0.2236337],\n",
    "     [0.0967244, -0.9446929, -0.3133683],\n",
    "     [-0.2032501, -0.3269574,  0.9229237]]\n",
    "\n",
    "R = [[ -1.0000000, -0.0000000,  0.0000000],\n",
    "     [  0.0000000, -1.0000000,  0.0000000],\n",
    "     [   0.0000000,  0.0000000,  1.0000000 ]]\n",
    "\n",
    "R = [[ 0, -0.8,  -0.6],\n",
    "     [ 0.8, -0.36,  0.48],\n",
    "     [ 0.6, 0.48,  -0.64]]\n",
    "\n",
    "R = np.array(R)\n",
    "RT = R.T\n",
    "RI = LA.inv(R)\n",
    "\n",
    "print(RT)\n",
    "print(RI)"
   ]
  },
  {
   "cell_type": "code",
   "execution_count": 19,
   "metadata": {},
   "outputs": [
    {
     "name": "stdout",
     "output_type": "stream",
     "text": [
      "[-10. -10.  10.]\n",
      "[-10. -10.  10.]\n",
      "[10. 10. 10.]\n"
     ]
    }
   ],
   "source": [
    "p = np.array([10, 10, 10])\n",
    "\n",
    "print(R @ p)\n",
    "print(RT @ p)\n",
    "print(RI @ R @ p)"
   ]
  },
  {
   "cell_type": "code",
   "execution_count": 19,
   "metadata": {},
   "outputs": [],
   "source": [
    "R = np.matrix([[0.99, -0.04, 0.85],\n",
    "     [0.03, 0.09, 0.10],\n",
    "     [0.31, -0.59, -0.73]])\n",
    "\n",
    "R = np.matrix([\n",
    "    [0.85, 0.044, 0.3884],\n",
    "    [0.0586, 0.9822, -0.30],\n",
    "    [0.52, -0.1828, -0.87]])"
   ]
  },
  {
   "cell_type": "code",
   "execution_count": 18,
   "metadata": {},
   "outputs": [],
   "source": [
    "X = np.array([0.057, 0.464, 0.884])"
   ]
  },
  {
   "cell_type": "code",
   "execution_count": 20,
   "metadata": {},
   "outputs": [
    {
     "data": {
      "text/plain": [
       "matrix([[ 0.4122116,  0.193881 , -0.8242592]])"
      ]
     },
     "execution_count": 20,
     "metadata": {},
     "output_type": "execute_result"
    }
   ],
   "source": [
    "np.matmul(R, X)"
   ]
  },
  {
   "cell_type": "markdown",
   "metadata": {},
   "source": [
    "# Optical Axis Listing's Law"
   ]
  },
  {
   "cell_type": "code",
   "execution_count": 3,
   "metadata": {},
   "outputs": [],
   "source": [
    "OPT = np.array([0.1718,   -0.1984,   -0.9649])"
   ]
  },
  {
   "cell_type": "code",
   "execution_count": 15,
   "metadata": {},
   "outputs": [],
   "source": [
    "def toMat(opt):\n",
    "    opt = -opt\n",
    "    sp = -opt[1]\n",
    "    cpsq = 1 - sp**2\n",
    "    stcp = -opt[0]\n",
    "    ctcp = opt[2]\n",
    "    \n",
    "    r11 = 1 - ( stcp**2 / (1+ctcp))\n",
    "    r12 = -sp*stcp / (1+ctcp)\n",
    "    r21 = -sp*stcp / (1+ctcp)\n",
    "    r22 = (ctcp + cpsq) / (1+ ctcp)\n",
    "    r31 = stcp\n",
    "    r32 = sp\n",
    "    \n",
    "    return np.array([r11, r12, stcp, r21, r22, sp, r31, r32, -ctcp]).reshape(3,3)\n",
    "    "
   ]
  },
  {
   "cell_type": "code",
   "execution_count": 16,
   "metadata": {},
   "outputs": [
    {
     "name": "stdout",
     "output_type": "stream",
     "text": [
      "[[ 0.98497876  0.017347    0.1718    ]\n",
      " [ 0.017347    0.97996714 -0.1984    ]\n",
      " [ 0.1718     -0.1984     -0.9649    ]]\n"
     ]
    }
   ],
   "source": [
    "R = toMat(OPT)\n",
    "print(R)"
   ]
  }
 ],
 "metadata": {
  "kernelspec": {
   "display_name": "venv python3",
   "language": "python",
   "name": "python3"
  },
  "language_info": {
   "codemirror_mode": {
    "name": "ipython",
    "version": 3
   },
   "file_extension": ".py",
   "mimetype": "text/x-python",
   "name": "python",
   "nbconvert_exporter": "python",
   "pygments_lexer": "ipython3",
   "version": "3.6.3"
  }
 },
 "nbformat": 4,
 "nbformat_minor": 2
}
