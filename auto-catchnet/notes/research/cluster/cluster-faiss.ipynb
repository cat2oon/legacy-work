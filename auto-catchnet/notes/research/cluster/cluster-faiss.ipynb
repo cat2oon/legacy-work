{
 "cells": [
  {
   "cell_type": "markdown",
   "metadata": {},
   "source": [
    "# cluster (knn)"
   ]
  },
  {
   "cell_type": "code",
   "execution_count": 11,
   "metadata": {},
   "outputs": [],
   "source": [
    "import sys\n",
    "import faiss\n",
    "import numpy as np"
   ]
  },
  {
   "cell_type": "code",
   "execution_count": 7,
   "metadata": {},
   "outputs": [],
   "source": [
    "def load_modules():\n",
    "    sys.path.append(\"../../../\")\n",
    "    # %run ../../../ai/cluster/main.py\n",
    "    %run ../../../ac/common/randoms.py"
   ]
  },
  {
   "cell_type": "code",
   "execution_count": 9,
   "metadata": {},
   "outputs": [],
   "source": [
    "load_modules()"
   ]
  },
  {
   "cell_type": "markdown",
   "metadata": {},
   "source": [
    "# exp"
   ]
  },
  {
   "cell_type": "code",
   "execution_count": 22,
   "metadata": {
    "scrolled": false
   },
   "outputs": [
    {
     "name": "stdout",
     "output_type": "stream",
     "text": [
      "index total num: 80000\n",
      "0 0.0\n",
      "1 -6.1035156e-05\n",
      "2 -6.1035156e-05\n",
      "3 -3.0517578e-05\n",
      "4 6.1035156e-05\n"
     ]
    }
   ],
   "source": [
    "\"\"\"\n",
    " Parameters\n",
    "\"\"\"\n",
    "RandomSeed().set_numpy_seed()\n",
    "\n",
    "num_neighbors = 400             # 클러스터 개수 (look vec 히스토그램으로 확인해 볼 것)\n",
    "num_dimension = 515             # feature vector 크기\n",
    "num_query = 1000                # 쿼리 아이템 개수\n",
    "num_database = 80000            # unity 1681 class 전체\n",
    "\n",
    "res = faiss.StandardGpuResources()\n",
    "\n",
    "\"\"\"\n",
    " 데이터 준비\n",
    "\"\"\"\n",
    "# database = None               # database.shape = (num_database, num_dimension)\n",
    "database = np.random.random((num_database, num_dimension)).astype(np.float32)\n",
    "database[:, 0] += np.arange(num_database) / 1000.\n",
    "\n",
    "query = np.random.random((num_query, num_dimension)).astype(np.float32)\n",
    "query[:, 0] += np.arange(num_query) / 1000.\n",
    "\n",
    "\"\"\"\n",
    " Index 구성  \n",
    "\"\"\"\n",
    "index = faiss.IndexFlatL2(num_dimension)\n",
    "index.add(database)\n",
    "print(\"index total num: {}\".format(index.ntotal))\n",
    "\n",
    "\"\"\"\n",
    " pre-search (sanity check)\n",
    "\"\"\"\n",
    "distances, indexes = index.search(database[:5], num_neighbors)\n",
    "for i,d in zip(indexes, distances):\n",
    "    print(i[0], d[0])"
   ]
  },
  {
   "cell_type": "code",
   "execution_count": 29,
   "metadata": {},
   "outputs": [
    {
     "name": "stdout",
     "output_type": "stream",
     "text": [
      "[587 514 536] [73.184875 73.90967  74.680786]\n"
     ]
    }
   ],
   "source": [
    "\n",
    "\"\"\"\n",
    " Search\n",
    "\"\"\"\n",
    "distances, indexes = index.search(query, num_neighbors)\n",
    "for i,d in list(zip(indexes, distances))[:1]:\n",
    "    print(i[:3], d[:3])"
   ]
  }
 ],
 "metadata": {
  "kernelspec": {
   "display_name": "venv python3",
   "language": "python",
   "name": "python3"
  },
  "language_info": {
   "codemirror_mode": {
    "name": "ipython",
    "version": 3
   },
   "file_extension": ".py",
   "mimetype": "text/x-python",
   "name": "python",
   "nbconvert_exporter": "python",
   "pygments_lexer": "ipython3",
   "version": "3.6.3"
  }
 },
 "nbformat": 4,
 "nbformat_minor": 2
}
