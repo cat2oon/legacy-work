{
 "cells": [
  {
   "cell_type": "markdown",
   "metadata": {},
   "source": [
    " # Kappa Proof E2\n",
    " \n",
    " ## 샘플 데이터 인덱스 생성\n",
    " \n",
    " <br>\n",
    " \n",
    " #### 프레임별 measurement 정의\n",
    " - focal length\n",
    " - cx, cy (principal point)\n",
    " - cam x, cam y\n",
    " - face 3d position\n",
    " - eye center 3d position\n",
    " - iris center 3d position\n",
    " \n",
    " <br>\n",
    " \n",
    "#### profile 별 param 정의\n",
    " - kappa rotation phi, theta"
   ]
  },
  {
   "cell_type": "code",
   "execution_count": 23,
   "metadata": {},
   "outputs": [],
   "source": [
    "import os\n",
    "import glob\n",
    "\n",
    "def grep_dirs(base_path):\n",
    "    file_paths = [path_join(base_path, name) for name in os.listdir(base_path)]\n",
    "    return [p for p in file_paths if os.path.isdir(p)]\n",
    "\n",
    "def grep_files(base_path, pattern=\"*.*\"):\n",
    "    return glob.glob(\"{}/{}\".format(base_path, pattern))\n",
    "\n",
    "def mk_dirs(base_path, dir_names):\n",
    "    for dir_name in dir_names:\n",
    "        try:\n",
    "            dir_path = \"{}/{}/\".format(base_path, dir_name)\n",
    "            os.mkdir(dir_path)\n",
    "        except Exception as e:\n",
    "            continue"
   ]
  },
  {
   "cell_type": "code",
   "execution_count": 25,
   "metadata": {},
   "outputs": [],
   "source": [
    "# 분석에 사용될 샘플 폴더 구성\n",
    "base_dir = \"/media/chy/1326657F605F16F2/zense-time-proof/data\"\n",
    "selected_list = [\n",
    "    \"11r9vCZNTOFBbdLc\", \"11yDjZv111G8Yqrg\", \"12TI2zYnHQwpzvXM\", \"1mEucH35XZEPR1No\", \"1z0ItTSQlI2FBsaO\", \"13dgyvZJVO8mXcf2\", \"14hRKlstmOTUErDs\", \"14VAY0oZPq6R6OMC\", \n",
    "    \"14ZHv6vsMaPyVDfs\", \"17nMd3v1RGe4t1ay\", \"17O4RGh55B4WHNlA\", \"19eFPe5zcsXbJyCG\", \"19f32KRKAFk003GK\", \"1AuEodFWqudp6v8C\", \"1HG1gt5AVgSR6IBE\", \"1s52wcOoiJyJwADI\", \n",
    "    \"1tY2hIi5rSppmGSe\", \"1mQK7aQeB23XuFmq\", \"1ota5v2NmQhARHmq\", \"1Ps7E6lxoui3trHM\", \"1Q0P6Or4ruT2yeTw\", \"1xpl09xzvi6xZxNg\", \n",
    "]\n",
    "\n",
    "mk_dirs(base_dir, selected_list)"
   ]
  },
  {
   "cell_type": "code",
   "execution_count": null,
   "metadata": {},
   "outputs": [],
   "source": []
  },
  {
   "cell_type": "code",
   "execution_count": null,
   "metadata": {},
   "outputs": [],
   "source": [
    "# annotations_paths 에서 selected_list에 있는 것들을 data로 복사"
   ]
  },
  {
   "cell_type": "markdown",
   "metadata": {},
   "source": [
    "# measurement"
   ]
  },
  {
   "cell_type": "code",
   "execution_count": null,
   "metadata": {},
   "outputs": [],
   "source": []
  },
  {
   "cell_type": "markdown",
   "metadata": {},
   "source": [
    "# index"
   ]
  },
  {
   "cell_type": "code",
   "execution_count": null,
   "metadata": {},
   "outputs": [],
   "source": []
  }
 ],
 "metadata": {
  "kernelspec": {
   "display_name": "venv python3",
   "language": "python",
   "name": "python3"
  },
  "language_info": {
   "codemirror_mode": {
    "name": "ipython",
    "version": 3
   },
   "file_extension": ".py",
   "mimetype": "text/x-python",
   "name": "python",
   "nbconvert_exporter": "python",
   "pygments_lexer": "ipython3",
   "version": "3.6.3"
  }
 },
 "nbformat": 4,
 "nbformat_minor": 2
}
