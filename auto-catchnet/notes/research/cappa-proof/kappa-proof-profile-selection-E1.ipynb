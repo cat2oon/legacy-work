{
 "cells": [
  {
   "cell_type": "markdown",
   "metadata": {},
   "source": [
    "# Kappa Proof E01\n",
    "\n",
    "### 분석에 사용할 샘플 정의"
   ]
  },
  {
   "cell_type": "markdown",
   "metadata": {},
   "source": [
    "#### 1. vc-one 데이터셋 중 zense-time 레이블 된 항목들 추출"
   ]
  },
  {
   "cell_type": "code",
   "execution_count": 95,
   "metadata": {},
   "outputs": [],
   "source": [
    "import os\n",
    "import json\n",
    "import pandas as pd\n",
    "\n",
    "# 레이블 존재하는 경로들만 추출 \n",
    "annot_list_path = \"/media/chy/1326657F605F16F2/zense-time-proof/annot_json_list.json\"\n",
    "with open(annot_list_path) as json_data:\n",
    "    annot_list = json.load(json_data)\n",
    "\n",
    "# 경로들을 프로파일 pid 리스트로 변환\n",
    "annot_list = [p.replace(\"/ds/processed/annotation/\", \"\") for p in annot_list]\n",
    "annot_list = [p.split('/')[1] for p in annot_list]\n",
    "annot_list = sorted(annot_list)\n",
    "\n",
    "# 7000 프레임 이상의 프로파일들 pid만 추림\n",
    "df_ids = pd.DataFrame(annot_list)\n",
    "id_ranks = df_ids[0].value_counts()\n",
    "frame_threashold = 7000   \n",
    "candidates = id_ranks[id_ranks > frame_threashold]\n",
    "candidate_pids = pd.DataFrame(candidates.keys(), columns=[\"pid\"])\n",
    "\n",
    "def grep_dirs(base_path):\n",
    "    file_paths = [os.path.join(base_path, name) for name in os.listdir(base_path)]\n",
    "    return [p for p in file_paths if os.path.isdir(p)]\n",
    "\n",
    "# 애플 기종 프로파일 pid만 추림\n",
    "apple_vid_path = \"/media/chy/1326657F605F16F2/archived/vc-one-apple/completed\"\n",
    "dirs = grep_dirs(apple_vid_path)\n",
    "apple_pids = [p.split(\"/\")[-1] for p in dirs]\n",
    "apple_pids = pd.DataFrame(apple_pids, columns=['pid'])\n",
    "\n",
    "# 애플 기종 pid와 레이블링 된 pid 조인\n",
    "selected_pids = apple_pids.merge(candidate_pids, how=\"inner\")"
   ]
  },
  {
   "cell_type": "markdown",
   "metadata": {},
   "source": [
    "### 영상 직접 체크 추가 필터링 (제외 리스트)\n",
    "\n",
    "<br>\n",
    "\n",
    "- 11rkFSqqsKCPbc6C (안경)\n",
    "- 11XwwoJQYPRdJfm4 (집중 부족)\n",
    "- 1hHCeWneqhi57YCu (집중 부족 - 경로를 훑으면서 눈 이동)\n",
    "- 13qdpT7BXfVGWKaO (집중 부족)\n",
    "- 1gsoLbc3KzajkGZc (집중 부족 - 약간)\n",
    "- 1SgFsvUiBxopcep6 (강아지 난입)\n",
    "- 1q37NLalXy4IWRd2 (집중 부족)\n",
    "- 1zoE3AOqRjIx6M2i (집중 부족 - 시나리오 3)\n",
    "- 1zyLnsYNKKqnTuxk (안경)\n",
    "- 20LgH3W5RAir6TSa (안경)\n",
    "- 20LnDWRb5H8zHTQu (안경)\n",
    "- 20LTFvmFqjBMGqlE (집중 부족)\n",
    "\n",
    "<br> \n",
    "\n",
    "##### 특이 포함 \n",
    "- 11urPewaY8QRFvH6 (회전 어려운 레벨)\n",
    "- 19eFPe5zcsXbJyCG (회전 어려운 레벨)\n",
    "- 1HG1gt5AVgSR6IBE (누움 눈 작게 보임)\n",
    "- 1s52wcOoiJyJwADI (거리 상당히 멈)\n",
    "- 1jhoABR7C1USCWyO (눈이 상당히 작음)\n"
   ]
  },
  {
   "cell_type": "code",
   "execution_count": 106,
   "metadata": {},
   "outputs": [
    {
     "name": "stdout",
     "output_type": "stream",
     "text": [
      "22\n"
     ]
    }
   ],
   "source": [
    "selected_list = {\n",
    "    \"11r9vCZNTOFBbdLc\", \"11yDjZv111G8Yqrg\", \"12TI2zYnHQwpzvXM\", \"1mEucH35XZEPR1No\",\n",
    "    \"1z0ItTSQlI2FBsaO\", \"13dgyvZJVO8mXcf2\", \"14hRKlstmOTUErDs\", \"14VAY0oZPq6R6OMC\", \n",
    "    \"14ZHv6vsMaPyVDfs\", \"17nMd3v1RGe4t1ay\", \"17O4RGh55B4WHNlA\", \"19eFPe5zcsXbJyCG\", \n",
    "    \"19f32KRKAFk003GK\", \"1AuEodFWqudp6v8C\", \"1HG1gt5AVgSR6IBE\", \"1s52wcOoiJyJwADI\", \n",
    "    \"1tY2hIi5rSppmGSe\", \"1mQK7aQeB23XuFmq\", \"1ota5v2NmQhARHmq\", \"1Ps7E6lxoui3trHM\",\n",
    "    \"1Q0P6Or4ruT2yeTw\", \"1xpl09xzvi6xZxNg\", \n",
    "}\n",
    "print(len(selected_list))"
   ]
  }
 ],
 "metadata": {
  "kernelspec": {
   "display_name": "venv python3",
   "language": "python",
   "name": "python3"
  },
  "language_info": {
   "codemirror_mode": {
    "name": "ipython",
    "version": 3
   },
   "file_extension": ".py",
   "mimetype": "text/x-python",
   "name": "python",
   "nbconvert_exporter": "python",
   "pygments_lexer": "ipython3",
   "version": "3.6.3"
  }
 },
 "nbformat": 4,
 "nbformat_minor": 2
}
