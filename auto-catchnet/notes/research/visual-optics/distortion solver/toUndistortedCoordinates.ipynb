{
 "cells": [
  {
   "cell_type": "code",
   "execution_count": 45,
   "metadata": {},
   "outputs": [],
   "source": [
    "from mpmath import sqrt\n",
    "from sympy.solvers import solve, linsolve\n",
    "from sympy import Symbol, Eq, symbols"
   ]
  },
  {
   "cell_type": "code",
   "execution_count": 59,
   "metadata": {},
   "outputs": [],
   "source": [
    "# k1, k2 = 0.0995, 0.198\n",
    "# p1, p2 = 0.0119, 0.00019\n",
    "\n",
    "r = Symbol('r')\n",
    "x, y, xd, yd = symbols('x, y, xd, yd')\n",
    "k1, k2, p1, p2 = symbols('k1, k2, p1, p2')\n",
    "\n",
    "eq_r = Eq(r**2,  x**2+y**2)\n",
    "eq_xd = Eq(xd, (1 + (k1 * r**2) + (k2 * r**4))*x + 2*p1*x*y + p2*(r**2 + 2*x**2))\n",
    "eq_yd = Eq(yd, (1 + (k1 * r**2) + (k2 * r**4))*y + 2*p2*x*y + p1*(r**2 + 2*y**2))"
   ]
  },
  {
   "cell_type": "code",
   "execution_count": 61,
   "metadata": {},
   "outputs": [
    {
     "data": {
      "text/plain": [
       "[((p2*r**2 - xd)*(-(p1*r**2 - yd)*(k1*r**2 + k2*r**4 + 1)/(4*(p1**2*r**2 - p1*yd + p2**2*r**2 - p2*xd)) - (p1*r**2 - yd)*sqrt(k1**2*r**4 + 2*k1*k2*r**6 + 2*k1*r**2 + k2**2*r**8 + 2*k2*r**4 - 8*p1**2*r**2 + 8*p1*yd - 8*p2**2*r**2 + 8*p2*xd + 1)/(4*(p1**2*r**2 - p1*yd + p2**2*r**2 - p2*xd)))/(p1*r**2 - yd),\n",
       "  -(p1*r**2 - yd)*(k1*r**2 + k2*r**4 + 1)/(4*(p1**2*r**2 - p1*yd + p2**2*r**2 - p2*xd)) - (p1*r**2 - yd)*sqrt(k1**2*r**4 + 2*k1*k2*r**6 + 2*k1*r**2 + k2**2*r**8 + 2*k2*r**4 - 8*p1**2*r**2 + 8*p1*yd - 8*p2**2*r**2 + 8*p2*xd + 1)/(4*(p1**2*r**2 - p1*yd + p2**2*r**2 - p2*xd))),\n",
       " ((p2*r**2 - xd)*(-(p1*r**2 - yd)*(k1*r**2 + k2*r**4 + 1)/(4*(p1**2*r**2 - p1*yd + p2**2*r**2 - p2*xd)) + (p1*r**2 - yd)*sqrt(k1**2*r**4 + 2*k1*k2*r**6 + 2*k1*r**2 + k2**2*r**8 + 2*k2*r**4 - 8*p1**2*r**2 + 8*p1*yd - 8*p2**2*r**2 + 8*p2*xd + 1)/(4*(p1**2*r**2 - p1*yd + p2**2*r**2 - p2*xd)))/(p1*r**2 - yd),\n",
       "  -(p1*r**2 - yd)*(k1*r**2 + k2*r**4 + 1)/(4*(p1**2*r**2 - p1*yd + p2**2*r**2 - p2*xd)) + (p1*r**2 - yd)*sqrt(k1**2*r**4 + 2*k1*k2*r**6 + 2*k1*r**2 + k2**2*r**8 + 2*k2*r**4 - 8*p1**2*r**2 + 8*p1*yd - 8*p2**2*r**2 + 8*p2*xd + 1)/(4*(p1**2*r**2 - p1*yd + p2**2*r**2 - p2*xd)))]"
      ]
     },
     "execution_count": 61,
     "metadata": {},
     "output_type": "execute_result"
    }
   ],
   "source": [
    "solve([eq_xd, eq_yd], (x, y))"
   ]
  }
 ],
 "metadata": {
  "kernelspec": {
   "display_name": "venv python3",
   "language": "python",
   "name": "python3"
  },
  "language_info": {
   "codemirror_mode": {
    "name": "ipython",
    "version": 3
   },
   "file_extension": ".py",
   "mimetype": "text/x-python",
   "name": "python",
   "nbconvert_exporter": "python",
   "pygments_lexer": "ipython3",
   "version": "3.6.3"
  }
 },
 "nbformat": 4,
 "nbformat_minor": 2
}
