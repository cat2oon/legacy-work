{
 "cells": [
  {
   "cell_type": "markdown",
   "metadata": {},
   "source": [
    "# Camera Calibration w/ distortion coefficient\n",
    "\n"
   ]
  },
  {
   "cell_type": "markdown",
   "metadata": {},
   "source": [
    "# import"
   ]
  },
  {
   "cell_type": "code",
   "execution_count": 1,
   "metadata": {},
   "outputs": [],
   "source": [
    "import sys\n",
    "import numpy as np\n",
    "import matplotlib.pyplot as plt\n",
    "\n",
    "%matplotlib inline"
   ]
  },
  {
   "cell_type": "code",
   "execution_count": 21,
   "metadata": {},
   "outputs": [
    {
     "data": {
      "text/plain": [
       "<Figure size 432x288 with 0 Axes>"
      ]
     },
     "metadata": {},
     "output_type": "display_data"
    }
   ],
   "source": [
    "sys.path.append(\"../../../\")\n",
    "\n",
    "%run ../../../ac/math/angles.py\n",
    "%run ../../../ac/visualizer/plotter.py\n",
    "%run ../../../al/optics/projection.py\n",
    "%run ../../../al/optics/calibration.py\n",
    "%run ../../../al/optics/parameter.py"
   ]
  },
  {
   "cell_type": "code",
   "execution_count": 6,
   "metadata": {},
   "outputs": [],
   "source": [
    "np.set_printoptions(precision=4)\n",
    "np.set_printoptions(suppress=True)"
   ]
  },
  {
   "cell_type": "markdown",
   "metadata": {},
   "source": [
    "# Calibration Reference\n",
    "\n",
    "<br>\n",
    "\n",
    "- [OpenCV 캘리브레이션 레퍼런스](https://docs.opencv.org/2.4/modules/calib3d/doc/camera_calibration_and_3d_reconstruction.html)\n",
    "- [위키 - 카메라 해부 px/mm ](https://en.wikipedia.org/wiki/Camera_resectioning)\n",
    "- [OpenCV Tutorial Git](https://github.com/opencv/opencv/blob/master/samples/python/calibrate.py)\n",
    "\n",
    "# Undistorted\n",
    "\n",
    "<br>\n",
    "\n",
    "- [Why we use getOptimalNewCameraMatrix](http://answers.opencv.org/question/101398/what-does-the-getoptimalnewcameramatrix-function-does/)\n",
    "- 디바이스 렌즈 인스턴스 별로 radial distortion 계수는 같은지 체크\n",
    "\n",
    "<br>\n"
   ]
  },
  {
   "cell_type": "markdown",
   "metadata": {},
   "source": [
    "# Calibration Nexus-5x \n",
    "\n",
    "### 참고 \n",
    "- resolution 마다 Intrinsic Parameter와 distortion coefficients가 다르다.\n",
    "- 이론적으로는 왜곡 계수는 해상도와 무관하다. [5절 참고](http://darkpgmr.tistory.com/32)\n",
    "- 기하 계산을 위해서는 오토 포커싱은 꺼놓고 진행해야 한다\n",
    "- 주점(cx, cy)이 실제 값보다 절반으로 나오는 현상 해결법 - 캘리할 때 다양한 각도의 이미지가 더 필요\n",
    "\n",
    "<br>\n",
    "\n",
    "### Nexus-5x 후면 카메라\n",
    "\n",
    "\n",
    "|resolution|fx|cx|fy|cy|k1|k2|p1|p2|k3|\n",
    "|---|---|---|---|---|---|---|---|---|---|\n",
    "|1200x1600|1221|598.071|1222|804.72|0.136|-0.555|0.0047|0.0003|0.3525|\n",
    "|3024x4032|2685|1848|2690|2007|-0.37|3.589|-0.022| 0.01|-9.69|\n",
    "\n",
    "<br>\n",
    "\n",
    "### Nexus-5x 전면 카메라\n",
    "\n",
    "|resolution|fx|cx|fy|cy|k1|k2|p1|p2|k3|\n",
    "|---|---|---|---|---|---|---|---|---|---|\n",
    "|1920x1080|1433.4389|587.7184|1437.476|604.914|-0.4355|0.6174|-0.0008|-0.0049|-0.3697|\n",
    "|1080x720|946.2767|612.9987|950.3305|326.0792|0.0438|-0.6156|-0.0125|-0.004|0.5669|\n",
    "\n",
    "<br>"
   ]
  },
  {
   "cell_type": "code",
   "execution_count": 14,
   "metadata": {},
   "outputs": [],
   "source": [
    "base_path = \"/home/chy/dev-bench/auto-catch/notes/research/visual-optics/samples/{}\""
   ]
  },
  {
   "cell_type": "code",
   "execution_count": 30,
   "metadata": {
    "scrolled": true
   },
   "outputs": [
    {
     "name": "stdout",
     "output_type": "stream",
     "text": [
      "1920x1080 param:\n",
      "[[1433.4389    0.      587.7184]\n",
      " [   0.     1437.476   604.914 ]\n",
      " [   0.        0.        1.    ]]\n",
      "1920x1080 distortion coef:\n",
      "[[-0.4355  0.6174 -0.0008 -0.0049 -0.3697]]\n"
     ]
    }
   ],
   "source": [
    "sample_path = base_path.format(\"nexus-5x-front-1920-1080/\")\n",
    "camera_mat, distort_coefs, _, _, imgs = calibration(sample_path, 7, 5, True)\n",
    "print(\"1920x1080 param:\\n{}\".format(camera_mat))\n",
    "print(\"1920x1080 distortion coef:\\n{}\".format(distort_coefs))"
   ]
  },
  {
   "cell_type": "code",
   "execution_count": 31,
   "metadata": {
    "scrolled": true
   },
   "outputs": [
    {
     "name": "stdout",
     "output_type": "stream",
     "text": [
      "1080x720 param:\n",
      "[[946.2767   0.     612.9987]\n",
      " [  0.     950.3305 326.0792]\n",
      " [  0.       0.       1.    ]]\n",
      "1080x720 distortion coef:\n",
      "[[-0.4355  0.6174 -0.0008 -0.0049 -0.3697]]\n"
     ]
    }
   ],
   "source": [
    "# 1280 x 720???\n",
    "sample_path = base_path.format(\"nexus-5x-front-1080-720/\")\n",
    "camera_mat, _, _, _, imgs = calibration(sample_path, 7, 5, True)\n",
    "print(\"1080x720 param:\\n{}\".format(camera_mat))\n",
    "print(\"1080x720 distortion coef:\\n{}\".format(distort_coefs))"
   ]
  }
 ],
 "metadata": {
  "kernelspec": {
   "display_name": "venv python3",
   "language": "python",
   "name": "python3"
  },
  "language_info": {
   "codemirror_mode": {
    "name": "ipython",
    "version": 3
   },
   "file_extension": ".py",
   "mimetype": "text/x-python",
   "name": "python",
   "nbconvert_exporter": "python",
   "pygments_lexer": "ipython3",
   "version": "3.6.3"
  }
 },
 "nbformat": 4,
 "nbformat_minor": 2
}
