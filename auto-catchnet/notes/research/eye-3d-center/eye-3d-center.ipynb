{
 "cells": [
  {
   "cell_type": "markdown",
   "metadata": {},
   "source": [
    "# eye center model"
   ]
  },
  {
   "cell_type": "code",
   "execution_count": 1,
   "metadata": {},
   "outputs": [],
   "source": [
    "import sys\n",
    "import math \n",
    "import warnings\n",
    "sqrt = math.sqrt\n",
    "\n",
    "def load_modules():\n",
    "    sys.path.append(\"../../../\")\n",
    "    %run ../../../ac/visualizer/plotter.py\n",
    "    %run ../../../ac/images/filters/filters.py\n",
    "    %run ../../../ac/common/nps.py\n",
    "    %run ../../../al/maths/angles.py\n",
    "    %run ../../../al/maths/linalg/rotations.py\n",
    "    %run ../../../al/actor/camera.py\n",
    "    %run ../../../al/optics/rays/plane.py\n",
    "    %run ../../../al/model/eye/eyeball.py\n",
    "    %run ../../../al/model/gaze/item.py\n",
    "    %run ../../../ds/device/nexus5x.py\n",
    "    warnings.filterwarnings(\"ignore\")\n",
    "    np.set_printoptions(precision=6, suppress=True)\n",
    "\n",
    "load_modules()\n",
    "this_path = \"/home/chy/dev-bench/auto-catch/notes/research/eye-3d-center/\"\n",
    "\n",
    "def get_img(src, filename):\n",
    "    path = \"{}/{}/{}.jpg\".format(this_path, src, filename)\n",
    "    img = cv2.imread(path)\n",
    "    img = bgr_to_rgb(img)\n",
    "    return img"
   ]
  },
  {
   "cell_type": "markdown",
   "metadata": {},
   "source": [
    "# real scenario\n",
    "\n",
    "<br>\n",
    "\n",
    "#### - 이미지 좌우 반전 여부를 카메라 좌표계 기준으로 확인 할 것!\n",
    "\n",
    "<br>\n",
    "\n",
    "## 이미지 파일명\n",
    "#### - A: 렌즈 정면\n",
    "#### - B: P 포인트, Nexus 스크린 우상단 지점 (56, 9, 0)\n",
    "#### - P1: 캘리브레이션 1\n",
    "#### - P2: 캘리브레이션 2\n",
    "\n",
    "<br>\n",
    "\n",
    "## 좌표 지점명\n",
    "#### - O: 카메라 원점\n",
    "#### - E: 안구 3차원 중심\n",
    "#### - I: P 포인트 응시 이미지에서 IRIS CENTER NORMAL VEC\n",
    "#### - P: P 포인트 "
   ]
  },
  {
   "cell_type": "code",
   "execution_count": 2,
   "metadata": {},
   "outputs": [],
   "source": [
    "img_a = get_img(\"center\", \"A\")\n",
    "img_b = get_img(\"center\", \"B\") \n",
    "img_p1 = get_img(\"center\", \"P1-EYE\")\n",
    "img_p2 = get_img(\"center\", \"P2-EYE\")\n",
    "\n",
    "img_ca = get_img(\"center-30\", \"A\")\n",
    "img_cb = get_img(\"center-30\", \"B\")\n",
    "img_cc = get_img(\"center-30\", \"C\")\n",
    "img_cd = get_img(\"center-30\", \"D\")\n",
    "img_ce = get_img(\"center-30\", \"E\")\n",
    "\n",
    "# show_image(img_p1, fig_size=(4, 4))\n",
    "# show_image(img_p2, fig_size=(4, 4))"
   ]
  },
  {
   "cell_type": "markdown",
   "metadata": {},
   "source": [
    "# compute rough eye-ball (center-30 profile)\n",
    "\n",
    "\n",
    "| P | px | py | x | y | comment |\n",
    "|---|---|---|---|---|---|\n",
    "| A | 342 | 627 | 0  |  0   | 렌즈 |\n",
    "| B | 330 | 624 | -55 | 9   | 우상 |\n",
    "| C | 330 | 627 | -55 | 68  | 우중 |\n",
    "| D | 330 | 632 | -55 | 125 | 우하 |\n",
    "|---|---|---|---|---|---|\n",
    "| E | 333 | 632 | -23 | 125 | 중하 |\n",
    "| F | 333 | 627 | -23 | 68  | 중중 |\n",
    "| G | 333 | 619 | -23 | 9   | 중상 |\n",
    "|---|---|---|---|---|---|\n",
    "| H | 336 | 619 | 10  | 9   | 좌상 |\n",
    "| I | 336 | 623 | 10  | 68  | 좌중 |\n",
    "| J | 336 | 632 | 10  | 125 | 좌하 |\n"
   ]
  },
  {
   "cell_type": "code",
   "execution_count": 3,
   "metadata": {},
   "outputs": [],
   "source": [
    "cam = Camera.from_nexus_5x()\n",
    "GazeItem.set_camera(cam)"
   ]
  },
  {
   "cell_type": "code",
   "execution_count": 4,
   "metadata": {},
   "outputs": [],
   "source": [
    "def g_item(name, camera=cam):\n",
    "    cali_points = {\n",
    "        \"A\" : (342, 627,  0,    0),\n",
    "        \"B\" : (330, 619, -55,   9),\n",
    "        \"C\" : (330, 627, -55,  68),\n",
    "        \"D\" : (330, 632, -55, 125),\n",
    "        \"E\" : (333, 632, -23, 125),\n",
    "        \"F\" : (333, 627, -23,  68),\n",
    "        \"G\" : (333, 619, -23,   9),\n",
    "        \"H\" : (336, 619, 10,    9),\n",
    "        \"I\" : (336, 623, 10,   68),\n",
    "        \"J\" : (336, 632, 10,  125),\n",
    "    }\n",
    "    \n",
    "    px, py, tx, ty = cali_points[name.upper()]\n",
    "    return GazeItem(tx, ty, px, py)"
   ]
  },
  {
   "cell_type": "code",
   "execution_count": 5,
   "metadata": {},
   "outputs": [],
   "source": [
    "ccs = {}\n",
    "for c in \"abcdefghij\":\n",
    "     ccs[c] = g_item(c)"
   ]
  },
  {
   "cell_type": "code",
   "execution_count": 6,
   "metadata": {
    "scrolled": true
   },
   "outputs": [
    {
     "name": "stdout",
     "output_type": "stream",
     "text": [
      "      fun: 263.1864059229083\n",
      " hess_inv: <3x3 LbfgsInvHessProduct with dtype=float64>\n",
      "      jac: array([-0.013756, -0.004786,  0.006901])\n",
      "  message: b'CONVERGENCE: REL_REDUCTION_OF_F_<=_FACTR*EPSMCH'\n",
      "     nfev: 92\n",
      "      nit: 17\n",
      "   status: 0\n",
      "  success: True\n",
      "        x: array([  3.232285,   1.854559, 318.752601])\n"
     ]
    }
   ],
   "source": [
    "eye = EyeballModel()\n",
    "\n",
    "for c in \"bcdhj\":\n",
    "    eye.add_calibration(ccs[c])\n",
    "    \n",
    "eye.optimize_eyeball_params()"
   ]
  },
  {
   "cell_type": "markdown",
   "metadata": {},
   "source": [
    "# compute rough eye-ball (c20 profile)\n",
    "\n",
    "\n",
    "| P | px | py | x | y | comment |\n",
    "|---|---|---|---|---|---|\n",
    "| 0 |-| 좌상 |\n",
    "| 1 |-| 중상 |\n",
    "| 2 |-| 우상 |\n",
    "| 3 |-| 우중 |\n",
    "| 4 |-| 우하 |\n",
    "| 5 |-| 중하 |\n",
    "| 6 |-| 좌하 |\n",
    "| 7 |-| 좌중 |\n",
    "| 8 |-| 좌상 |\n",
    "| 9 |-| 중중 |"
   ]
  },
  {
   "cell_type": "markdown",
   "metadata": {},
   "source": [
    "# Notice\n",
    "\n",
    "#### [125mm 기준] 안경 (8 ~ 13px) / NO 안경 (19 ~ 27px)\n",
    "#### 이 기준으로는 가장 최적이 4.5 mm 한계로 보임\n",
    "#### 현재 이미지는 렌즈 중점에 한정됨"
   ]
  },
  {
   "cell_type": "code",
   "execution_count": 7,
   "metadata": {},
   "outputs": [],
   "source": [
    "def g_item(idx):\n",
    "    cali_points = {\n",
    "        0 : (445, 650,  10,   9),\n",
    "        1 : (440, 650, -23,   9),\n",
    "        2 : (430, 651, -55,   9),\n",
    "        3 : (432, 660, -55,  68),\n",
    "        4 : (432, 672, -55, 125),\n",
    "        5 : (440, 670, -23, 125),\n",
    "        6 : (458, 670,  10, 125),\n",
    "        7 : (465, 658,  10,  68),\n",
    "        8 : (466, 643,  10,   9),\n",
    "        9 : (458, 647, -23, 68),\n",
    "    }\n",
    "    \n",
    "    px, py, tx, ty = cali_points[idx]\n",
    "    return GazeItem(tx, ty, px, py)"
   ]
  },
  {
   "cell_type": "code",
   "execution_count": 8,
   "metadata": {},
   "outputs": [
    {
     "name": "stdout",
     "output_type": "stream",
     "text": [
      "      fun: 1991652133\n",
      " hess_inv: <3x3 LbfgsInvHessProduct with dtype=float64>\n",
      "      jac: array([0., 0., 0.])\n",
      "  message: b'CONVERGENCE: NORM_OF_PROJECTED_GRADIENT_<=_PGTOL'\n",
      "     nfev: 4\n",
      "      nit: 0\n",
      "   status: 0\n",
      "  success: True\n",
      "        x: array([  0.,   0., 200.])\n"
     ]
    }
   ],
   "source": [
    "eye = EyeballModel()\n",
    "\n",
    "ccs = {}\n",
    "for c in range(0, 10):\n",
    "    ccs[c] = g_item(c)\n",
    "for c in [0, 1, 2, 3, 4, 5, 6, 7, 8, 9]:\n",
    "    eye.add_calibration(ccs[c])\n",
    "    \n",
    "eye.optimize_eyeball_params()"
   ]
  },
  {
   "cell_type": "markdown",
   "metadata": {},
   "source": [
    "# 최적화 검증"
   ]
  },
  {
   "cell_type": "code",
   "execution_count": 9,
   "metadata": {},
   "outputs": [
    {
     "data": {
      "text/plain": [
       "1991652133"
      ]
     },
     "execution_count": 9,
     "metadata": {},
     "output_type": "execute_result"
    }
   ],
   "source": [
    "E, r = np.array([3.016846,   1.601401, 299.095428]), 12.020592\n",
    "eye.compute_optical_error(E, r)"
   ]
  },
  {
   "cell_type": "code",
   "execution_count": 10,
   "metadata": {},
   "outputs": [
    {
     "name": "stdout",
     "output_type": "stream",
     "text": [
      "*** NORM: 14128.700612582885 ***\n"
     ]
    }
   ],
   "source": [
    "# eye.estimate_gaze_point(g_item(\"i\").get_oc_vec())\n",
    "g_item(0).evaluate(eye)"
   ]
  },
  {
   "cell_type": "markdown",
   "metadata": {},
   "source": [
    "# eyeball sphere center mock scenario\n",
    "\n",
    "<br>\n",
    "\n",
    "### 2차원 상의 가상 시나리오 \n",
    "- www.desmos.com/calculator/6j8jcbmpa2\n",
    "- OE 60mm, z(OB) 51mm / x(OB) -9mm, P = -60mm"
   ]
  },
  {
   "cell_type": "code",
   "execution_count": 11,
   "metadata": {
    "scrolled": true
   },
   "outputs": [],
   "source": [
    "# cam = Camera.from_nexus_5x()\n",
    "# eye = EyeballModel()\n",
    "\n",
    "# # OE 60mm, z(OB) 51mm / x(OB) -9mm, P = -60mm\n",
    "# vec_oe = np.array([0, 0, 1])\n",
    "# vec_oi = np.array([9/sqrt(2581), 0, 50/sqrt(2581)])\n",
    "# vec_op = np.array([60, 0, 0])\n",
    "\n",
    "# eye.set_center_vector(vec_oe, vec_oi, vec_op)\n",
    "# eye.stage1()"
   ]
  },
  {
   "cell_type": "markdown",
   "metadata": {},
   "source": [
    "# eyeball sphere iris center mock scenario\n",
    "\n",
    "<br>\n",
    "\n",
    "- E : 안구 중심 3d pos\n",
    "- ER : 안구 반지름\n",
    "- C11, C12 : 홍채 경계 점1, 점2\n",
    "- C : 홍채 중심 3d pos (depth 제외)\n",
    "- CR : 홍채 disk 반지름"
   ]
  },
  {
   "cell_type": "code",
   "execution_count": 12,
   "metadata": {},
   "outputs": [],
   "source": [
    "# cos = lambda x: np.cos(np.deg2rad(x))\n",
    "# sin = lambda x: np.sin(np.deg2rad(x))\n",
    "\n",
    "# ER = 13\n",
    "# E = (0, 0, 60)    \n",
    "\n",
    "# c11 = np.array([ER*cos(230), ER*sin(230)])\n",
    "# c12 = np.array([ER*cos(280), ER*sin(280)])\n",
    "# C = (c11 + c12) / 2\n",
    "# CR = np.linalg.norm(c11 - c12) / 2\n",
    "\n",
    "# print(E, ER, c11, c12, C, CR)\n",
    "# eye.estimate_iris_center_depth(E, ER, C, CR)"
   ]
  }
 ],
 "metadata": {
  "kernelspec": {
   "display_name": "venv python3",
   "language": "python",
   "name": "python3"
  },
  "language_info": {
   "codemirror_mode": {
    "name": "ipython",
    "version": 3
   },
   "file_extension": ".py",
   "mimetype": "text/x-python",
   "name": "python",
   "nbconvert_exporter": "python",
   "pygments_lexer": "ipython3",
   "version": "3.6.3"
  }
 },
 "nbformat": 4,
 "nbformat_minor": 2
}
