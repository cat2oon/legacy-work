{
 "cells": [
  {
   "cell_type": "markdown",
   "metadata": {},
   "source": [
    "# loss 발생 원인 탐색"
   ]
  },
  {
   "cell_type": "code",
   "execution_count": 1,
   "metadata": {},
   "outputs": [],
   "source": [
    "import sys\n",
    "import math\n",
    "import faiss\n",
    "import numpy as np\n",
    "import pandas as pd\n",
    "import matplotlib\n",
    "import matplotlib.pyplot as plt\n",
    "from IPython.display import display\n",
    "\n",
    "%matplotlib inline"
   ]
  },
  {
   "cell_type": "markdown",
   "metadata": {},
   "source": [
    "# number print option"
   ]
  },
  {
   "cell_type": "code",
   "execution_count": 2,
   "metadata": {},
   "outputs": [],
   "source": [
    "# np.set_printoptions(threshold=np.nan)\n",
    "np.set_printoptions(suppress=True)\n",
    "pd.options.display.float_format = '{:20,.2f}'.format"
   ]
  },
  {
   "cell_type": "markdown",
   "metadata": {},
   "source": [
    "# origin meta loader"
   ]
  },
  {
   "cell_type": "code",
   "execution_count": 6,
   "metadata": {},
   "outputs": [],
   "source": [
    "sys.path.append(\"../../\")\n",
    "%run ../../ai/common/imports.py\n",
    "%run ../../ai/dataset/everyone/npz/meta_loader.py"
   ]
  },
  {
   "cell_type": "code",
   "execution_count": 7,
   "metadata": {
    "scrolled": false
   },
   "outputs": [
    {
     "name": "stdout",
     "output_type": "stream",
     "text": [
      "load npz blocks num: 2912\n",
      "loading blocks[0] ...\n",
      "loading blocks[100] ...\n",
      "loading blocks[200] ...\n",
      "loading blocks[300] ...\n",
      "loading blocks[400] ...\n",
      "loading blocks[500] ...\n",
      "loading blocks[600] ...\n",
      "loading blocks[700] ...\n",
      "loading blocks[800] ...\n",
      "loading blocks[900] ...\n",
      "loading blocks[1000] ...\n",
      "loading blocks[1100] ...\n",
      "loading blocks[1200] ...\n",
      "loading blocks[1300] ...\n",
      "loading blocks[1400] ...\n",
      "loading blocks[1500] ...\n",
      "loading blocks[1600] ...\n",
      "loading blocks[1700] ...\n",
      "loading blocks[1800] ...\n",
      "loading blocks[1900] ...\n",
      "loading blocks[2000] ...\n",
      "loading blocks[2100] ...\n",
      "loading blocks[2200] ...\n",
      "loading blocks[2300] ...\n",
      "loading blocks[2400] ...\n",
      "loading blocks[2500] ...\n",
      "loading blocks[2600] ...\n",
      "loading blocks[2700] ...\n",
      "loading blocks[2800] ...\n",
      "loading blocks[2900] ...\n",
      "total item-indexes: 1490937\n",
      "\n"
     ]
    }
   ],
   "source": [
    "ar = MetaLoader(\"/home/chy/archive-data/processed/everyone-npz/\", \"*\")\n",
    "ar.load()"
   ]
  },
  {
   "cell_type": "markdown",
   "metadata": {},
   "source": [
    "# show frame image"
   ]
  },
  {
   "cell_type": "code",
   "execution_count": null,
   "metadata": {},
   "outputs": [],
   "source": [
    "def show_items(items, figsize=(25,25)):\n",
    "    matplotlib.rcParams['figure.figsize'] = [4, 4]\n",
    "    fig = plt.figure(figsize=figsize)\n",
    "    fig.subplots_adjust(hspace=0.4, wspace=0.4)\n",
    "    nrows, ncols = len(items), 1\n",
    "\n",
    "    for i, uid in enumerate(items):\n",
    "        item = items[uid]\n",
    "        so = item.orientation\n",
    "        face = item.image_face[:,:,::-1]\n",
    "        frame = item.image_frame[:,:,::-1]\n",
    "        device = item.device\n",
    "        \n",
    "        ax = fig.add_subplot(nrows, ncols, i+1)\n",
    "        plt.imshow(frame)\n",
    "        ax.set_title(device + \" / so:\" + so)\n",
    "        ax.set_aspect('equal')\n",
    "        ax.axis('off')\n",
    "\n",
    "    plt.show()"
   ]
  },
  {
   "cell_type": "markdown",
   "metadata": {},
   "source": [
    "# Search Query"
   ]
  },
  {
   "cell_type": "code",
   "execution_count": 20,
   "metadata": {},
   "outputs": [
    {
     "data": {
      "text/plain": [
       "'/home/chy/archive-data/datasets/eyes/everyone-origin/01713/frames/02275.jpg'"
      ]
     },
     "execution_count": 20,
     "metadata": {},
     "output_type": "execute_result"
    }
   ],
   "source": [
    "x = ar.get_all([1213238])\n",
    "x['1213238'].path_frame"
   ]
  },
  {
   "cell_type": "markdown",
   "metadata": {},
   "source": [
    "# select attr origin ds"
   ]
  },
  {
   "cell_type": "code",
   "execution_count": 9,
   "metadata": {},
   "outputs": [],
   "source": [
    "origin_ds = []\n",
    "for k,v in ar.archive.items():\n",
    "    uid = int(v.uid)\n",
    "    cx = round(float(v.camera_x), 2)\n",
    "    cy = round(float(v.camera_y), 2)\n",
    "    so = int(v.orientation)\n",
    "    pad = bool(v.is_pad())\n",
    "    \n",
    "    origin_ds.append({\n",
    "        \"uid\": uid,\n",
    "        \"so\": so,\n",
    "        \"cx\": cx, \n",
    "        \"cy\": cy,\n",
    "        \"pad\":pad\n",
    "    })"
   ]
  },
  {
   "cell_type": "markdown",
   "metadata": {},
   "source": [
    "# helpers ODF"
   ]
  },
  {
   "cell_type": "code",
   "execution_count": null,
   "metadata": {},
   "outputs": [],
   "source": [
    "def split_orientation_wise(df):\n",
    "    df_sos = [[]] * 5\n",
    "    for i in range(1,5):\n",
    "        df_sos[i] = df[df.so == i]\n",
    "    return df_sos\n",
    "\n",
    "def describe_df(df_sos, selector=None, exclude=['uid', 'epoch', 'so']):\n",
    "    for i in range(1,5):\n",
    "        t = df_sos[i]\n",
    "        if selector is not None:\n",
    "            t = selector(t)\n",
    "        t = t.drop(exclude, axis=1)\n",
    "        display(t.describe(include=\"all\"))\n",
    "        \n",
    "def hist_df(df_sos, bins=128, figsize=(10,5), rng=(-10, 10), selector=None):\n",
    "    for i in range(1,5):\n",
    "        t = df_sos[i]\n",
    "        if selector is not None:\n",
    "            t = selector(t)\n",
    "        t.hist(bins=bins, figsize=figsize, range=rng)"
   ]
  },
  {
   "cell_type": "markdown",
   "metadata": {},
   "source": [
    "***\n",
    "# origin dataset to data-frame (ODF)\n",
    "***"
   ]
  },
  {
   "cell_type": "code",
   "execution_count": null,
   "metadata": {
    "scrolled": true
   },
   "outputs": [],
   "source": [
    "odf = pd.DataFrame(origin_ds)\n",
    "odf_sos = split_orientation_wise(odf)"
   ]
  },
  {
   "cell_type": "markdown",
   "metadata": {},
   "source": [
    "# visualize ODF"
   ]
  },
  {
   "cell_type": "code",
   "execution_count": null,
   "metadata": {
    "scrolled": true
   },
   "outputs": [],
   "source": [
    "describe_df(odf_sos)"
   ]
  },
  {
   "cell_type": "code",
   "execution_count": null,
   "metadata": {
    "scrolled": false
   },
   "outputs": [],
   "source": [
    "hist_df(odf_sos)"
   ]
  },
  {
   "cell_type": "markdown",
   "metadata": {},
   "source": [
    "*** \n",
    "# load training data frame (TDF)\n",
    "***"
   ]
  },
  {
   "cell_type": "code",
   "execution_count": null,
   "metadata": {},
   "outputs": [],
   "source": [
    "tdf = pd.read_csv('/home/chy/dev-bench/auto-history/8c-48f-p-2-5-8-dyn-fc-512-128-1.auto')\n",
    "tdf.epoch = tdf.astype({\"epoch\":int})"
   ]
  },
  {
   "cell_type": "markdown",
   "metadata": {},
   "source": [
    "# compute metrics"
   ]
  },
  {
   "cell_type": "code",
   "execution_count": null,
   "metadata": {},
   "outputs": [],
   "source": [
    "tdf['dist'] = np.linalg.norm(tdf[['px', 'py']].values - tdf[['cx','cy']].values, axis=1)\n",
    "tdf_sos = split_orientation_wise(tdf)"
   ]
  },
  {
   "cell_type": "markdown",
   "metadata": {},
   "source": [
    "# visualize TDF"
   ]
  },
  {
   "cell_type": "code",
   "execution_count": null,
   "metadata": {},
   "outputs": [],
   "source": [
    "describe_df(tdf_sos, selector=lambda tdf: tdf[tdf.epoch==0])"
   ]
  },
  {
   "cell_type": "code",
   "execution_count": null,
   "metadata": {
    "scrolled": false
   },
   "outputs": [],
   "source": [
    "describe_df(tdf_sos, selector=lambda tdf: tdf[tdf.epoch==1])"
   ]
  },
  {
   "cell_type": "code",
   "execution_count": null,
   "metadata": {
    "scrolled": false
   },
   "outputs": [],
   "source": [
    "describe_df(tdf_sos, selector=lambda tdf: tdf[tdf.epoch==2])"
   ]
  },
  {
   "cell_type": "code",
   "execution_count": null,
   "metadata": {},
   "outputs": [],
   "source": [
    "def sel_cam_epoch(t, epoch):\n",
    "    t = t[t.epoch == epoch]\n",
    "    t = t[['px', 'py', 'cx', 'cy']]\n",
    "    return t\n",
    "\n",
    "def hist_tdf(epoch):\n",
    "    bins = 500\n",
    "    rng = (-25, 25)\n",
    "    hist_df(tdf_sos, selector=lambda t: sel_cam_epoch(t, epoch), rng=rng, bins=bins)"
   ]
  },
  {
   "cell_type": "code",
   "execution_count": null,
   "metadata": {},
   "outputs": [],
   "source": [
    "hist_tdf(0)"
   ]
  },
  {
   "cell_type": "code",
   "execution_count": null,
   "metadata": {},
   "outputs": [],
   "source": [
    "hist_tdf(1)"
   ]
  },
  {
   "cell_type": "code",
   "execution_count": null,
   "metadata": {
    "scrolled": true
   },
   "outputs": [],
   "source": [
    "hist_tdf(2)"
   ]
  },
  {
   "cell_type": "markdown",
   "metadata": {},
   "source": [
    "# Find RULE ML Debugging\n",
    "\n",
    "- shuffle feature[n] "
   ]
  },
  {
   "cell_type": "code",
   "execution_count": null,
   "metadata": {},
   "outputs": [],
   "source": [
    "\n",
    "\n",
    "\n",
    "\n",
    "\n",
    "\n",
    "\n",
    "\n",
    "\n",
    "\n",
    "\n",
    "\n",
    "\n",
    "\n",
    "\n",
    "\n",
    "\n",
    "\n",
    "\n"
   ]
  },
  {
   "cell_type": "markdown",
   "metadata": {},
   "source": [
    "# SO1: upper >> mid case"
   ]
  },
  {
   "cell_type": "code",
   "execution_count": null,
   "metadata": {},
   "outputs": [],
   "source": [
    "# SO1 & -5<py<-7 & -3<cy<0\n",
    "bdf = df_so1[(-6.5<df_so1.py) & (df_so1.py<-5.5) & (-1.5<df_so1.cy) & (df_so1.cy<0)]\n",
    "bdf.describe()"
   ]
  },
  {
   "cell_type": "code",
   "execution_count": null,
   "metadata": {
    "scrolled": true
   },
   "outputs": [],
   "source": [
    "bad_so1 = bdf.uid[10:40].values.tolist()\n",
    "bad_so1 = ar.get_all(bad_so1)\n",
    "show_items(bad_so1, figsize=(100,100))"
   ]
  },
  {
   "cell_type": "code",
   "execution_count": null,
   "metadata": {
    "scrolled": false
   },
   "outputs": [],
   "source": [
    "\"\"\" original SO1 y 장축 가운데 응시 \"\"\"\n",
    "dfso1 = dfo[0]\n",
    "gdf_c = dfso1[(-7<dfso1.cy) & (dfso1.cy<-5)]\n",
    "gdf_c.describe()"
   ]
  },
  {
   "cell_type": "code",
   "execution_count": null,
   "metadata": {
    "scrolled": true
   },
   "outputs": [],
   "source": [
    "good_so1 = gdf_c.uid[30:40].values.tolist()\n",
    "good_so1 = ar.get_all(good_so1)\n",
    "show_items(good_so1, figsize=(100,100))"
   ]
  },
  {
   "cell_type": "code",
   "execution_count": null,
   "metadata": {},
   "outputs": [],
   "source": [
    "\"\"\" original SO1 y 장축 상단 응시 \"\"\"\n",
    "orig_so1_upper_df = dfo[0]\n",
    "orig_so1_upper_df = orig_so1_upper_df[(-1.5<orig_so1_upper_df.cy) & (orig_so1_upper_df.cy<0)]\n",
    "orig_so1_upper_df.describe()"
   ]
  },
  {
   "cell_type": "code",
   "execution_count": null,
   "metadata": {},
   "outputs": [],
   "source": [
    "origin_upper = orig_so1_upper_df.uid[80:100].values.tolist()\n",
    "origin_upper = ar.get_all(origin_upper)\n",
    "show_items(origin_upper, figsize=(100,100))"
   ]
  },
  {
   "cell_type": "markdown",
   "metadata": {},
   "source": [
    "# 예측값과 실제값의 편차 분포\n",
    "\n",
    "- 왜 +-5를 기준으로 피크를 가질까? \n",
    "   - -10을 -6으로, -1을 -6으로 예측하기 때문\n",
    "   - 원 데이터 평균 -6.47\n",
    "- 만약 cy가 uniform dist하면 양상이 달라질까? \n",
    "- 또한, 원 데이터에서 -10, -8, -7 -6, -1.5, -1 점의 데이터가 많다\n",
    "- 상대적으로 이 피크의 추이가 py의 추이가 유사해 보인다\n",
    "- SO1 Y구간은 (장축) (-1.4, -26)"
   ]
  },
  {
   "cell_type": "code",
   "execution_count": null,
   "metadata": {},
   "outputs": [],
   "source": []
  }
 ],
 "metadata": {
  "kernelspec": {
   "display_name": "Python 3",
   "language": "python",
   "name": "python3"
  },
  "language_info": {
   "codemirror_mode": {
    "name": "ipython",
    "version": 3
   },
   "file_extension": ".py",
   "mimetype": "text/x-python",
   "name": "python",
   "nbconvert_exporter": "python",
   "pygments_lexer": "ipython3",
   "version": "3.6.3"
  }
 },
 "nbformat": 4,
 "nbformat_minor": 2
}
