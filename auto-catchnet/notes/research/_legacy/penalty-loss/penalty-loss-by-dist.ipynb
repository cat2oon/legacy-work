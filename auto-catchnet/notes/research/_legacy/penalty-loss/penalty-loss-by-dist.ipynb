{
 "cells": [
  {
   "cell_type": "markdown",
   "metadata": {},
   "source": [
    "# Custom Loss\n"
   ]
  },
  {
   "cell_type": "markdown",
   "metadata": {},
   "source": [
    "# import"
   ]
  },
  {
   "cell_type": "code",
   "execution_count": null,
   "metadata": {},
   "outputs": [],
   "source": [
    "import sys\n",
    "import time \n",
    "import math\n",
    "import pandas as pd\n",
    "import matplotlib.pyplot as plt\n",
    "\n",
    "%matplotlib inline\n",
    "\n",
    "sys.path.append(\"../../../\")\n",
    "\n",
    "%run ../../../ai/tf/setup/sess.py\n",
    "%run ../../../ai/common/images.py\n",
    "%run ../../../ai/nas/everyone/micro/model_inputs.py\n",
    "%run ../../../ac/profile/measure_time.py"
   ]
  },
  {
   "cell_type": "markdown",
   "metadata": {},
   "source": [
    "# load dataset"
   ]
  },
  {
   "cell_type": "code",
   "execution_count": null,
   "metadata": {
    "scrolled": false
   },
   "outputs": [],
   "source": [
    "tf_src_path = \"/home/chy/archive-data/processed/everyone-tfr-candide\"\n",
    "tfrecord_files = glob.glob(os.path.join(tf_src_path, '*.tfr'))\n",
    "\n",
    "batch_size = 8\n",
    "for_lab = tfrecord_files[0:150]\n",
    "data_iter = to_dataset(for_lab, batch_size=batch_size)\n",
    "t_uid, t_frame, t_face, t_le, t_re, t_so, t_cam_x, t_cam_y, t_cam_to_x, t_cam_to_y, t_candide = data_iter.get_next()\n",
    "tensors = [t_uid, t_frame, t_face, t_le, t_re, t_so, t_cam_x, t_cam_y, t_cam_to_x, t_cam_to_y, t_candide]"
   ]
  },
  {
   "cell_type": "markdown",
   "metadata": {},
   "source": [
    "# Miscellaneous"
   ]
  },
  {
   "cell_type": "code",
   "execution_count": null,
   "metadata": {},
   "outputs": [],
   "source": [
    "class TimeHistory(tf.keras.callbacks.Callback):\n",
    "    def on_train_begin(self, logs={}):\n",
    "        self.times = []\n",
    "\n",
    "    def on_epoch_begin(self, batch, logs={}):\n",
    "        self.last_epoch_start = time.time()\n",
    "\n",
    "    def on_epoch_end(self, batch, logs={}):\n",
    "        self.times.append(time.time() - self.last_epoch_start)\n",
    "        \n",
    "    def on_train_end(self, logs={}):\n",
    "        print('\\n==> Total time elapsed: ', self.total_time())\n",
    "        \n",
    "    def total_time(self): \n",
    "        return sum(self.times)"
   ]
  },
  {
   "cell_type": "markdown",
   "metadata": {},
   "source": [
    "# Load dataset"
   ]
  },
  {
   "cell_type": "code",
   "execution_count": null,
   "metadata": {},
   "outputs": [],
   "source": [
    "size = 10000\n",
    "x_train = []\n",
    "y_train = []\n",
    "x_test = []\n",
    "y_test = []\n",
    "\n",
    "with tf.Session(config=get_sess_config()) as sess:\n",
    "    sess.run(data_iter.initializer)\n",
    "    \n",
    "    for i in range(size):\n",
    "        _, _, _, _, _, so, cam_x, cam_y, cam_to_x, cam_to_y, candide = sess.run(tensors)\n",
    "        for j in range(batch_size-1):\n",
    "            X = np.split(candide[j], 20) + [cam_to_x[j], cam_to_y[j]]\n",
    "            x_train.append(X)\n",
    "            y_train.append((cam_x[j], cam_y[j]))"
   ]
  },
  {
   "cell_type": "markdown",
   "metadata": {},
   "source": [
    "# model"
   ]
  },
  {
   "cell_type": "code",
   "execution_count": null,
   "metadata": {},
   "outputs": [],
   "source": [
    "l2_reg = tf.keras.regularizers.l2\n",
    "model = tf.keras.models.Sequential([\n",
    "    tf.keras.layers.Flatten(),\n",
    "  \n",
    "    tf.keras.layers.Dense(512, kernel_regularizer=l2_reg(0.001)),\n",
    "    tf.keras.layers.BatchNormalization(),\n",
    "    tf.keras.layers.Activation('relu'),\n",
    "    tf.keras.layers.Dropout(0.3),\n",
    "    \n",
    "    tf.keras.layers.Dense(2)\n",
    "])\n",
    "\n",
    "model.compile(optimizer='adam', loss='mean_squared_error', metrics=['accuracy'])\n",
    "timeHistory = TimeHistory()"
   ]
  },
  {
   "cell_type": "markdown",
   "metadata": {},
   "source": [
    "# train\n",
    "\n",
    "\n",
    "|#batch|loss|acc|val loss|val acc|\n",
    "|-|-|-|-|-|\n",
    "|1|\n",
    "|2|\n",
    "|4|\n",
    "\n",
    "\n",
    "<br>"
   ]
  },
  {
   "cell_type": "code",
   "execution_count": null,
   "metadata": {
    "scrolled": true
   },
   "outputs": [],
   "source": [
    "tx = df_train_x.values\n",
    "ty = df_train_y.values\n",
    "vx = df_test_x.values\n",
    "vy = df_test_y.values\n",
    "model.fit(tx, ty, \n",
    "          validation_data=(vx, vy),\n",
    "          callbacks=[timeHistory],\n",
    "          batch_size=8,\n",
    "          verbose=1, \n",
    "          epochs=5)"
   ]
  }
 ],
 "metadata": {
  "kernelspec": {
   "display_name": "Python 3",
   "language": "python",
   "name": "python3"
  },
  "language_info": {
   "codemirror_mode": {
    "name": "ipython",
    "version": 3
   },
   "file_extension": ".py",
   "mimetype": "text/x-python",
   "name": "python",
   "nbconvert_exporter": "python",
   "pygments_lexer": "ipython3",
   "version": "3.6.3"
  }
 },
 "nbformat": 4,
 "nbformat_minor": 2
}
