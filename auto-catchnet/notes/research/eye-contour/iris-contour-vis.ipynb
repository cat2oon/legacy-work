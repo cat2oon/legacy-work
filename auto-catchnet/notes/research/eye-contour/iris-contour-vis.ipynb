{
 "cells": [
  {
   "cell_type": "markdown",
   "metadata": {},
   "source": [
    "# eye contour vis"
   ]
  },
  {
   "cell_type": "markdown",
   "metadata": {},
   "source": [
    "# imports"
   ]
  },
  {
   "cell_type": "code",
   "execution_count": 3,
   "metadata": {},
   "outputs": [
    {
     "name": "stderr",
     "output_type": "stream",
     "text": [
      "Using TensorFlow backend.\n"
     ]
    }
   ],
   "source": [
    "import keras\n",
    "from keras.layers import ReLU\n",
    "from keras.utils.generic_utils import CustomObjectScope\n",
    "\n",
    "\n",
    "def load_modules():\n",
    "    import sys\n",
    "    import warnings\n",
    "    import numpy as np\n",
    "    sys.path.append(\"../../../\")\n",
    "    warnings.filterwarnings(\"ignore\")\n",
    "    np.set_printoptions(precision=6, suppress=True)\n",
    "    \n",
    "    %run ../../../ac/images/loader.py\n",
    "    %run ../../../ac/images/filters/filters.py\n",
    "    %run ../../../ac/common/images.py\n",
    "    %run ../../../ac/visualizer/plotter.py\n",
    "    %run ../../../ai/model/iris/deeplab/iris.py\n",
    "    %run ../../../ai/model/iris/simple/iris.py\n",
    "    %run ../../../ai/libs/keras/models/loader.py\n",
    "    \n",
    "load_modules()"
   ]
  },
  {
   "cell_type": "markdown",
   "metadata": {},
   "source": [
    "# load model"
   ]
  },
  {
   "cell_type": "code",
   "execution_count": 1,
   "metadata": {},
   "outputs": [],
   "source": [
    "def load_deeplab_model():\n",
    "    model_path = \"/home/chy/dev-bench/auto-catch/notes/research/eye-contour/iris-pilot.json\"\n",
    "    weight_path = \"/home/chy/archive-model/incubator/iris-contour/iris-01-0.0000023.hdf5\"\n",
    "\n",
    "    with CustomObjectScope({\n",
    "        'relu6': relu6,\n",
    "        'BilinearUpsampling': BilinearUpsampling\n",
    "    }):\n",
    "        model = KerasLoader.load_model(model_path, weight_path)\n",
    "    return model\n",
    "\n",
    "def load_simple_model():\n",
    "    model_path = \"/home/chy/dev-bench/auto-catch/notes/research/eye-contour/iris-pilot-simple.json\"\n",
    "    weight_path = \"/home/chy/archive-model/incubator/iris-contour/iris-08-3.9389895.hdf5\"\n",
    "    model = KerasLoader.load_model(model_path, weight_path)\n",
    "    return model\n",
    "\n",
    "def load_unet_model():\n",
    "    model_path = \"/home/chy/dev-bench/auto-catch/notes/research/eye-contour/iris-pilot-uiris.json\"\n",
    "    weight_path = \"/home/chy/archive-model/incubator/iris-contour/iris-u-01-0.5065930.hdf5\"\n",
    "    model = KerasLoader.load_model(model_path, weight_path)\n",
    "    return model\n",
    "\n",
    "def load_deepeye_model():\n",
    "    # https://github.com/keras-team/keras/issues/5298 \n",
    "    # lambda layer 내부에 import tensorflow as tf 정의하면 수정됨\n",
    "    model_path = \"/home/chy/dev-bench/auto-catch/notes/research/eye-contour/iris-deepeye-tf.json\"\n",
    "    weight_path = \"/home/chy/archive-model/incubator/iris-contour/deepeye-04-0.0336143.hdf5\"\n",
    "    model = KerasLoader.load_model(model_path, weight_path)\n",
    "    return model"
   ]
  },
  {
   "cell_type": "code",
   "execution_count": 4,
   "metadata": {},
   "outputs": [],
   "source": [
    "im = load_deepeye_model()"
   ]
  },
  {
   "cell_type": "markdown",
   "metadata": {},
   "source": [
    "# load test samples"
   ]
  },
  {
   "cell_type": "code",
   "execution_count": 11,
   "metadata": {},
   "outputs": [],
   "source": [
    "def get_img(name, ext=\"jpg\"):\n",
    "    base_path = \"/home/chy/dev-bench/auto-catch/notes/research/eye-contour/test-samples/\"\n",
    "    img_path = \"{}/{}.{}\".format(base_path, name, ext)\n",
    "    img = load_image(img_path)\n",
    "    img = resize(img, (64, 64))\n",
    "    return img"
   ]
  },
  {
   "cell_type": "code",
   "execution_count": 12,
   "metadata": {
    "scrolled": true
   },
   "outputs": [],
   "source": [
    "s01 = get_img(\"tc01\")\n",
    "x01 = get_img(\"x3500\")\n",
    "x02 = get_img(\"x3507\")\n",
    "s02 = get_img(\"tc02\", \"png\")"
   ]
  },
  {
   "cell_type": "markdown",
   "metadata": {},
   "source": [
    "# vis"
   ]
  },
  {
   "cell_type": "code",
   "execution_count": 36,
   "metadata": {},
   "outputs": [],
   "source": [
    "def vis_dl(img):\n",
    "    inputs = np.array([rgb_to_bgr(img)])\n",
    "    pred = im.predict(inputs)\n",
    "    \n",
    "    class_map = pred[0]\n",
    "    class_map = np.argmax(class_map, axis=-1)\n",
    "    class_map = np.reshape(class_map, (112, 112, 1))\n",
    "    # class_map *= 255\n",
    "    print(class_map.shape)\n",
    "    print( (class_map > 0).sum() )\n",
    "    show_image(class_map, fig_size=(3,3))\n",
    "    show_image(img, fig_size=(3, 3))\n",
    "    # draw_ellipse_on(ax, (cx, cy), w, h, phi)\n",
    "    \n",
    "def vis_sim(img):\n",
    "    inputs = np.array([rgb_to_bgr(img)])\n",
    "    pred = im.predict(inputs)\n",
    "    # cx, cy, w, h, phi = pred[0]\n",
    "    cx, cy = pred[0]\n",
    "    print(cx, cy)\n",
    "    \n",
    "    ax = show_image(img, fig_size=(3, 3))\n",
    "    draw_point(ax, cx, cy)\n",
    "    \n",
    "def vis_u(img):\n",
    "    inputs = np.array([rgb_to_bgr(img)])\n",
    "    pred = im.predict(inputs)\n",
    "    \n",
    "    class_map = np.squeeze(pred)\n",
    "    class_map = class_map[:,1]\n",
    "    class_map = class_map * (class_map > 0.49)\n",
    "    class_map = np.reshape(class_map, (112, 112, 1))\n",
    "    show_image(img, fig_size=(3, 3))\n",
    "    show_image(class_map, fig_size=(3, 3))\n",
    "    \n",
    "def vis_de(img):\n",
    "    inputs = np.array([rgb_to_bgr(img)])\n",
    "    pred = im.predict(inputs)\n",
    "    \n",
    "    class_map = np.squeeze(pred)\n",
    "    class_map = class_map[:,:,1]\n",
    "    print(class_map.shape)\n",
    "    class_map = np.reshape(class_map, (64, 64, 1))\n",
    "    show_image(img, fig_size=(3, 3))\n",
    "    show_image(class_map, fig_size=(3, 3))"
   ]
  },
  {
   "cell_type": "code",
   "execution_count": 43,
   "metadata": {},
   "outputs": [
    {
     "name": "stdout",
     "output_type": "stream",
     "text": [
      "(64, 64)\n"
     ]
    },
    {
     "data": {
      "image/png": "[encoded data removed]",
      "text/plain": [
       "<Figure size 216x216 with 1 Axes>"
      ]
     },
     "metadata": {
      "needs_background": "light"
     },
     "output_type": "display_data"
    },
    {
     "data": {
      "image/png": "[encoded data removed]",
      "text/plain": [
       "<Figure size 216x216 with 1 Axes>"
      ]
     },
     "metadata": {
      "needs_background": "light"
     },
     "output_type": "display_data"
    }
   ],
   "source": [
    "vis_de(x02)"
   ]
  }
 ],
 "metadata": {
  "kernelspec": {
   "display_name": "venv python3",
   "language": "python",
   "name": "python3"
  },
  "language_info": {
   "codemirror_mode": {
    "name": "ipython",
    "version": 3
   },
   "file_extension": ".py",
   "mimetype": "text/x-python",
   "name": "python",
   "nbconvert_exporter": "python",
   "pygments_lexer": "ipython3",
   "version": "3.6.3"
  }
 },
 "nbformat": 4,
 "nbformat_minor": 2
}
