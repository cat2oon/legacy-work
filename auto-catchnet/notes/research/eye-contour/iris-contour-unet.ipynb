{
 "cells": [
  {
   "cell_type": "markdown",
   "metadata": {},
   "source": [
    "# iris center - UNet"
   ]
  },
  {
   "cell_type": "markdown",
   "metadata": {},
   "source": [
    "# import"
   ]
  },
  {
   "cell_type": "code",
   "execution_count": 1,
   "metadata": {},
   "outputs": [
    {
     "name": "stderr",
     "output_type": "stream",
     "text": [
      "Using TensorFlow backend.\n"
     ]
    }
   ],
   "source": [
    "import keras\n",
    "from keras import backend as K\n",
    "\n",
    "def load_modules():\n",
    "    import sys\n",
    "    import numpy as np\n",
    "    import warnings\n",
    "    \n",
    "    sys.path.append(\"../../../\")\n",
    "    warnings.filterwarnings(\"ignore\")\n",
    "    np.set_printoptions(precision=6, suppress=True)\n",
    "    \n",
    "    %run ../../../ds/icontour/npz/gen.py\n",
    "    %run ../../../ac/visualizer/plotter.py\n",
    "    %run ../../../ai/model/iris/unet/iris.py\n",
    "    %run ../../../ai/libs/keras/callbacks/history.py\n",
    "    %run ../../../ai/libs/keras/callbacks/stopper.py\n",
    "    %run ../../../ai/libs/keras/callbacks/tensorboard.py\n",
    "    %run ../../../ai/libs/keras/callbacks/checkpoint.py\n",
    "        \n",
    "load_modules()"
   ]
  },
  {
   "cell_type": "markdown",
   "metadata": {},
   "source": [
    "# backbone model"
   ]
  },
  {
   "cell_type": "code",
   "execution_count": 2,
   "metadata": {
    "scrolled": true
   },
   "outputs": [
    {
     "name": "stdout",
     "output_type": "stream",
     "text": [
      "__________________________________________________________________________________________________\n",
      "Layer (type)                    Output Shape         Param #     Connected to                     \n",
      "==================================================================================================\n",
      "input_1 (InputLayer)            (None, 112, 112, 3)  0                                            \n",
      "__________________________________________________________________________________________________\n",
      "conv2d_1 (Conv2D)               (None, 112, 112, 32) 896         input_1[0][0]                    \n",
      "__________________________________________________________________________________________________\n",
      "dropout_1 (Dropout)             (None, 112, 112, 32) 0           conv2d_1[0][0]                   \n",
      "__________________________________________________________________________________________________\n",
      "conv2d_2 (Conv2D)               (None, 112, 112, 32) 9248        dropout_1[0][0]                  \n",
      "__________________________________________________________________________________________________\n",
      "max_pooling2d_1 (MaxPooling2D)  (None, 56, 56, 32)   0           conv2d_2[0][0]                   \n",
      "__________________________________________________________________________________________________\n",
      "conv2d_3 (Conv2D)               (None, 56, 56, 64)   18496       max_pooling2d_1[0][0]            \n",
      "__________________________________________________________________________________________________\n",
      "dropout_2 (Dropout)             (None, 56, 56, 64)   0           conv2d_3[0][0]                   \n",
      "__________________________________________________________________________________________________\n",
      "conv2d_4 (Conv2D)               (None, 56, 56, 64)   36928       dropout_2[0][0]                  \n",
      "__________________________________________________________________________________________________\n",
      "max_pooling2d_2 (MaxPooling2D)  (None, 28, 28, 64)   0           conv2d_4[0][0]                   \n",
      "__________________________________________________________________________________________________\n",
      "conv2d_5 (Conv2D)               (None, 28, 28, 128)  73856       max_pooling2d_2[0][0]            \n",
      "__________________________________________________________________________________________________\n",
      "dropout_3 (Dropout)             (None, 28, 28, 128)  0           conv2d_5[0][0]                   \n",
      "__________________________________________________________________________________________________\n",
      "conv2d_6 (Conv2D)               (None, 28, 28, 128)  147584      dropout_3[0][0]                  \n",
      "__________________________________________________________________________________________________\n",
      "up_sampling2d_1 (UpSampling2D)  (None, 56, 56, 128)  0           conv2d_6[0][0]                   \n",
      "__________________________________________________________________________________________________\n",
      "concatenate_1 (Concatenate)     (None, 56, 56, 192)  0           conv2d_4[0][0]                   \n",
      "                                                                 up_sampling2d_1[0][0]            \n",
      "__________________________________________________________________________________________________\n",
      "conv2d_7 (Conv2D)               (None, 56, 56, 64)   110656      concatenate_1[0][0]              \n",
      "__________________________________________________________________________________________________\n",
      "dropout_4 (Dropout)             (None, 56, 56, 64)   0           conv2d_7[0][0]                   \n",
      "__________________________________________________________________________________________________\n",
      "conv2d_8 (Conv2D)               (None, 56, 56, 64)   36928       dropout_4[0][0]                  \n",
      "__________________________________________________________________________________________________\n",
      "up_sampling2d_2 (UpSampling2D)  (None, 112, 112, 64) 0           conv2d_8[0][0]                   \n",
      "__________________________________________________________________________________________________\n",
      "concatenate_2 (Concatenate)     (None, 112, 112, 96) 0           conv2d_2[0][0]                   \n",
      "                                                                 up_sampling2d_2[0][0]            \n",
      "__________________________________________________________________________________________________\n",
      "conv2d_9 (Conv2D)               (None, 112, 112, 32) 27680       concatenate_2[0][0]              \n",
      "__________________________________________________________________________________________________\n",
      "dropout_5 (Dropout)             (None, 112, 112, 32) 0           conv2d_9[0][0]                   \n",
      "__________________________________________________________________________________________________\n",
      "conv2d_10 (Conv2D)              (None, 112, 112, 32) 9248        dropout_5[0][0]                  \n",
      "__________________________________________________________________________________________________\n",
      "conv2d_11 (Conv2D)              (None, 112, 112, 2)  66          conv2d_10[0][0]                  \n",
      "__________________________________________________________________________________________________\n",
      "reshape_1 (Reshape)             (None, 2, 12544)     0           conv2d_11[0][0]                  \n",
      "__________________________________________________________________________________________________\n",
      "permute_1 (Permute)             (None, 12544, 2)     0           reshape_1[0][0]                  \n",
      "__________________________________________________________________________________________________\n",
      "class-map-softmax (Activation)  (None, 12544, 2)     0           permute_1[0][0]                  \n",
      "==================================================================================================\n",
      "Total params: 471,586\n",
      "Trainable params: 471,586\n",
      "Non-trainable params: 0\n",
      "__________________________________________________________________________________________________\n"
     ]
    }
   ],
   "source": [
    "INPUT_SHAPE=(112, 112, 3)\n",
    "im = make_uiris_net(input_shape=INPUT_SHAPE)\n",
    "im.summary()"
   ]
  },
  {
   "cell_type": "markdown",
   "metadata": {},
   "source": [
    "# callback"
   ]
  },
  {
   "cell_type": "code",
   "execution_count": 3,
   "metadata": {},
   "outputs": [],
   "source": [
    "chk_path = \"/home/chy/archive-model/incubator/iris-contour/iris-u-{epoch:02d}-{val_loss:.7f}.hdf5\"\n",
    "\n",
    "history = TimeHistory()\n",
    "checkpoint = model_checkpoint(chk_path)\n",
    "tensorboard = TensorBoard()\n",
    "stopper = EarlyStopping(monitor='val_loss', \n",
    "                        min_delta=0, \n",
    "                        patience=5, \n",
    "                        verbose=0, \n",
    "                        mode='auto', \n",
    "                        baseline=None, \n",
    "                        restore_best_weights=True)\n",
    "\n",
    "callbacks = [history, checkpoint, stopper, tensorboard]"
   ]
  },
  {
   "cell_type": "code",
   "execution_count": 4,
   "metadata": {},
   "outputs": [],
   "source": [
    "EXP_CODE = \"pilot-uiris\"\n",
    "NUM_EPOCH = 20\n",
    "BATCH_SIZE = 64"
   ]
  },
  {
   "cell_type": "markdown",
   "metadata": {},
   "source": [
    "# model save"
   ]
  },
  {
   "cell_type": "code",
   "execution_count": null,
   "metadata": {},
   "outputs": [],
   "source": [
    "model_json = im.to_json()\n",
    "with open(\"./iris-{}.json\".format(EXP_CODE), \"w\") as json_file : \n",
    "    json_file.write(model_json)"
   ]
  },
  {
   "cell_type": "markdown",
   "metadata": {},
   "source": [
    "# train report\n",
    "\n",
    "#### Table\n",
    "|exp|aug|rot|type|comment|\n",
    "|---|---|---|---|---|\n",
    "|pilot|x|x|타원 파라미터 추론||"
   ]
  },
  {
   "cell_type": "markdown",
   "metadata": {},
   "source": [
    "# train"
   ]
  },
  {
   "cell_type": "code",
   "execution_count": null,
   "metadata": {
    "scrolled": true
   },
   "outputs": [
    {
     "name": "stdout",
     "output_type": "stream",
     "text": [
      "*** meta verify complete [Unknown] ***\n",
      "*** meta verify complete [Unknown] ***\n"
     ]
    }
   ],
   "source": [
    "# npz_path = \"/media/chy/1326657F605F16F2/processed/iris-contour-npz/\"\n",
    "# npz_path = \"/home/chy/archive-data/processed/iris-contour-npz/unity\"\n",
    "# npz_path = \"/home/chy/archive-data/processed/iris-contour-npz/unity-partial\"\n",
    "npz_path = \"/home/chy/archive-data/processed/iris-contour-npz/vc\"\n",
    "# npz_path = \"/home/chy/archive-data/processed/iris-contour-npz/vc-partial\"\n",
    "\n",
    "gen_train = IrisContourGenerator(npz_base_path=npz_path, \n",
    "                                 batch_size=BATCH_SIZE, \n",
    "                                 purpose=Purpose.TRAIN,\n",
    "                                 is_ellipse_mode=False,\n",
    "                                 use_aug=True)\n",
    "\n",
    "gen_valid = IrisContourGenerator(npz_base_path=npz_path, \n",
    "                                 batch_size=BATCH_SIZE, \n",
    "                                 purpose=Purpose.VALID,\n",
    "                                 is_ellipse_mode=False,\n",
    "                                 use_aug=False)"
   ]
  },
  {
   "cell_type": "code",
   "execution_count": null,
   "metadata": {
    "scrolled": true
   },
   "outputs": [
    {
     "name": "stdout",
     "output_type": "stream",
     "text": [
      "Epoch 1/20\n",
      "31242/31242 [==============================] - 43683s 1s/step - loss: 0.5346 - acc: 0.8805 - val_loss: 0.5066 - val_acc: 0.8981\n",
      "Epoch 2/20\n",
      " 3076/31242 [=>............................] - ETA: 9:02:36 - loss: 0.5098 - acc: 0.8961"
     ]
    }
   ],
   "source": [
    "im.fit_generator(generator=gen_train,\n",
    "                 validation_data=gen_valid,\n",
    "                 callbacks=callbacks,\n",
    "                 epochs=NUM_EPOCH,\n",
    "                 workers=16, \n",
    "                 use_multiprocessing=True,\n",
    "                 shuffle=True)"
   ]
  },
  {
   "cell_type": "markdown",
   "metadata": {},
   "source": [
    "# test"
   ]
  },
  {
   "cell_type": "code",
   "execution_count": null,
   "metadata": {},
   "outputs": [],
   "source": [
    "gen_valid = IrisContourGenerator(npz_base_path=npz_path, \n",
    "                                  batch_size=BATCH_SIZE, \n",
    "                                  purpose=Purpose.TEST,\n",
    "                                  is_ellipse_mode=False,\n",
    "                                  use_aug=True)"
   ]
  }
 ],
 "metadata": {
  "kernelspec": {
   "display_name": "venv python3",
   "language": "python",
   "name": "python3"
  }
 },
 "nbformat": 4,
 "nbformat_minor": 2
}
