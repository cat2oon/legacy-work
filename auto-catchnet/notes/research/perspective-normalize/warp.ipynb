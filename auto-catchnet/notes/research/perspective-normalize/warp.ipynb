{
 "cells": [
  {
   "cell_type": "markdown",
   "metadata": {},
   "source": [
    "# nomalize (perspective warping)"
   ]
  },
  {
   "cell_type": "code",
   "execution_count": 17,
   "metadata": {},
   "outputs": [],
   "source": [
    "import cv2\n",
    "import math\n",
    "import sys\n",
    "\n",
    "sys.path.append(\"../../../\")\n",
    "%run ../../../ac/common/images.py\n",
    "%run ../../../ac/filesystem/greps.py\n",
    "%run ../../../ac/visualizer/plotter.py\n",
    "\n",
    "%run ../../../al/actor/face.py\n",
    "%run ../../../al/actor/camera.py\n",
    "%run ../../../al/feature/face/candide.py\n",
    "\n",
    "%run ../../../ds/device/nexus5x.py"
   ]
  },
  {
   "cell_type": "markdown",
   "metadata": {},
   "source": [
    "# resources"
   ]
  },
  {
   "cell_type": "code",
   "execution_count": 2,
   "metadata": {},
   "outputs": [],
   "source": [
    "candide_path=\"/home/chy/archive-model/candide/candide.npz\"\n",
    "land_mark_path=\"/home/chy/archive-model/candide/shape_predictor_68_face_landmarks.dat\"\n",
    "face_img_dir = \"/home/chy/dev-bench/auto-catch/notes/dataset/profiles/gabe/frames\""
   ]
  },
  {
   "cell_type": "code",
   "execution_count": 3,
   "metadata": {},
   "outputs": [
    {
     "name": "stdout",
     "output_type": "stream",
     "text": [
      "*** img samples 10 ***\n"
     ]
    }
   ],
   "source": [
    "face_imgs = []\n",
    "for path in grep_files(face_img_dir, \"*.jpg\"):\n",
    "    img = cv2.imread(path)\n",
    "    face_imgs.append(img)\n",
    "print(\"*** img samples {} ***\".format(len(face_imgs)))"
   ]
  },
  {
   "cell_type": "markdown",
   "metadata": {},
   "source": [
    "# face"
   ]
  },
  {
   "cell_type": "code",
   "execution_count": 18,
   "metadata": {},
   "outputs": [],
   "source": [
    "candide = Candide(candide_path, land_mark_path)\n",
    "camera = MobileNexus5X.get_camera()\n",
    "\n",
    "opt_predictor = None\n",
    "face_model = FaceModel(candide)\n",
    "face = Face(camera, face_model, opt_predictor, reference_fissure_length=25)"
   ]
  },
  {
   "cell_type": "code",
   "execution_count": 22,
   "metadata": {},
   "outputs": [],
   "source": [
    "face.match(face_imgs[0])\n",
    "face.analysis()"
   ]
  },
  {
   "cell_type": "code",
   "execution_count": null,
   "metadata": {},
   "outputs": [],
   "source": []
  },
  {
   "cell_type": "code",
   "execution_count": 6,
   "metadata": {},
   "outputs": [],
   "source": [
    "def rotate_3d_in_2d_image(img, x_degree=0, y_degree=0, z_degree=0, dx=0, dy=0, dz=0, focal_dist=1):\n",
    "    cos = lambda x: math.cos(x  * math.pi / 180)\n",
    "    sin = lambda x: math.sin(x  * math.pi / 180)\n",
    "    \n",
    "    rot_x = (x_degree - 90.) * math.pi / 180.\n",
    "    rot_y = (y_degree - 90.) * math.pi / 180.\n",
    "    rot_z = (z_degree - 90.) * math.pi / 180.\n",
    "    \n",
    "    h, w = img.shape[0], img.shape[1]\n",
    "    \n",
    "    # projection 2D -> 3D matrix\n",
    "    proj23_mat = np.matrix([\n",
    "        [1, 0, -w/2],\n",
    "        [0, 1, -h/2],\n",
    "        [0, 0, 1],    # [0, 0, 0]이 아니지 않나?\n",
    "        [0, 0, 1]])\n",
    "    \n",
    "    # rotation matrix each x, y, z\n",
    "    rot_x_mat = np.matrix([\n",
    "        [1, 0,           0,           0],\n",
    "        [0, cos(rot_x), -sin(rot_x),  0],\n",
    "        [0, sin(rot_x),  cos(rot_x),  0],\n",
    "        [0, 0,           0,           1]])\n",
    "    \n",
    "    rot_y_mat = np.matrix([\n",
    "        [cos(rot_y), 0, -sin(rot_y),  0],\n",
    "        [0,          1,  0,           0],\n",
    "        [sin(rot_y), 0,  cos(rot_y),  0],\n",
    "        [0,          0,  0,           1]])\n",
    "\n",
    "    rot_z_mat = np.matrix([\n",
    "        [cos(rot_z), -sin(rot_z),  0, 0],\n",
    "        [sin(rot_z),  cos(rot_z),  0, 0],\n",
    "        [0,           0,           1, 0],\n",
    "        [0,           0,           0, 1]])\n",
    "    \n",
    "    rot_mat = rot_x_mat @ rot_y_mat @ rot_z_mat\n",
    "    \n",
    "    # translation matrix\n",
    "    t_mat = np.matrix([\n",
    "        [1, 0, 0, dx],\n",
    "        [0, 1, 0, dy],\n",
    "        [0, 0, 1, dz],\n",
    "        [0, 0, 0, 1]])\n",
    "    \n",
    "    # projection 3D -> 2D matrix\n",
    "    f = focal_dist\n",
    "    proj32_mat = np.matrix([\n",
    "        [f, 0, w/2, 0],\n",
    "        [0, f, h/2, 0],\n",
    "        [0, 0, 1,   0]])\n",
    "    \n",
    "    tran_mat = proj32_mat @ t_mat @ rot_mat @ proj23_mat\n",
    "    transformed_img = cv2.warpPerspective(img, tran_mat, (w, h), flags=cv2.WARP_INVERSE_MAP)\n",
    "    \n",
    "    return transformed_img"
   ]
  },
  {
   "cell_type": "code",
   "execution_count": 7,
   "metadata": {},
   "outputs": [
    {
     "ename": "NameError",
     "evalue": "name 'gi' is not defined",
     "output_type": "error",
     "traceback": [
      "\u001b[0;31m---------------------------------------------------------------------------\u001b[0m",
      "\u001b[0;31mNameError\u001b[0m                                 Traceback (most recent call last)",
      "\u001b[0;32m<ipython-input-7-e1aebde2e3ab>\u001b[0m in \u001b[0;36m<module>\u001b[0;34m\u001b[0m\n\u001b[0;32m----> 1\u001b[0;31m \u001b[0mout\u001b[0m \u001b[0;34m=\u001b[0m \u001b[0mrotate_3d_in_2d_image\u001b[0m\u001b[0;34m(\u001b[0m\u001b[0mgi\u001b[0m\u001b[0;34m,\u001b[0m \u001b[0;36m87\u001b[0m\u001b[0;34m,\u001b[0m \u001b[0;36m85\u001b[0m\u001b[0;34m,\u001b[0m \u001b[0;36m90\u001b[0m\u001b[0;34m,\u001b[0m \u001b[0mdy\u001b[0m\u001b[0;34m=\u001b[0m\u001b[0;36m300\u001b[0m\u001b[0;34m,\u001b[0m \u001b[0mfocal_dist\u001b[0m\u001b[0;34m=\u001b[0m\u001b[0;36m1.2\u001b[0m\u001b[0;34m)\u001b[0m\u001b[0;34m\u001b[0m\u001b[0m\n\u001b[0m\u001b[1;32m      2\u001b[0m \u001b[0mshow_image\u001b[0m\u001b[0;34m(\u001b[0m\u001b[0mout\u001b[0m\u001b[0;34m)\u001b[0m\u001b[0;34m\u001b[0m\u001b[0m\n",
      "\u001b[0;31mNameError\u001b[0m: name 'gi' is not defined"
     ]
    }
   ],
   "source": [
    "out = rotate_3d_in_2d_image(gi, 87, 85, 90, dy=300, focal_dist=1.2)\n",
    "show_image(out)"
   ]
  }
 ],
 "metadata": {
  "kernelspec": {
   "display_name": "venv python3",
   "language": "python",
   "name": "python3"
  },
  "language_info": {
   "codemirror_mode": {
    "name": "ipython",
    "version": 3
   },
   "file_extension": ".py",
   "mimetype": "text/x-python",
   "name": "python",
   "nbconvert_exporter": "python",
   "pygments_lexer": "ipython3",
   "version": "3.6.3"
  }
 },
 "nbformat": 4,
 "nbformat_minor": 2
}
